{
  "cells": [
    {
      "cell_type": "markdown",
      "metadata": {
        "id": "tyN5gj274OgN"
      },
      "source": [
        "# Time Series Forecasting\n",
        "\n",
        "Today you are an MLE in the Personalization Department in Macy's cosmetics!\n",
        "Your goal is to predict outcomes of online browsing sessions, namely predicting if the next sequence of events/session will result in a purchase or not. \n",
        "\n",
        "Models used in this assignment are similar to https://github.com/guillaume-chevalier/seq2seq-signal-prediction/blob/master/seq2seq.ipynb\n",
        "\n",
        "This work is the modification from the paper: https://arxiv.org/ftp/arxiv/papers/2010/2010.02503.pdf"
      ]
    },
    {
      "cell_type": "markdown",
      "metadata": {
        "id": "dSgZeo39RdMQ"
      },
      "source": [
        "## Task 0: Setup\n",
        "\n",
        "1. If you're in Colab, mount your Google Drive."
      ]
    },
    {
      "cell_type": "code",
      "execution_count": null,
      "metadata": {
        "colab": {
          "base_uri": "https://localhost:8080/"
        },
        "id": "SeHqob1HRdMR",
        "outputId": "6dc09450-0505-43cd-b110-4ebd1cdb09cb"
      },
      "outputs": [
        {
          "output_type": "stream",
          "name": "stdout",
          "text": [
            "Drive already mounted at /content/drive; to attempt to forcibly remount, call drive.mount(\"/content/drive\", force_remount=True).\n"
          ]
        }
      ],
      "source": [
        "from google.colab import drive\n",
        "drive.mount('/content/drive')"
      ]
    },
    {
      "cell_type": "markdown",
      "metadata": {
        "id": "3Chux7t5RdMS"
      },
      "source": [
        "2. Download the `Sequence_Models` folder. It should have two datasets: `shopping.pkl` and `Session_features.pkl`. If you're using Colab, upload them to Google Drive."
      ]
    },
    {
      "cell_type": "markdown",
      "metadata": {
        "id": "G72VpQoe9qyi"
      },
      "source": [
        "## Task 1: Getting familiar with the Data\n",
        "\n",
        "We'll do some data exploration as well as some data munging to get the data in the form we'll need for the models."
      ]
    },
    {
      "cell_type": "markdown",
      "metadata": {
        "id": "0tchc_RSRdMU"
      },
      "source": [
        "1. Read in the dataset and look at the first few rows."
      ]
    },
    {
      "cell_type": "code",
      "execution_count": null,
      "metadata": {
        "colab": {
          "base_uri": "https://localhost:8080/",
          "height": 224
        },
        "id": "wmbHAfRtRdMV",
        "outputId": "8df622b4-9194-4940-d248-d99406316336"
      },
      "outputs": [
        {
          "output_type": "stream",
          "name": "stdout",
          "text": [
            "Shape of data= (1500000, 12)\n"
          ]
        },
        {
          "output_type": "execute_result",
          "data": {
            "text/plain": [
              "           event_time        event_type  product_id          category_id  \\\n",
              "0 2019-12-01 00:00:00  remove_from_cart     5712790  1487580005268456287   \n",
              "1 2019-12-01 00:00:00              view     5764655  1487580005411062629   \n",
              "2 2019-12-01 00:00:02              cart        4958  1487580009471148064   \n",
              "3 2019-12-01 00:00:05              view     5848413  1487580007675986893   \n",
              "4 2019-12-01 00:00:07              view     5824148  1487580005511725929   \n",
              "\n",
              "       brand  price    user_id                          user_session  year  \\\n",
              "0      f.o.x   6.27  576802932  51d85cb0-897f-48d2-918b-ad63965c12dc  2019   \n",
              "1        cnd  29.05  412120092  8adff31e-2051-4894-9758-224bfa8aec18  2019   \n",
              "2     runail   1.19  494077766  c99a50e8-2fac-4c4d-89ec-41c05f114554  2019   \n",
              "3  freedecor   0.79  348405118  722ffea5-73c0-4924-8e8f-371ff8031af4  2019   \n",
              "4        nan   5.56  576005683  28172809-7e4a-45ce-bab0-5efa90117cd5  2019   \n",
              "\n",
              "   month weekday  hour  \n",
              "0     12  Sunday     0  \n",
              "1     12  Sunday     0  \n",
              "2     12  Sunday     0  \n",
              "3     12  Sunday     0  \n",
              "4     12  Sunday     0  "
            ],
            "text/html": [
              "\n",
              "  <div id=\"df-4d0df3ea-dd96-4097-917c-e1eb6ec0bd5f\">\n",
              "    <div class=\"colab-df-container\">\n",
              "      <div>\n",
              "<style scoped>\n",
              "    .dataframe tbody tr th:only-of-type {\n",
              "        vertical-align: middle;\n",
              "    }\n",
              "\n",
              "    .dataframe tbody tr th {\n",
              "        vertical-align: top;\n",
              "    }\n",
              "\n",
              "    .dataframe thead th {\n",
              "        text-align: right;\n",
              "    }\n",
              "</style>\n",
              "<table border=\"1\" class=\"dataframe\">\n",
              "  <thead>\n",
              "    <tr style=\"text-align: right;\">\n",
              "      <th></th>\n",
              "      <th>event_time</th>\n",
              "      <th>event_type</th>\n",
              "      <th>product_id</th>\n",
              "      <th>category_id</th>\n",
              "      <th>brand</th>\n",
              "      <th>price</th>\n",
              "      <th>user_id</th>\n",
              "      <th>user_session</th>\n",
              "      <th>year</th>\n",
              "      <th>month</th>\n",
              "      <th>weekday</th>\n",
              "      <th>hour</th>\n",
              "    </tr>\n",
              "  </thead>\n",
              "  <tbody>\n",
              "    <tr>\n",
              "      <th>0</th>\n",
              "      <td>2019-12-01 00:00:00</td>\n",
              "      <td>remove_from_cart</td>\n",
              "      <td>5712790</td>\n",
              "      <td>1487580005268456287</td>\n",
              "      <td>f.o.x</td>\n",
              "      <td>6.27</td>\n",
              "      <td>576802932</td>\n",
              "      <td>51d85cb0-897f-48d2-918b-ad63965c12dc</td>\n",
              "      <td>2019</td>\n",
              "      <td>12</td>\n",
              "      <td>Sunday</td>\n",
              "      <td>0</td>\n",
              "    </tr>\n",
              "    <tr>\n",
              "      <th>1</th>\n",
              "      <td>2019-12-01 00:00:00</td>\n",
              "      <td>view</td>\n",
              "      <td>5764655</td>\n",
              "      <td>1487580005411062629</td>\n",
              "      <td>cnd</td>\n",
              "      <td>29.05</td>\n",
              "      <td>412120092</td>\n",
              "      <td>8adff31e-2051-4894-9758-224bfa8aec18</td>\n",
              "      <td>2019</td>\n",
              "      <td>12</td>\n",
              "      <td>Sunday</td>\n",
              "      <td>0</td>\n",
              "    </tr>\n",
              "    <tr>\n",
              "      <th>2</th>\n",
              "      <td>2019-12-01 00:00:02</td>\n",
              "      <td>cart</td>\n",
              "      <td>4958</td>\n",
              "      <td>1487580009471148064</td>\n",
              "      <td>runail</td>\n",
              "      <td>1.19</td>\n",
              "      <td>494077766</td>\n",
              "      <td>c99a50e8-2fac-4c4d-89ec-41c05f114554</td>\n",
              "      <td>2019</td>\n",
              "      <td>12</td>\n",
              "      <td>Sunday</td>\n",
              "      <td>0</td>\n",
              "    </tr>\n",
              "    <tr>\n",
              "      <th>3</th>\n",
              "      <td>2019-12-01 00:00:05</td>\n",
              "      <td>view</td>\n",
              "      <td>5848413</td>\n",
              "      <td>1487580007675986893</td>\n",
              "      <td>freedecor</td>\n",
              "      <td>0.79</td>\n",
              "      <td>348405118</td>\n",
              "      <td>722ffea5-73c0-4924-8e8f-371ff8031af4</td>\n",
              "      <td>2019</td>\n",
              "      <td>12</td>\n",
              "      <td>Sunday</td>\n",
              "      <td>0</td>\n",
              "    </tr>\n",
              "    <tr>\n",
              "      <th>4</th>\n",
              "      <td>2019-12-01 00:00:07</td>\n",
              "      <td>view</td>\n",
              "      <td>5824148</td>\n",
              "      <td>1487580005511725929</td>\n",
              "      <td>nan</td>\n",
              "      <td>5.56</td>\n",
              "      <td>576005683</td>\n",
              "      <td>28172809-7e4a-45ce-bab0-5efa90117cd5</td>\n",
              "      <td>2019</td>\n",
              "      <td>12</td>\n",
              "      <td>Sunday</td>\n",
              "      <td>0</td>\n",
              "    </tr>\n",
              "  </tbody>\n",
              "</table>\n",
              "</div>\n",
              "      <button class=\"colab-df-convert\" onclick=\"convertToInteractive('df-4d0df3ea-dd96-4097-917c-e1eb6ec0bd5f')\"\n",
              "              title=\"Convert this dataframe to an interactive table.\"\n",
              "              style=\"display:none;\">\n",
              "        \n",
              "  <svg xmlns=\"http://www.w3.org/2000/svg\" height=\"24px\"viewBox=\"0 0 24 24\"\n",
              "       width=\"24px\">\n",
              "    <path d=\"M0 0h24v24H0V0z\" fill=\"none\"/>\n",
              "    <path d=\"M18.56 5.44l.94 2.06.94-2.06 2.06-.94-2.06-.94-.94-2.06-.94 2.06-2.06.94zm-11 1L8.5 8.5l.94-2.06 2.06-.94-2.06-.94L8.5 2.5l-.94 2.06-2.06.94zm10 10l.94 2.06.94-2.06 2.06-.94-2.06-.94-.94-2.06-.94 2.06-2.06.94z\"/><path d=\"M17.41 7.96l-1.37-1.37c-.4-.4-.92-.59-1.43-.59-.52 0-1.04.2-1.43.59L10.3 9.45l-7.72 7.72c-.78.78-.78 2.05 0 2.83L4 21.41c.39.39.9.59 1.41.59.51 0 1.02-.2 1.41-.59l7.78-7.78 2.81-2.81c.8-.78.8-2.07 0-2.86zM5.41 20L4 18.59l7.72-7.72 1.47 1.35L5.41 20z\"/>\n",
              "  </svg>\n",
              "      </button>\n",
              "      \n",
              "  <style>\n",
              "    .colab-df-container {\n",
              "      display:flex;\n",
              "      flex-wrap:wrap;\n",
              "      gap: 12px;\n",
              "    }\n",
              "\n",
              "    .colab-df-convert {\n",
              "      background-color: #E8F0FE;\n",
              "      border: none;\n",
              "      border-radius: 50%;\n",
              "      cursor: pointer;\n",
              "      display: none;\n",
              "      fill: #1967D2;\n",
              "      height: 32px;\n",
              "      padding: 0 0 0 0;\n",
              "      width: 32px;\n",
              "    }\n",
              "\n",
              "    .colab-df-convert:hover {\n",
              "      background-color: #E2EBFA;\n",
              "      box-shadow: 0px 1px 2px rgba(60, 64, 67, 0.3), 0px 1px 3px 1px rgba(60, 64, 67, 0.15);\n",
              "      fill: #174EA6;\n",
              "    }\n",
              "\n",
              "    [theme=dark] .colab-df-convert {\n",
              "      background-color: #3B4455;\n",
              "      fill: #D2E3FC;\n",
              "    }\n",
              "\n",
              "    [theme=dark] .colab-df-convert:hover {\n",
              "      background-color: #434B5C;\n",
              "      box-shadow: 0px 1px 3px 1px rgba(0, 0, 0, 0.15);\n",
              "      filter: drop-shadow(0px 1px 2px rgba(0, 0, 0, 0.3));\n",
              "      fill: #FFFFFF;\n",
              "    }\n",
              "  </style>\n",
              "\n",
              "      <script>\n",
              "        const buttonEl =\n",
              "          document.querySelector('#df-4d0df3ea-dd96-4097-917c-e1eb6ec0bd5f button.colab-df-convert');\n",
              "        buttonEl.style.display =\n",
              "          google.colab.kernel.accessAllowed ? 'block' : 'none';\n",
              "\n",
              "        async function convertToInteractive(key) {\n",
              "          const element = document.querySelector('#df-4d0df3ea-dd96-4097-917c-e1eb6ec0bd5f');\n",
              "          const dataTable =\n",
              "            await google.colab.kernel.invokeFunction('convertToInteractive',\n",
              "                                                     [key], {});\n",
              "          if (!dataTable) return;\n",
              "\n",
              "          const docLinkHtml = 'Like what you see? Visit the ' +\n",
              "            '<a target=\"_blank\" href=https://colab.research.google.com/notebooks/data_table.ipynb>data table notebook</a>'\n",
              "            + ' to learn more about interactive tables.';\n",
              "          element.innerHTML = '';\n",
              "          dataTable['output_type'] = 'display_data';\n",
              "          await google.colab.output.renderOutput(dataTable, element);\n",
              "          const docLink = document.createElement('div');\n",
              "          docLink.innerHTML = docLinkHtml;\n",
              "          element.appendChild(docLink);\n",
              "        }\n",
              "      </script>\n",
              "    </div>\n",
              "  </div>\n",
              "  "
            ]
          },
          "metadata": {},
          "execution_count": 42
        }
      ],
      "source": [
        "import pandas as pd\n",
        "data = pd.read_pickle('/content/drive/My Drive/FourthBrain/Assignments/Week_10/Sequence_Models/shopping.pkl')\n",
        "print('Shape of data=', data.shape)\n",
        "data.head()"
      ]
    },
    {
      "cell_type": "markdown",
      "metadata": {
        "id": "xGvjhdUnu2SB"
      },
      "source": [
        "Each row corresponds to a user event and other stats including the time and product information.\n",
        "\n",
        "Note that we have 1.5 million rows.\n",
        "\n",
        "2. What are the unique values for the event column?"
      ]
    },
    {
      "cell_type": "code",
      "execution_count": null,
      "metadata": {
        "colab": {
          "base_uri": "https://localhost:8080/"
        },
        "id": "M9NGImjCRdMX",
        "outputId": "a0b254a5-db91-4a30-fcb4-06ca5b54f1a3"
      },
      "outputs": [
        {
          "output_type": "execute_result",
          "data": {
            "text/plain": [
              "array(['remove_from_cart', 'view', 'cart', 'purchase'], dtype=object)"
            ]
          },
          "metadata": {},
          "execution_count": 43
        }
      ],
      "source": [
        "data.event_type.unique()"
      ]
    },
    {
      "cell_type": "markdown",
      "metadata": {
        "id": "kBvVlVRZRdMY"
      },
      "source": [
        "There's a lot of data we could use here, but we're going to start with something pretty simple. Think of a user session as being made up of a series of events (e.g. `['view', (add to)'cart', 'view', (add to)'cart', 'purchase']`). We want a model that can take in a series of non-purchase events, and predict whether a purchase is going to occur. In the example above, `['view', (add to)'cart', 'view', (add to)'cart']` is a **sequence** which culminates in a purchase. We'll create a representation of sequences of events, and train a model to predict whether or not a purchase is going to occur.\n",
        "\n",
        "3. Convert the event types to numeric values."
      ]
    },
    {
      "cell_type": "code",
      "execution_count": null,
      "metadata": {
        "id": "z7fl9XZMP6f0",
        "colab": {
          "base_uri": "https://localhost:8080/",
          "height": 206
        },
        "outputId": "4d1dd255-527f-495b-cb77-dd0546c9008d"
      },
      "outputs": [
        {
          "output_type": "execute_result",
          "data": {
            "text/plain": [
              "           event_time        event_type  product_id          category_id  \\\n",
              "0 2019-12-01 00:00:00  remove_from_cart     5712790  1487580005268456287   \n",
              "1 2019-12-01 00:00:00              view     5764655  1487580005411062629   \n",
              "2 2019-12-01 00:00:02              cart        4958  1487580009471148064   \n",
              "3 2019-12-01 00:00:05              view     5848413  1487580007675986893   \n",
              "4 2019-12-01 00:00:07              view     5824148  1487580005511725929   \n",
              "\n",
              "       brand  price    user_id                          user_session  year  \\\n",
              "0      f.o.x   6.27  576802932  51d85cb0-897f-48d2-918b-ad63965c12dc  2019   \n",
              "1        cnd  29.05  412120092  8adff31e-2051-4894-9758-224bfa8aec18  2019   \n",
              "2     runail   1.19  494077766  c99a50e8-2fac-4c4d-89ec-41c05f114554  2019   \n",
              "3  freedecor   0.79  348405118  722ffea5-73c0-4924-8e8f-371ff8031af4  2019   \n",
              "4        nan   5.56  576005683  28172809-7e4a-45ce-bab0-5efa90117cd5  2019   \n",
              "\n",
              "   month weekday  hour  event  \n",
              "0     12  Sunday     0      4  \n",
              "1     12  Sunday     0      3  \n",
              "2     12  Sunday     0      2  \n",
              "3     12  Sunday     0      3  \n",
              "4     12  Sunday     0      3  "
            ],
            "text/html": [
              "\n",
              "  <div id=\"df-32258f39-fe2c-4dba-8d56-e99e9250a446\">\n",
              "    <div class=\"colab-df-container\">\n",
              "      <div>\n",
              "<style scoped>\n",
              "    .dataframe tbody tr th:only-of-type {\n",
              "        vertical-align: middle;\n",
              "    }\n",
              "\n",
              "    .dataframe tbody tr th {\n",
              "        vertical-align: top;\n",
              "    }\n",
              "\n",
              "    .dataframe thead th {\n",
              "        text-align: right;\n",
              "    }\n",
              "</style>\n",
              "<table border=\"1\" class=\"dataframe\">\n",
              "  <thead>\n",
              "    <tr style=\"text-align: right;\">\n",
              "      <th></th>\n",
              "      <th>event_time</th>\n",
              "      <th>event_type</th>\n",
              "      <th>product_id</th>\n",
              "      <th>category_id</th>\n",
              "      <th>brand</th>\n",
              "      <th>price</th>\n",
              "      <th>user_id</th>\n",
              "      <th>user_session</th>\n",
              "      <th>year</th>\n",
              "      <th>month</th>\n",
              "      <th>weekday</th>\n",
              "      <th>hour</th>\n",
              "      <th>event</th>\n",
              "    </tr>\n",
              "  </thead>\n",
              "  <tbody>\n",
              "    <tr>\n",
              "      <th>0</th>\n",
              "      <td>2019-12-01 00:00:00</td>\n",
              "      <td>remove_from_cart</td>\n",
              "      <td>5712790</td>\n",
              "      <td>1487580005268456287</td>\n",
              "      <td>f.o.x</td>\n",
              "      <td>6.27</td>\n",
              "      <td>576802932</td>\n",
              "      <td>51d85cb0-897f-48d2-918b-ad63965c12dc</td>\n",
              "      <td>2019</td>\n",
              "      <td>12</td>\n",
              "      <td>Sunday</td>\n",
              "      <td>0</td>\n",
              "      <td>4</td>\n",
              "    </tr>\n",
              "    <tr>\n",
              "      <th>1</th>\n",
              "      <td>2019-12-01 00:00:00</td>\n",
              "      <td>view</td>\n",
              "      <td>5764655</td>\n",
              "      <td>1487580005411062629</td>\n",
              "      <td>cnd</td>\n",
              "      <td>29.05</td>\n",
              "      <td>412120092</td>\n",
              "      <td>8adff31e-2051-4894-9758-224bfa8aec18</td>\n",
              "      <td>2019</td>\n",
              "      <td>12</td>\n",
              "      <td>Sunday</td>\n",
              "      <td>0</td>\n",
              "      <td>3</td>\n",
              "    </tr>\n",
              "    <tr>\n",
              "      <th>2</th>\n",
              "      <td>2019-12-01 00:00:02</td>\n",
              "      <td>cart</td>\n",
              "      <td>4958</td>\n",
              "      <td>1487580009471148064</td>\n",
              "      <td>runail</td>\n",
              "      <td>1.19</td>\n",
              "      <td>494077766</td>\n",
              "      <td>c99a50e8-2fac-4c4d-89ec-41c05f114554</td>\n",
              "      <td>2019</td>\n",
              "      <td>12</td>\n",
              "      <td>Sunday</td>\n",
              "      <td>0</td>\n",
              "      <td>2</td>\n",
              "    </tr>\n",
              "    <tr>\n",
              "      <th>3</th>\n",
              "      <td>2019-12-01 00:00:05</td>\n",
              "      <td>view</td>\n",
              "      <td>5848413</td>\n",
              "      <td>1487580007675986893</td>\n",
              "      <td>freedecor</td>\n",
              "      <td>0.79</td>\n",
              "      <td>348405118</td>\n",
              "      <td>722ffea5-73c0-4924-8e8f-371ff8031af4</td>\n",
              "      <td>2019</td>\n",
              "      <td>12</td>\n",
              "      <td>Sunday</td>\n",
              "      <td>0</td>\n",
              "      <td>3</td>\n",
              "    </tr>\n",
              "    <tr>\n",
              "      <th>4</th>\n",
              "      <td>2019-12-01 00:00:07</td>\n",
              "      <td>view</td>\n",
              "      <td>5824148</td>\n",
              "      <td>1487580005511725929</td>\n",
              "      <td>nan</td>\n",
              "      <td>5.56</td>\n",
              "      <td>576005683</td>\n",
              "      <td>28172809-7e4a-45ce-bab0-5efa90117cd5</td>\n",
              "      <td>2019</td>\n",
              "      <td>12</td>\n",
              "      <td>Sunday</td>\n",
              "      <td>0</td>\n",
              "      <td>3</td>\n",
              "    </tr>\n",
              "  </tbody>\n",
              "</table>\n",
              "</div>\n",
              "      <button class=\"colab-df-convert\" onclick=\"convertToInteractive('df-32258f39-fe2c-4dba-8d56-e99e9250a446')\"\n",
              "              title=\"Convert this dataframe to an interactive table.\"\n",
              "              style=\"display:none;\">\n",
              "        \n",
              "  <svg xmlns=\"http://www.w3.org/2000/svg\" height=\"24px\"viewBox=\"0 0 24 24\"\n",
              "       width=\"24px\">\n",
              "    <path d=\"M0 0h24v24H0V0z\" fill=\"none\"/>\n",
              "    <path d=\"M18.56 5.44l.94 2.06.94-2.06 2.06-.94-2.06-.94-.94-2.06-.94 2.06-2.06.94zm-11 1L8.5 8.5l.94-2.06 2.06-.94-2.06-.94L8.5 2.5l-.94 2.06-2.06.94zm10 10l.94 2.06.94-2.06 2.06-.94-2.06-.94-.94-2.06-.94 2.06-2.06.94z\"/><path d=\"M17.41 7.96l-1.37-1.37c-.4-.4-.92-.59-1.43-.59-.52 0-1.04.2-1.43.59L10.3 9.45l-7.72 7.72c-.78.78-.78 2.05 0 2.83L4 21.41c.39.39.9.59 1.41.59.51 0 1.02-.2 1.41-.59l7.78-7.78 2.81-2.81c.8-.78.8-2.07 0-2.86zM5.41 20L4 18.59l7.72-7.72 1.47 1.35L5.41 20z\"/>\n",
              "  </svg>\n",
              "      </button>\n",
              "      \n",
              "  <style>\n",
              "    .colab-df-container {\n",
              "      display:flex;\n",
              "      flex-wrap:wrap;\n",
              "      gap: 12px;\n",
              "    }\n",
              "\n",
              "    .colab-df-convert {\n",
              "      background-color: #E8F0FE;\n",
              "      border: none;\n",
              "      border-radius: 50%;\n",
              "      cursor: pointer;\n",
              "      display: none;\n",
              "      fill: #1967D2;\n",
              "      height: 32px;\n",
              "      padding: 0 0 0 0;\n",
              "      width: 32px;\n",
              "    }\n",
              "\n",
              "    .colab-df-convert:hover {\n",
              "      background-color: #E2EBFA;\n",
              "      box-shadow: 0px 1px 2px rgba(60, 64, 67, 0.3), 0px 1px 3px 1px rgba(60, 64, 67, 0.15);\n",
              "      fill: #174EA6;\n",
              "    }\n",
              "\n",
              "    [theme=dark] .colab-df-convert {\n",
              "      background-color: #3B4455;\n",
              "      fill: #D2E3FC;\n",
              "    }\n",
              "\n",
              "    [theme=dark] .colab-df-convert:hover {\n",
              "      background-color: #434B5C;\n",
              "      box-shadow: 0px 1px 3px 1px rgba(0, 0, 0, 0.15);\n",
              "      filter: drop-shadow(0px 1px 2px rgba(0, 0, 0, 0.3));\n",
              "      fill: #FFFFFF;\n",
              "    }\n",
              "  </style>\n",
              "\n",
              "      <script>\n",
              "        const buttonEl =\n",
              "          document.querySelector('#df-32258f39-fe2c-4dba-8d56-e99e9250a446 button.colab-df-convert');\n",
              "        buttonEl.style.display =\n",
              "          google.colab.kernel.accessAllowed ? 'block' : 'none';\n",
              "\n",
              "        async function convertToInteractive(key) {\n",
              "          const element = document.querySelector('#df-32258f39-fe2c-4dba-8d56-e99e9250a446');\n",
              "          const dataTable =\n",
              "            await google.colab.kernel.invokeFunction('convertToInteractive',\n",
              "                                                     [key], {});\n",
              "          if (!dataTable) return;\n",
              "\n",
              "          const docLinkHtml = 'Like what you see? Visit the ' +\n",
              "            '<a target=\"_blank\" href=https://colab.research.google.com/notebooks/data_table.ipynb>data table notebook</a>'\n",
              "            + ' to learn more about interactive tables.';\n",
              "          element.innerHTML = '';\n",
              "          dataTable['output_type'] = 'display_data';\n",
              "          await google.colab.output.renderOutput(dataTable, element);\n",
              "          const docLink = document.createElement('div');\n",
              "          docLink.innerHTML = docLinkHtml;\n",
              "          element.appendChild(docLink);\n",
              "        }\n",
              "      </script>\n",
              "    </div>\n",
              "  </div>\n",
              "  "
            ]
          },
          "metadata": {},
          "execution_count": 44
        }
      ],
      "source": [
        "events = {'purchase': 1, 'cart': 2, 'view': 3, 'remove_from_cart': 4}\n",
        "data['event'] = data.event_type.map(events)\n",
        "data.head()"
      ]
    },
    {
      "cell_type": "markdown",
      "metadata": {
        "id": "lxBi7L5IRdMZ"
      },
      "source": [
        "4. Sort the events by `event_time` so we can create the sequences of events in the correct order."
      ]
    },
    {
      "cell_type": "code",
      "execution_count": null,
      "metadata": {
        "id": "_XPpZb68P6f0",
        "colab": {
          "base_uri": "https://localhost:8080/",
          "height": 206
        },
        "outputId": "386b440a-b8da-4b2e-badf-f4dde33a5254"
      },
      "outputs": [
        {
          "output_type": "execute_result",
          "data": {
            "text/plain": [
              "           event_time        event_type  product_id          category_id  \\\n",
              "0 2019-12-01 00:00:00  remove_from_cart     5712790  1487580005268456287   \n",
              "1 2019-12-01 00:00:00              view     5764655  1487580005411062629   \n",
              "2 2019-12-01 00:00:02              cart        4958  1487580009471148064   \n",
              "3 2019-12-01 00:00:05              view     5848413  1487580007675986893   \n",
              "4 2019-12-01 00:00:07              view     5824148  1487580005511725929   \n",
              "\n",
              "       brand  price    user_id                          user_session  year  \\\n",
              "0      f.o.x   6.27  576802932  51d85cb0-897f-48d2-918b-ad63965c12dc  2019   \n",
              "1        cnd  29.05  412120092  8adff31e-2051-4894-9758-224bfa8aec18  2019   \n",
              "2     runail   1.19  494077766  c99a50e8-2fac-4c4d-89ec-41c05f114554  2019   \n",
              "3  freedecor   0.79  348405118  722ffea5-73c0-4924-8e8f-371ff8031af4  2019   \n",
              "4        nan   5.56  576005683  28172809-7e4a-45ce-bab0-5efa90117cd5  2019   \n",
              "\n",
              "   month weekday  hour  event  \n",
              "0     12  Sunday     0      4  \n",
              "1     12  Sunday     0      3  \n",
              "2     12  Sunday     0      2  \n",
              "3     12  Sunday     0      3  \n",
              "4     12  Sunday     0      3  "
            ],
            "text/html": [
              "\n",
              "  <div id=\"df-f46fe820-1b07-43eb-8d9b-77608c6fb3ca\">\n",
              "    <div class=\"colab-df-container\">\n",
              "      <div>\n",
              "<style scoped>\n",
              "    .dataframe tbody tr th:only-of-type {\n",
              "        vertical-align: middle;\n",
              "    }\n",
              "\n",
              "    .dataframe tbody tr th {\n",
              "        vertical-align: top;\n",
              "    }\n",
              "\n",
              "    .dataframe thead th {\n",
              "        text-align: right;\n",
              "    }\n",
              "</style>\n",
              "<table border=\"1\" class=\"dataframe\">\n",
              "  <thead>\n",
              "    <tr style=\"text-align: right;\">\n",
              "      <th></th>\n",
              "      <th>event_time</th>\n",
              "      <th>event_type</th>\n",
              "      <th>product_id</th>\n",
              "      <th>category_id</th>\n",
              "      <th>brand</th>\n",
              "      <th>price</th>\n",
              "      <th>user_id</th>\n",
              "      <th>user_session</th>\n",
              "      <th>year</th>\n",
              "      <th>month</th>\n",
              "      <th>weekday</th>\n",
              "      <th>hour</th>\n",
              "      <th>event</th>\n",
              "    </tr>\n",
              "  </thead>\n",
              "  <tbody>\n",
              "    <tr>\n",
              "      <th>0</th>\n",
              "      <td>2019-12-01 00:00:00</td>\n",
              "      <td>remove_from_cart</td>\n",
              "      <td>5712790</td>\n",
              "      <td>1487580005268456287</td>\n",
              "      <td>f.o.x</td>\n",
              "      <td>6.27</td>\n",
              "      <td>576802932</td>\n",
              "      <td>51d85cb0-897f-48d2-918b-ad63965c12dc</td>\n",
              "      <td>2019</td>\n",
              "      <td>12</td>\n",
              "      <td>Sunday</td>\n",
              "      <td>0</td>\n",
              "      <td>4</td>\n",
              "    </tr>\n",
              "    <tr>\n",
              "      <th>1</th>\n",
              "      <td>2019-12-01 00:00:00</td>\n",
              "      <td>view</td>\n",
              "      <td>5764655</td>\n",
              "      <td>1487580005411062629</td>\n",
              "      <td>cnd</td>\n",
              "      <td>29.05</td>\n",
              "      <td>412120092</td>\n",
              "      <td>8adff31e-2051-4894-9758-224bfa8aec18</td>\n",
              "      <td>2019</td>\n",
              "      <td>12</td>\n",
              "      <td>Sunday</td>\n",
              "      <td>0</td>\n",
              "      <td>3</td>\n",
              "    </tr>\n",
              "    <tr>\n",
              "      <th>2</th>\n",
              "      <td>2019-12-01 00:00:02</td>\n",
              "      <td>cart</td>\n",
              "      <td>4958</td>\n",
              "      <td>1487580009471148064</td>\n",
              "      <td>runail</td>\n",
              "      <td>1.19</td>\n",
              "      <td>494077766</td>\n",
              "      <td>c99a50e8-2fac-4c4d-89ec-41c05f114554</td>\n",
              "      <td>2019</td>\n",
              "      <td>12</td>\n",
              "      <td>Sunday</td>\n",
              "      <td>0</td>\n",
              "      <td>2</td>\n",
              "    </tr>\n",
              "    <tr>\n",
              "      <th>3</th>\n",
              "      <td>2019-12-01 00:00:05</td>\n",
              "      <td>view</td>\n",
              "      <td>5848413</td>\n",
              "      <td>1487580007675986893</td>\n",
              "      <td>freedecor</td>\n",
              "      <td>0.79</td>\n",
              "      <td>348405118</td>\n",
              "      <td>722ffea5-73c0-4924-8e8f-371ff8031af4</td>\n",
              "      <td>2019</td>\n",
              "      <td>12</td>\n",
              "      <td>Sunday</td>\n",
              "      <td>0</td>\n",
              "      <td>3</td>\n",
              "    </tr>\n",
              "    <tr>\n",
              "      <th>4</th>\n",
              "      <td>2019-12-01 00:00:07</td>\n",
              "      <td>view</td>\n",
              "      <td>5824148</td>\n",
              "      <td>1487580005511725929</td>\n",
              "      <td>nan</td>\n",
              "      <td>5.56</td>\n",
              "      <td>576005683</td>\n",
              "      <td>28172809-7e4a-45ce-bab0-5efa90117cd5</td>\n",
              "      <td>2019</td>\n",
              "      <td>12</td>\n",
              "      <td>Sunday</td>\n",
              "      <td>0</td>\n",
              "      <td>3</td>\n",
              "    </tr>\n",
              "  </tbody>\n",
              "</table>\n",
              "</div>\n",
              "      <button class=\"colab-df-convert\" onclick=\"convertToInteractive('df-f46fe820-1b07-43eb-8d9b-77608c6fb3ca')\"\n",
              "              title=\"Convert this dataframe to an interactive table.\"\n",
              "              style=\"display:none;\">\n",
              "        \n",
              "  <svg xmlns=\"http://www.w3.org/2000/svg\" height=\"24px\"viewBox=\"0 0 24 24\"\n",
              "       width=\"24px\">\n",
              "    <path d=\"M0 0h24v24H0V0z\" fill=\"none\"/>\n",
              "    <path d=\"M18.56 5.44l.94 2.06.94-2.06 2.06-.94-2.06-.94-.94-2.06-.94 2.06-2.06.94zm-11 1L8.5 8.5l.94-2.06 2.06-.94-2.06-.94L8.5 2.5l-.94 2.06-2.06.94zm10 10l.94 2.06.94-2.06 2.06-.94-2.06-.94-.94-2.06-.94 2.06-2.06.94z\"/><path d=\"M17.41 7.96l-1.37-1.37c-.4-.4-.92-.59-1.43-.59-.52 0-1.04.2-1.43.59L10.3 9.45l-7.72 7.72c-.78.78-.78 2.05 0 2.83L4 21.41c.39.39.9.59 1.41.59.51 0 1.02-.2 1.41-.59l7.78-7.78 2.81-2.81c.8-.78.8-2.07 0-2.86zM5.41 20L4 18.59l7.72-7.72 1.47 1.35L5.41 20z\"/>\n",
              "  </svg>\n",
              "      </button>\n",
              "      \n",
              "  <style>\n",
              "    .colab-df-container {\n",
              "      display:flex;\n",
              "      flex-wrap:wrap;\n",
              "      gap: 12px;\n",
              "    }\n",
              "\n",
              "    .colab-df-convert {\n",
              "      background-color: #E8F0FE;\n",
              "      border: none;\n",
              "      border-radius: 50%;\n",
              "      cursor: pointer;\n",
              "      display: none;\n",
              "      fill: #1967D2;\n",
              "      height: 32px;\n",
              "      padding: 0 0 0 0;\n",
              "      width: 32px;\n",
              "    }\n",
              "\n",
              "    .colab-df-convert:hover {\n",
              "      background-color: #E2EBFA;\n",
              "      box-shadow: 0px 1px 2px rgba(60, 64, 67, 0.3), 0px 1px 3px 1px rgba(60, 64, 67, 0.15);\n",
              "      fill: #174EA6;\n",
              "    }\n",
              "\n",
              "    [theme=dark] .colab-df-convert {\n",
              "      background-color: #3B4455;\n",
              "      fill: #D2E3FC;\n",
              "    }\n",
              "\n",
              "    [theme=dark] .colab-df-convert:hover {\n",
              "      background-color: #434B5C;\n",
              "      box-shadow: 0px 1px 3px 1px rgba(0, 0, 0, 0.15);\n",
              "      filter: drop-shadow(0px 1px 2px rgba(0, 0, 0, 0.3));\n",
              "      fill: #FFFFFF;\n",
              "    }\n",
              "  </style>\n",
              "\n",
              "      <script>\n",
              "        const buttonEl =\n",
              "          document.querySelector('#df-f46fe820-1b07-43eb-8d9b-77608c6fb3ca button.colab-df-convert');\n",
              "        buttonEl.style.display =\n",
              "          google.colab.kernel.accessAllowed ? 'block' : 'none';\n",
              "\n",
              "        async function convertToInteractive(key) {\n",
              "          const element = document.querySelector('#df-f46fe820-1b07-43eb-8d9b-77608c6fb3ca');\n",
              "          const dataTable =\n",
              "            await google.colab.kernel.invokeFunction('convertToInteractive',\n",
              "                                                     [key], {});\n",
              "          if (!dataTable) return;\n",
              "\n",
              "          const docLinkHtml = 'Like what you see? Visit the ' +\n",
              "            '<a target=\"_blank\" href=https://colab.research.google.com/notebooks/data_table.ipynb>data table notebook</a>'\n",
              "            + ' to learn more about interactive tables.';\n",
              "          element.innerHTML = '';\n",
              "          dataTable['output_type'] = 'display_data';\n",
              "          await google.colab.output.renderOutput(dataTable, element);\n",
              "          const docLink = document.createElement('div');\n",
              "          docLink.innerHTML = docLinkHtml;\n",
              "          element.appendChild(docLink);\n",
              "        }\n",
              "      </script>\n",
              "    </div>\n",
              "  </div>\n",
              "  "
            ]
          },
          "metadata": {},
          "execution_count": 45
        }
      ],
      "source": [
        "data.sort_values('event_time', inplace=True)\n",
        "data.head()"
      ]
    },
    {
      "cell_type": "markdown",
      "metadata": {
        "id": "ngTMehzpRdMa"
      },
      "source": [
        "5. Group the data by `user_session` so there is one row per user session and a list of all the events for that user sesion."
      ]
    },
    {
      "cell_type": "code",
      "execution_count": null,
      "metadata": {
        "colab": {
          "base_uri": "https://localhost:8080/",
          "height": 206
        },
        "id": "30M2c-RuRdMa",
        "outputId": "0b37b44e-5dd0-4e6a-d05b-3c5e54eebc1a"
      },
      "outputs": [
        {
          "output_type": "execute_result",
          "data": {
            "text/plain": [
              "                           user_session                  event\n",
              "0  00002f36-401d-4bc5-bac6-1a683f52ac2b                    [3]\n",
              "1  00013a97-708c-4e1c-ae3e-e23a5a6d3f9e                    [3]\n",
              "2  00018d32-afba-4db8-9d3d-562c83580579                 [3, 2]\n",
              "3  0001ccf7-9af0-45e8-b008-3cefe4f703cb                    [3]\n",
              "4  0001d956-e104-487b-a045-3864d7b9a022  [2, 2, 2, 2, 2, 2, 2]"
            ],
            "text/html": [
              "\n",
              "  <div id=\"df-36f83f0e-9bf3-47c0-bb41-bbec266243a4\">\n",
              "    <div class=\"colab-df-container\">\n",
              "      <div>\n",
              "<style scoped>\n",
              "    .dataframe tbody tr th:only-of-type {\n",
              "        vertical-align: middle;\n",
              "    }\n",
              "\n",
              "    .dataframe tbody tr th {\n",
              "        vertical-align: top;\n",
              "    }\n",
              "\n",
              "    .dataframe thead th {\n",
              "        text-align: right;\n",
              "    }\n",
              "</style>\n",
              "<table border=\"1\" class=\"dataframe\">\n",
              "  <thead>\n",
              "    <tr style=\"text-align: right;\">\n",
              "      <th></th>\n",
              "      <th>user_session</th>\n",
              "      <th>event</th>\n",
              "    </tr>\n",
              "  </thead>\n",
              "  <tbody>\n",
              "    <tr>\n",
              "      <th>0</th>\n",
              "      <td>00002f36-401d-4bc5-bac6-1a683f52ac2b</td>\n",
              "      <td>[3]</td>\n",
              "    </tr>\n",
              "    <tr>\n",
              "      <th>1</th>\n",
              "      <td>00013a97-708c-4e1c-ae3e-e23a5a6d3f9e</td>\n",
              "      <td>[3]</td>\n",
              "    </tr>\n",
              "    <tr>\n",
              "      <th>2</th>\n",
              "      <td>00018d32-afba-4db8-9d3d-562c83580579</td>\n",
              "      <td>[3, 2]</td>\n",
              "    </tr>\n",
              "    <tr>\n",
              "      <th>3</th>\n",
              "      <td>0001ccf7-9af0-45e8-b008-3cefe4f703cb</td>\n",
              "      <td>[3]</td>\n",
              "    </tr>\n",
              "    <tr>\n",
              "      <th>4</th>\n",
              "      <td>0001d956-e104-487b-a045-3864d7b9a022</td>\n",
              "      <td>[2, 2, 2, 2, 2, 2, 2]</td>\n",
              "    </tr>\n",
              "  </tbody>\n",
              "</table>\n",
              "</div>\n",
              "      <button class=\"colab-df-convert\" onclick=\"convertToInteractive('df-36f83f0e-9bf3-47c0-bb41-bbec266243a4')\"\n",
              "              title=\"Convert this dataframe to an interactive table.\"\n",
              "              style=\"display:none;\">\n",
              "        \n",
              "  <svg xmlns=\"http://www.w3.org/2000/svg\" height=\"24px\"viewBox=\"0 0 24 24\"\n",
              "       width=\"24px\">\n",
              "    <path d=\"M0 0h24v24H0V0z\" fill=\"none\"/>\n",
              "    <path d=\"M18.56 5.44l.94 2.06.94-2.06 2.06-.94-2.06-.94-.94-2.06-.94 2.06-2.06.94zm-11 1L8.5 8.5l.94-2.06 2.06-.94-2.06-.94L8.5 2.5l-.94 2.06-2.06.94zm10 10l.94 2.06.94-2.06 2.06-.94-2.06-.94-.94-2.06-.94 2.06-2.06.94z\"/><path d=\"M17.41 7.96l-1.37-1.37c-.4-.4-.92-.59-1.43-.59-.52 0-1.04.2-1.43.59L10.3 9.45l-7.72 7.72c-.78.78-.78 2.05 0 2.83L4 21.41c.39.39.9.59 1.41.59.51 0 1.02-.2 1.41-.59l7.78-7.78 2.81-2.81c.8-.78.8-2.07 0-2.86zM5.41 20L4 18.59l7.72-7.72 1.47 1.35L5.41 20z\"/>\n",
              "  </svg>\n",
              "      </button>\n",
              "      \n",
              "  <style>\n",
              "    .colab-df-container {\n",
              "      display:flex;\n",
              "      flex-wrap:wrap;\n",
              "      gap: 12px;\n",
              "    }\n",
              "\n",
              "    .colab-df-convert {\n",
              "      background-color: #E8F0FE;\n",
              "      border: none;\n",
              "      border-radius: 50%;\n",
              "      cursor: pointer;\n",
              "      display: none;\n",
              "      fill: #1967D2;\n",
              "      height: 32px;\n",
              "      padding: 0 0 0 0;\n",
              "      width: 32px;\n",
              "    }\n",
              "\n",
              "    .colab-df-convert:hover {\n",
              "      background-color: #E2EBFA;\n",
              "      box-shadow: 0px 1px 2px rgba(60, 64, 67, 0.3), 0px 1px 3px 1px rgba(60, 64, 67, 0.15);\n",
              "      fill: #174EA6;\n",
              "    }\n",
              "\n",
              "    [theme=dark] .colab-df-convert {\n",
              "      background-color: #3B4455;\n",
              "      fill: #D2E3FC;\n",
              "    }\n",
              "\n",
              "    [theme=dark] .colab-df-convert:hover {\n",
              "      background-color: #434B5C;\n",
              "      box-shadow: 0px 1px 3px 1px rgba(0, 0, 0, 0.15);\n",
              "      filter: drop-shadow(0px 1px 2px rgba(0, 0, 0, 0.3));\n",
              "      fill: #FFFFFF;\n",
              "    }\n",
              "  </style>\n",
              "\n",
              "      <script>\n",
              "        const buttonEl =\n",
              "          document.querySelector('#df-36f83f0e-9bf3-47c0-bb41-bbec266243a4 button.colab-df-convert');\n",
              "        buttonEl.style.display =\n",
              "          google.colab.kernel.accessAllowed ? 'block' : 'none';\n",
              "\n",
              "        async function convertToInteractive(key) {\n",
              "          const element = document.querySelector('#df-36f83f0e-9bf3-47c0-bb41-bbec266243a4');\n",
              "          const dataTable =\n",
              "            await google.colab.kernel.invokeFunction('convertToInteractive',\n",
              "                                                     [key], {});\n",
              "          if (!dataTable) return;\n",
              "\n",
              "          const docLinkHtml = 'Like what you see? Visit the ' +\n",
              "            '<a target=\"_blank\" href=https://colab.research.google.com/notebooks/data_table.ipynb>data table notebook</a>'\n",
              "            + ' to learn more about interactive tables.';\n",
              "          element.innerHTML = '';\n",
              "          dataTable['output_type'] = 'display_data';\n",
              "          await google.colab.output.renderOutput(dataTable, element);\n",
              "          const docLink = document.createElement('div');\n",
              "          docLink.innerHTML = docLinkHtml;\n",
              "          element.appendChild(docLink);\n",
              "        }\n",
              "      </script>\n",
              "    </div>\n",
              "  </div>\n",
              "  "
            ]
          },
          "metadata": {},
          "execution_count": 46
        }
      ],
      "source": [
        "sequence = data.groupby('user_session')['event'].apply(list).reset_index()\n",
        "sequence.head()"
      ]
    },
    {
      "cell_type": "markdown",
      "metadata": {
        "id": "gX21Ze9-RdMb"
      },
      "source": [
        "6. Create a `purchase` column, which is 1 if there was a purchase in the user session and 0 otherwise. Recall that the purchase event is denoted by 1."
      ]
    },
    {
      "cell_type": "code",
      "execution_count": null,
      "metadata": {
        "colab": {
          "base_uri": "https://localhost:8080/",
          "height": 206
        },
        "id": "ReOte213RdMb",
        "outputId": "e1f753ea-e7df-481b-ecf1-6593ba351da3"
      },
      "outputs": [
        {
          "output_type": "execute_result",
          "data": {
            "text/plain": [
              "                           user_session                  event  purchase\n",
              "0  00002f36-401d-4bc5-bac6-1a683f52ac2b                    [3]         0\n",
              "1  00013a97-708c-4e1c-ae3e-e23a5a6d3f9e                    [3]         0\n",
              "2  00018d32-afba-4db8-9d3d-562c83580579                 [3, 2]         0\n",
              "3  0001ccf7-9af0-45e8-b008-3cefe4f703cb                    [3]         0\n",
              "4  0001d956-e104-487b-a045-3864d7b9a022  [2, 2, 2, 2, 2, 2, 2]         0"
            ],
            "text/html": [
              "\n",
              "  <div id=\"df-3f2b6391-4f45-46af-9ef6-83fc9a4d0a6c\">\n",
              "    <div class=\"colab-df-container\">\n",
              "      <div>\n",
              "<style scoped>\n",
              "    .dataframe tbody tr th:only-of-type {\n",
              "        vertical-align: middle;\n",
              "    }\n",
              "\n",
              "    .dataframe tbody tr th {\n",
              "        vertical-align: top;\n",
              "    }\n",
              "\n",
              "    .dataframe thead th {\n",
              "        text-align: right;\n",
              "    }\n",
              "</style>\n",
              "<table border=\"1\" class=\"dataframe\">\n",
              "  <thead>\n",
              "    <tr style=\"text-align: right;\">\n",
              "      <th></th>\n",
              "      <th>user_session</th>\n",
              "      <th>event</th>\n",
              "      <th>purchase</th>\n",
              "    </tr>\n",
              "  </thead>\n",
              "  <tbody>\n",
              "    <tr>\n",
              "      <th>0</th>\n",
              "      <td>00002f36-401d-4bc5-bac6-1a683f52ac2b</td>\n",
              "      <td>[3]</td>\n",
              "      <td>0</td>\n",
              "    </tr>\n",
              "    <tr>\n",
              "      <th>1</th>\n",
              "      <td>00013a97-708c-4e1c-ae3e-e23a5a6d3f9e</td>\n",
              "      <td>[3]</td>\n",
              "      <td>0</td>\n",
              "    </tr>\n",
              "    <tr>\n",
              "      <th>2</th>\n",
              "      <td>00018d32-afba-4db8-9d3d-562c83580579</td>\n",
              "      <td>[3, 2]</td>\n",
              "      <td>0</td>\n",
              "    </tr>\n",
              "    <tr>\n",
              "      <th>3</th>\n",
              "      <td>0001ccf7-9af0-45e8-b008-3cefe4f703cb</td>\n",
              "      <td>[3]</td>\n",
              "      <td>0</td>\n",
              "    </tr>\n",
              "    <tr>\n",
              "      <th>4</th>\n",
              "      <td>0001d956-e104-487b-a045-3864d7b9a022</td>\n",
              "      <td>[2, 2, 2, 2, 2, 2, 2]</td>\n",
              "      <td>0</td>\n",
              "    </tr>\n",
              "  </tbody>\n",
              "</table>\n",
              "</div>\n",
              "      <button class=\"colab-df-convert\" onclick=\"convertToInteractive('df-3f2b6391-4f45-46af-9ef6-83fc9a4d0a6c')\"\n",
              "              title=\"Convert this dataframe to an interactive table.\"\n",
              "              style=\"display:none;\">\n",
              "        \n",
              "  <svg xmlns=\"http://www.w3.org/2000/svg\" height=\"24px\"viewBox=\"0 0 24 24\"\n",
              "       width=\"24px\">\n",
              "    <path d=\"M0 0h24v24H0V0z\" fill=\"none\"/>\n",
              "    <path d=\"M18.56 5.44l.94 2.06.94-2.06 2.06-.94-2.06-.94-.94-2.06-.94 2.06-2.06.94zm-11 1L8.5 8.5l.94-2.06 2.06-.94-2.06-.94L8.5 2.5l-.94 2.06-2.06.94zm10 10l.94 2.06.94-2.06 2.06-.94-2.06-.94-.94-2.06-.94 2.06-2.06.94z\"/><path d=\"M17.41 7.96l-1.37-1.37c-.4-.4-.92-.59-1.43-.59-.52 0-1.04.2-1.43.59L10.3 9.45l-7.72 7.72c-.78.78-.78 2.05 0 2.83L4 21.41c.39.39.9.59 1.41.59.51 0 1.02-.2 1.41-.59l7.78-7.78 2.81-2.81c.8-.78.8-2.07 0-2.86zM5.41 20L4 18.59l7.72-7.72 1.47 1.35L5.41 20z\"/>\n",
              "  </svg>\n",
              "      </button>\n",
              "      \n",
              "  <style>\n",
              "    .colab-df-container {\n",
              "      display:flex;\n",
              "      flex-wrap:wrap;\n",
              "      gap: 12px;\n",
              "    }\n",
              "\n",
              "    .colab-df-convert {\n",
              "      background-color: #E8F0FE;\n",
              "      border: none;\n",
              "      border-radius: 50%;\n",
              "      cursor: pointer;\n",
              "      display: none;\n",
              "      fill: #1967D2;\n",
              "      height: 32px;\n",
              "      padding: 0 0 0 0;\n",
              "      width: 32px;\n",
              "    }\n",
              "\n",
              "    .colab-df-convert:hover {\n",
              "      background-color: #E2EBFA;\n",
              "      box-shadow: 0px 1px 2px rgba(60, 64, 67, 0.3), 0px 1px 3px 1px rgba(60, 64, 67, 0.15);\n",
              "      fill: #174EA6;\n",
              "    }\n",
              "\n",
              "    [theme=dark] .colab-df-convert {\n",
              "      background-color: #3B4455;\n",
              "      fill: #D2E3FC;\n",
              "    }\n",
              "\n",
              "    [theme=dark] .colab-df-convert:hover {\n",
              "      background-color: #434B5C;\n",
              "      box-shadow: 0px 1px 3px 1px rgba(0, 0, 0, 0.15);\n",
              "      filter: drop-shadow(0px 1px 2px rgba(0, 0, 0, 0.3));\n",
              "      fill: #FFFFFF;\n",
              "    }\n",
              "  </style>\n",
              "\n",
              "      <script>\n",
              "        const buttonEl =\n",
              "          document.querySelector('#df-3f2b6391-4f45-46af-9ef6-83fc9a4d0a6c button.colab-df-convert');\n",
              "        buttonEl.style.display =\n",
              "          google.colab.kernel.accessAllowed ? 'block' : 'none';\n",
              "\n",
              "        async function convertToInteractive(key) {\n",
              "          const element = document.querySelector('#df-3f2b6391-4f45-46af-9ef6-83fc9a4d0a6c');\n",
              "          const dataTable =\n",
              "            await google.colab.kernel.invokeFunction('convertToInteractive',\n",
              "                                                     [key], {});\n",
              "          if (!dataTable) return;\n",
              "\n",
              "          const docLinkHtml = 'Like what you see? Visit the ' +\n",
              "            '<a target=\"_blank\" href=https://colab.research.google.com/notebooks/data_table.ipynb>data table notebook</a>'\n",
              "            + ' to learn more about interactive tables.';\n",
              "          element.innerHTML = '';\n",
              "          dataTable['output_type'] = 'display_data';\n",
              "          await google.colab.output.renderOutput(dataTable, element);\n",
              "          const docLink = document.createElement('div');\n",
              "          docLink.innerHTML = docLinkHtml;\n",
              "          element.appendChild(docLink);\n",
              "        }\n",
              "      </script>\n",
              "    </div>\n",
              "  </div>\n",
              "  "
            ]
          },
          "metadata": {},
          "execution_count": 47
        }
      ],
      "source": [
        "sequence['purchase'] = sequence.event.apply(lambda x: 1 if 1 in x else 0)\n",
        "sequence.head()"
      ]
    },
    {
      "cell_type": "markdown",
      "metadata": {
        "id": "eezyJQYgRdMc"
      },
      "source": [
        "7. Remove purchase events from the lists of events so the event lists contain only view, cart, and remove_from_cart events."
      ]
    },
    {
      "cell_type": "code",
      "execution_count": null,
      "metadata": {
        "colab": {
          "base_uri": "https://localhost:8080/",
          "height": 224
        },
        "id": "1_o01_mQRdMc",
        "outputId": "1e58edc7-d2b6-45d7-c117-f8d67a89cbba"
      },
      "outputs": [
        {
          "output_type": "stream",
          "name": "stdout",
          "text": [
            "Total number of records: 336979\n"
          ]
        },
        {
          "output_type": "execute_result",
          "data": {
            "text/plain": [
              "                           user_session                  event  purchase\n",
              "0  00002f36-401d-4bc5-bac6-1a683f52ac2b                    [3]         0\n",
              "1  00013a97-708c-4e1c-ae3e-e23a5a6d3f9e                    [3]         0\n",
              "2  00018d32-afba-4db8-9d3d-562c83580579                 [3, 2]         0\n",
              "3  0001ccf7-9af0-45e8-b008-3cefe4f703cb                    [3]         0\n",
              "4  0001d956-e104-487b-a045-3864d7b9a022  [2, 2, 2, 2, 2, 2, 2]         0"
            ],
            "text/html": [
              "\n",
              "  <div id=\"df-6d520e91-74af-4f8e-8b2a-2dd13badad83\">\n",
              "    <div class=\"colab-df-container\">\n",
              "      <div>\n",
              "<style scoped>\n",
              "    .dataframe tbody tr th:only-of-type {\n",
              "        vertical-align: middle;\n",
              "    }\n",
              "\n",
              "    .dataframe tbody tr th {\n",
              "        vertical-align: top;\n",
              "    }\n",
              "\n",
              "    .dataframe thead th {\n",
              "        text-align: right;\n",
              "    }\n",
              "</style>\n",
              "<table border=\"1\" class=\"dataframe\">\n",
              "  <thead>\n",
              "    <tr style=\"text-align: right;\">\n",
              "      <th></th>\n",
              "      <th>user_session</th>\n",
              "      <th>event</th>\n",
              "      <th>purchase</th>\n",
              "    </tr>\n",
              "  </thead>\n",
              "  <tbody>\n",
              "    <tr>\n",
              "      <th>0</th>\n",
              "      <td>00002f36-401d-4bc5-bac6-1a683f52ac2b</td>\n",
              "      <td>[3]</td>\n",
              "      <td>0</td>\n",
              "    </tr>\n",
              "    <tr>\n",
              "      <th>1</th>\n",
              "      <td>00013a97-708c-4e1c-ae3e-e23a5a6d3f9e</td>\n",
              "      <td>[3]</td>\n",
              "      <td>0</td>\n",
              "    </tr>\n",
              "    <tr>\n",
              "      <th>2</th>\n",
              "      <td>00018d32-afba-4db8-9d3d-562c83580579</td>\n",
              "      <td>[3, 2]</td>\n",
              "      <td>0</td>\n",
              "    </tr>\n",
              "    <tr>\n",
              "      <th>3</th>\n",
              "      <td>0001ccf7-9af0-45e8-b008-3cefe4f703cb</td>\n",
              "      <td>[3]</td>\n",
              "      <td>0</td>\n",
              "    </tr>\n",
              "    <tr>\n",
              "      <th>4</th>\n",
              "      <td>0001d956-e104-487b-a045-3864d7b9a022</td>\n",
              "      <td>[2, 2, 2, 2, 2, 2, 2]</td>\n",
              "      <td>0</td>\n",
              "    </tr>\n",
              "  </tbody>\n",
              "</table>\n",
              "</div>\n",
              "      <button class=\"colab-df-convert\" onclick=\"convertToInteractive('df-6d520e91-74af-4f8e-8b2a-2dd13badad83')\"\n",
              "              title=\"Convert this dataframe to an interactive table.\"\n",
              "              style=\"display:none;\">\n",
              "        \n",
              "  <svg xmlns=\"http://www.w3.org/2000/svg\" height=\"24px\"viewBox=\"0 0 24 24\"\n",
              "       width=\"24px\">\n",
              "    <path d=\"M0 0h24v24H0V0z\" fill=\"none\"/>\n",
              "    <path d=\"M18.56 5.44l.94 2.06.94-2.06 2.06-.94-2.06-.94-.94-2.06-.94 2.06-2.06.94zm-11 1L8.5 8.5l.94-2.06 2.06-.94-2.06-.94L8.5 2.5l-.94 2.06-2.06.94zm10 10l.94 2.06.94-2.06 2.06-.94-2.06-.94-.94-2.06-.94 2.06-2.06.94z\"/><path d=\"M17.41 7.96l-1.37-1.37c-.4-.4-.92-.59-1.43-.59-.52 0-1.04.2-1.43.59L10.3 9.45l-7.72 7.72c-.78.78-.78 2.05 0 2.83L4 21.41c.39.39.9.59 1.41.59.51 0 1.02-.2 1.41-.59l7.78-7.78 2.81-2.81c.8-.78.8-2.07 0-2.86zM5.41 20L4 18.59l7.72-7.72 1.47 1.35L5.41 20z\"/>\n",
              "  </svg>\n",
              "      </button>\n",
              "      \n",
              "  <style>\n",
              "    .colab-df-container {\n",
              "      display:flex;\n",
              "      flex-wrap:wrap;\n",
              "      gap: 12px;\n",
              "    }\n",
              "\n",
              "    .colab-df-convert {\n",
              "      background-color: #E8F0FE;\n",
              "      border: none;\n",
              "      border-radius: 50%;\n",
              "      cursor: pointer;\n",
              "      display: none;\n",
              "      fill: #1967D2;\n",
              "      height: 32px;\n",
              "      padding: 0 0 0 0;\n",
              "      width: 32px;\n",
              "    }\n",
              "\n",
              "    .colab-df-convert:hover {\n",
              "      background-color: #E2EBFA;\n",
              "      box-shadow: 0px 1px 2px rgba(60, 64, 67, 0.3), 0px 1px 3px 1px rgba(60, 64, 67, 0.15);\n",
              "      fill: #174EA6;\n",
              "    }\n",
              "\n",
              "    [theme=dark] .colab-df-convert {\n",
              "      background-color: #3B4455;\n",
              "      fill: #D2E3FC;\n",
              "    }\n",
              "\n",
              "    [theme=dark] .colab-df-convert:hover {\n",
              "      background-color: #434B5C;\n",
              "      box-shadow: 0px 1px 3px 1px rgba(0, 0, 0, 0.15);\n",
              "      filter: drop-shadow(0px 1px 2px rgba(0, 0, 0, 0.3));\n",
              "      fill: #FFFFFF;\n",
              "    }\n",
              "  </style>\n",
              "\n",
              "      <script>\n",
              "        const buttonEl =\n",
              "          document.querySelector('#df-6d520e91-74af-4f8e-8b2a-2dd13badad83 button.colab-df-convert');\n",
              "        buttonEl.style.display =\n",
              "          google.colab.kernel.accessAllowed ? 'block' : 'none';\n",
              "\n",
              "        async function convertToInteractive(key) {\n",
              "          const element = document.querySelector('#df-6d520e91-74af-4f8e-8b2a-2dd13badad83');\n",
              "          const dataTable =\n",
              "            await google.colab.kernel.invokeFunction('convertToInteractive',\n",
              "                                                     [key], {});\n",
              "          if (!dataTable) return;\n",
              "\n",
              "          const docLinkHtml = 'Like what you see? Visit the ' +\n",
              "            '<a target=\"_blank\" href=https://colab.research.google.com/notebooks/data_table.ipynb>data table notebook</a>'\n",
              "            + ' to learn more about interactive tables.';\n",
              "          element.innerHTML = '';\n",
              "          dataTable['output_type'] = 'display_data';\n",
              "          await google.colab.output.renderOutput(dataTable, element);\n",
              "          const docLink = document.createElement('div');\n",
              "          docLink.innerHTML = docLinkHtml;\n",
              "          element.appendChild(docLink);\n",
              "        }\n",
              "      </script>\n",
              "    </div>\n",
              "  </div>\n",
              "  "
            ]
          },
          "metadata": {},
          "execution_count": 48
        }
      ],
      "source": [
        "sequence['event'] = sequence.event.apply(lambda event: list(filter(lambda a: a != 1, event)))\n",
        "print('Total number of records:', sequence.shape[0])\n",
        "sequence.head()"
      ]
    },
    {
      "cell_type": "markdown",
      "metadata": {
        "id": "WlmjpsAzRdMc"
      },
      "source": [
        "8. How many user sessions do we have?"
      ]
    },
    {
      "cell_type": "code",
      "execution_count": null,
      "metadata": {
        "colab": {
          "base_uri": "https://localhost:8080/"
        },
        "id": "pGqapI4oRdMd",
        "outputId": "2e1de5a0-c533-408b-e152-d0718ab32d80"
      },
      "outputs": [
        {
          "output_type": "stream",
          "name": "stdout",
          "text": [
            "Total number of records: 336979\n"
          ]
        }
      ],
      "source": [
        "print('Total number of records:', sequence.shape[0])"
      ]
    },
    {
      "cell_type": "markdown",
      "metadata": {
        "id": "cYeOVWokRdMd"
      },
      "source": [
        "9. What percent of user sessions lead to a purchase?"
      ]
    },
    {
      "cell_type": "code",
      "execution_count": null,
      "metadata": {
        "colab": {
          "base_uri": "https://localhost:8080/"
        },
        "id": "4eVuToSeRdMd",
        "outputId": "998143aa-850a-4b0c-b274-f2d2b5830c62"
      },
      "outputs": [
        {
          "output_type": "stream",
          "name": "stdout",
          "text": [
            "Percent of sessions ending in a purchase: 3.36%\n"
          ]
        }
      ],
      "source": [
        "purchase_percent = sequence.purchase.sum() / sequence.shape[0]\n",
        "print(f'Percent of sessions ending in a purchase: {purchase_percent * 100:.2f}%')"
      ]
    },
    {
      "cell_type": "markdown",
      "metadata": {
        "id": "pU6mRjRiEGHZ"
      },
      "source": [
        "10. What is the distribution of lengths of the sequences?"
      ]
    },
    {
      "cell_type": "code",
      "execution_count": null,
      "metadata": {
        "id": "K2Mf3A5yP6f4",
        "colab": {
          "base_uri": "https://localhost:8080/",
          "height": 344
        },
        "outputId": "417a1f44-7e9d-4fd3-91f4-36fd7c39b135"
      },
      "outputs": [
        {
          "output_type": "stream",
          "name": "stderr",
          "text": [
            "/usr/local/lib/python3.7/dist-packages/seaborn/distributions.py:2619: FutureWarning: `distplot` is a deprecated function and will be removed in a future version. Please adapt your code to use either `displot` (a figure-level function with similar flexibility) or `histplot` (an axes-level function for histograms).\n",
            "  warnings.warn(msg, FutureWarning)\n"
          ]
        },
        {
          "output_type": "execute_result",
          "data": {
            "text/plain": [
              "<matplotlib.axes._subplots.AxesSubplot at 0x7f3f94ac5b10>"
            ]
          },
          "metadata": {},
          "execution_count": 51
        },
        {
          "output_type": "display_data",
          "data": {
            "text/plain": [
              "<Figure size 432x288 with 1 Axes>"
            ],
            "image/png": "[encoded data removed]"
          },
          "metadata": {
            "needs_background": "light"
          }
        }
      ],
      "source": [
        "import seaborn as sns\n",
        "\n",
        "lengths = sequence['event'].map(len).values\n",
        "sns.distplot(lengths)"
      ]
    },
    {
      "cell_type": "markdown",
      "metadata": {
        "id": "alxwobvPP6f6"
      },
      "source": [
        "We see that most sequences are about 100 or shorter. \n",
        "\n",
        "One difficult task in time series modeling is to find the optimal sequence size for highest prediction accuracy. We won't attemp that today. We'll focus on sequences that have lengths less than or equal to 10.\n",
        "\n",
        "11. Select all the sequences that are up to 10 events long."
      ]
    },
    {
      "cell_type": "code",
      "execution_count": null,
      "metadata": {
        "id": "dLZ-S5lxP6f6"
      },
      "outputs": [],
      "source": [
        "short_sequence_10 = sequence[sequence['event'].map(len) <= 10]"
      ]
    },
    {
      "cell_type": "markdown",
      "metadata": {
        "id": "UrjpWHhwRdMf"
      },
      "source": [
        "12. How many user sessions do we have now?"
      ]
    },
    {
      "cell_type": "code",
      "execution_count": null,
      "metadata": {
        "id": "Fzy_4xh3P6f7",
        "colab": {
          "base_uri": "https://localhost:8080/"
        },
        "outputId": "6eeb138c-a428-47c4-8b46-d853998ba1ec"
      },
      "outputs": [
        {
          "output_type": "stream",
          "name": "stdout",
          "text": [
            "Total number of records: 309214\n"
          ]
        }
      ],
      "source": [
        "print('Total number of records:', short_sequence_10.shape[0])"
      ]
    },
    {
      "cell_type": "markdown",
      "metadata": {
        "id": "uDScrStaFqnm"
      },
      "source": [
        "13. To make the data amenable to training a TensorFlow neural network, we need to make all the sequences the same length. We can use teh `pad_sequences()` function."
      ]
    },
    {
      "cell_type": "code",
      "execution_count": null,
      "metadata": {
        "colab": {
          "base_uri": "https://localhost:8080/"
        },
        "id": "9t0boHE-RdMg",
        "outputId": "4a615166-71a4-43f6-dcc5-0b31cb34bbda"
      },
      "outputs": [
        {
          "output_type": "stream",
          "name": "stdout",
          "text": [
            "[[0 0 0 0 0 0 0 0 0 3]\n",
            " [0 0 0 0 0 0 0 0 0 3]\n",
            " [0 0 0 0 0 0 0 0 3 2]\n",
            " [0 0 0 0 0 0 0 0 0 3]\n",
            " [0 0 0 2 2 2 2 2 2 2]]\n"
          ]
        }
      ],
      "source": [
        "from keras.preprocessing.sequence import pad_sequences\n",
        "\n",
        "event_sequence = short_sequence_10['event'].values\n",
        "event = pad_sequences(event_sequence)\n",
        "print(event[0:5])"
      ]
    },
    {
      "cell_type": "markdown",
      "metadata": {
        "id": "f3ezjtu-RdMg"
      },
      "source": [
        "14. What percent of these sequences lead to a purchase?"
      ]
    },
    {
      "cell_type": "code",
      "execution_count": null,
      "metadata": {
        "colab": {
          "base_uri": "https://localhost:8080/"
        },
        "id": "Klaog_eJRdMg",
        "outputId": "2ccf4650-44be-408b-a85a-9ff97d9bb432"
      },
      "outputs": [
        {
          "output_type": "stream",
          "name": "stdout",
          "text": [
            "Percent of sessions ending in a purchase: 1.96%\n"
          ]
        }
      ],
      "source": [
        "purchase_percent_10 = short_sequence_10.purchase.sum() / short_sequence_10.shape[0]\n",
        "print(f'Percent of sessions ending in a purchase: {purchase_percent_10 * 100:.2f}%')"
      ]
    },
    {
      "cell_type": "markdown",
      "metadata": {
        "id": "iNBzGzoTRdMg"
      },
      "source": [
        "## Task 2: Helper Functions for Evaluation"
      ]
    },
    {
      "cell_type": "markdown",
      "metadata": {
        "id": "LKFz1gOgRdMg"
      },
      "source": [
        "1. Define the `prepare_train_test_data()`, which uses scikit-learn's `train_test_split()` function and resizes the results as needed for the Tensorflow sequence models."
      ]
    },
    {
      "cell_type": "code",
      "execution_count": null,
      "metadata": {
        "id": "QSwyKV9wRdMh"
      },
      "outputs": [],
      "source": [
        "from sklearn.model_selection import train_test_split\n",
        "\n",
        "def prepare_train_test_data(data, y):\n",
        "    X_train, X_test, y_train, y_test = train_test_split(data, y, test_size=0.3)\n",
        "    X_train = X_train.reshape((X_train.shape[0], X_train.shape[1], 1))\n",
        "    X_test = X_test.reshape((X_test.shape[0], X_test.shape[1], 1))\n",
        "    return X_train, X_test, y_train, y_test"
      ]
    },
    {
      "cell_type": "markdown",
      "metadata": {
        "id": "EnqB3kgRRdMh"
      },
      "source": [
        "2. Define `plot_history()` which plots the model fit process."
      ]
    },
    {
      "cell_type": "code",
      "execution_count": null,
      "metadata": {
        "id": "EwlEW7_oRdMh"
      },
      "outputs": [],
      "source": [
        "import matplotlib.pyplot as plt\n",
        "\n",
        "def plot_history(history):\n",
        "    '''\n",
        "    Plot the model fit process.\n",
        "    '''\n",
        "    print(history.history.keys())\n",
        "    # summarize history for accuracy\n",
        "    plt.plot(history.history['acc'])\n",
        "    plt.plot(history.history['val_acc'])\n",
        "    plt.title('model accuracy')\n",
        "    plt.ylabel('acc')\n",
        "    plt.xlabel('epoch')\n",
        "    plt.legend(['train', 'test'], loc='upper left')\n",
        "    plt.show()\n",
        "    # summarize history for loss\n",
        "    plt.plot(history.history['loss'])\n",
        "    plt.plot(history.history['val_loss'])\n",
        "    plt.title('model loss')\n",
        "    plt.ylabel('loss')\n",
        "    plt.xlabel('epoch')\n",
        "    plt.legend(['train', 'test'], loc='upper left')\n",
        "    plt.show()"
      ]
    },
    {
      "cell_type": "markdown",
      "metadata": {
        "id": "hTRiaW8NRdMi"
      },
      "source": [
        "3. Define `evaluate_on_test()` which evaluates the fit model on test data."
      ]
    },
    {
      "cell_type": "code",
      "execution_count": null,
      "metadata": {
        "id": "RsxIZTTCRdMi"
      },
      "outputs": [],
      "source": [
        "import numpy as np\n",
        "from sklearn.metrics import accuracy_score, precision_score, recall_score, f1_score\n",
        "\n",
        "def evaluate_on_test(X_test, y_test, training_model):\n",
        "    '''\n",
        "    Evaluate the fit model on test data.\n",
        "    '''\n",
        "    model_output=training_model.predict(X_test)\n",
        "    g_preds = np.argmax(model_output,axis=1)\n",
        "    gaccuracy = accuracy_score(y_test[:,1], g_preds)\n",
        "    print('Accuracy: %f' % gaccuracy)\n",
        "    # precision tp / (tp + fp)\n",
        "    gprecision = precision_score(y_test[:,1], g_preds)\n",
        "    print('Precision: %f' % gprecision)\n",
        "    # recall: tp / (tp + fn)\n",
        "    grecall = recall_score(y_test[:,1], g_preds)\n",
        "    print('Recall: %f' % grecall)\n",
        "    # f1: 2 tp / (2 tp + fp + fn)\n",
        "    gf1 = f1_score(y_test[:,1], g_preds)\n",
        "    print('F1 score: %f' % gf1)"
      ]
    },
    {
      "cell_type": "markdown",
      "metadata": {
        "id": "bPMgxj6ERdMi"
      },
      "source": [
        "## Task 3: Train a RNN model"
      ]
    },
    {
      "cell_type": "markdown",
      "metadata": {
        "id": "porAepcgRdMi"
      },
      "source": [
        "1. Use the `pd.get_dummies()` function to create the target array `y`."
      ]
    },
    {
      "cell_type": "code",
      "execution_count": null,
      "metadata": {
        "id": "ElV5LBBeRdMi"
      },
      "outputs": [],
      "source": [
        "y = pd.get_dummies(short_sequence_10['purchase']).values"
      ]
    },
    {
      "cell_type": "markdown",
      "metadata": {
        "id": "iAKQ3Bl3RdMj"
      },
      "source": [
        "2. Use the `prepare_train_test_data()` function to get the training and test sets."
      ]
    },
    {
      "cell_type": "code",
      "execution_count": null,
      "metadata": {
        "colab": {
          "base_uri": "https://localhost:8080/"
        },
        "id": "ywBS7nyORdMj",
        "outputId": "f91d4335-d07e-45e1-9fcc-249ac4cbcf7f"
      },
      "outputs": [
        {
          "output_type": "stream",
          "name": "stdout",
          "text": [
            "Training data shape: (216449, 10, 1) (216449, 2)\n",
            "Test data shape: (92765, 10, 1) (92765, 2)\n"
          ]
        }
      ],
      "source": [
        "X_train, X_test, y_train, y_test = prepare_train_test_data(event, y)\n",
        "print(\"Training data shape:\", X_train.shape, y_train.shape)\n",
        "print(\"Test data shape:\", X_test.shape, y_test.shape)"
      ]
    },
    {
      "cell_type": "markdown",
      "metadata": {
        "id": "_ORGIGQSI3Ei"
      },
      "source": [
        "3. We'll start with training a [`SimpleRNN`](https://www.tensorflow.org/api_docs/python/tf/keras/layers/SimpleRNN)."
      ]
    },
    {
      "cell_type": "code",
      "execution_count": null,
      "metadata": {
        "id": "p8fOqyJPJDc5"
      },
      "outputs": [],
      "source": [
        "from keras.models import Sequential\n",
        "from keras.layers import SimpleRNN, Dense\n",
        "from tensorflow.keras.optimizers import Adam\n",
        "\n",
        "def simple_RNN_model(neurons=40, op=10):\n",
        "    model = Sequential()\n",
        "    model.add(SimpleRNN(neurons, return_sequences=True, input_shape=(op, 1)))\n",
        "    model.add(SimpleRNN(2 * neurons))\n",
        "    model.add(Dense(2, activation='softmax'))\n",
        "    model.compile(\n",
        "        optimizer=Adam(learning_rate=0.0003),\n",
        "        loss='binary_crossentropy',\n",
        "        metrics=['acc'])\n",
        "    return model"
      ]
    },
    {
      "cell_type": "markdown",
      "metadata": {
        "id": "WPtfY9VLRdMj"
      },
      "source": [
        "4. Visualize the model. We'll clear the session each time to make sure we start with a blank slate."
      ]
    },
    {
      "cell_type": "code",
      "execution_count": null,
      "metadata": {
        "id": "1cuwPUcLJvh6",
        "colab": {
          "base_uri": "https://localhost:8080/"
        },
        "outputId": "9aa8b567-2154-4333-d7b1-b9db0fc66c93"
      },
      "outputs": [
        {
          "output_type": "stream",
          "name": "stdout",
          "text": [
            "Model: \"sequential\"\n",
            "_________________________________________________________________\n",
            " Layer (type)                Output Shape              Param #   \n",
            "=================================================================\n",
            " simple_rnn (SimpleRNN)      (None, 10, 40)            1680      \n",
            "                                                                 \n",
            " simple_rnn_1 (SimpleRNN)    (None, 80)                9680      \n",
            "                                                                 \n",
            " dense (Dense)               (None, 2)                 162       \n",
            "                                                                 \n",
            "=================================================================\n",
            "Total params: 11,522\n",
            "Trainable params: 11,522\n",
            "Non-trainable params: 0\n",
            "_________________________________________________________________\n"
          ]
        }
      ],
      "source": [
        "from tensorflow.keras.backend import clear_session\n",
        "\n",
        "clear_session()\n",
        "RNN_model = simple_RNN_model(neurons=40, op=10)\n",
        "RNN_model.summary()"
      ]
    },
    {
      "cell_type": "markdown",
      "metadata": {
        "id": "pk6doYHHRdMk"
      },
      "source": [
        "5. Fit the model using 80/20 validation split at runtime."
      ]
    },
    {
      "cell_type": "code",
      "execution_count": null,
      "metadata": {
        "colab": {
          "base_uri": "https://localhost:8080/"
        },
        "id": "YkJOroirRdMk",
        "outputId": "1948403f-386a-4ae2-e77e-3fd66df0aba8"
      },
      "outputs": [
        {
          "output_type": "stream",
          "name": "stdout",
          "text": [
            "Epoch 1/20\n",
            "174/174 [==============================] - 5s 23ms/step - loss: 0.1541 - acc: 0.9497 - val_loss: 0.0857 - val_acc: 0.9795\n",
            "Epoch 2/20\n",
            "174/174 [==============================] - 4s 22ms/step - loss: 0.0814 - acc: 0.9803 - val_loss: 0.0812 - val_acc: 0.9795\n",
            "Epoch 3/20\n",
            "174/174 [==============================] - 4s 22ms/step - loss: 0.0778 - acc: 0.9803 - val_loss: 0.0779 - val_acc: 0.9795\n",
            "Epoch 4/20\n",
            "174/174 [==============================] - 4s 21ms/step - loss: 0.0743 - acc: 0.9803 - val_loss: 0.0744 - val_acc: 0.9795\n",
            "Epoch 5/20\n",
            "174/174 [==============================] - 4s 22ms/step - loss: 0.0710 - acc: 0.9803 - val_loss: 0.0715 - val_acc: 0.9795\n",
            "Epoch 6/20\n",
            "174/174 [==============================] - 4s 22ms/step - loss: 0.0684 - acc: 0.9816 - val_loss: 0.0695 - val_acc: 0.9829\n",
            "Epoch 7/20\n",
            "174/174 [==============================] - 4s 21ms/step - loss: 0.0669 - acc: 0.9838 - val_loss: 0.0684 - val_acc: 0.9829\n",
            "Epoch 8/20\n",
            "174/174 [==============================] - 3s 20ms/step - loss: 0.0659 - acc: 0.9838 - val_loss: 0.0676 - val_acc: 0.9829\n",
            "Epoch 9/20\n",
            "174/174 [==============================] - 4s 21ms/step - loss: 0.0654 - acc: 0.9838 - val_loss: 0.0672 - val_acc: 0.9829\n",
            "Epoch 10/20\n",
            "174/174 [==============================] - 4s 21ms/step - loss: 0.0649 - acc: 0.9838 - val_loss: 0.0666 - val_acc: 0.9829\n",
            "Epoch 11/20\n",
            "174/174 [==============================] - 4s 21ms/step - loss: 0.0646 - acc: 0.9838 - val_loss: 0.0665 - val_acc: 0.9829\n",
            "Epoch 12/20\n",
            "174/174 [==============================] - 4s 21ms/step - loss: 0.0645 - acc: 0.9838 - val_loss: 0.0664 - val_acc: 0.9829\n",
            "Epoch 13/20\n",
            "174/174 [==============================] - 4s 22ms/step - loss: 0.0642 - acc: 0.9838 - val_loss: 0.0663 - val_acc: 0.9829\n",
            "Epoch 14/20\n",
            "174/174 [==============================] - 4s 22ms/step - loss: 0.0641 - acc: 0.9838 - val_loss: 0.0659 - val_acc: 0.9829\n",
            "Epoch 15/20\n",
            "174/174 [==============================] - 4s 22ms/step - loss: 0.0639 - acc: 0.9838 - val_loss: 0.0657 - val_acc: 0.9829\n",
            "Epoch 16/20\n",
            "174/174 [==============================] - 4s 20ms/step - loss: 0.0638 - acc: 0.9838 - val_loss: 0.0656 - val_acc: 0.9829\n",
            "Epoch 17/20\n",
            "174/174 [==============================] - 4s 22ms/step - loss: 0.0636 - acc: 0.9838 - val_loss: 0.0655 - val_acc: 0.9829\n",
            "Epoch 18/20\n",
            "174/174 [==============================] - 4s 20ms/step - loss: 0.0635 - acc: 0.9838 - val_loss: 0.0652 - val_acc: 0.9829\n",
            "Epoch 19/20\n",
            "174/174 [==============================] - 4s 21ms/step - loss: 0.0633 - acc: 0.9838 - val_loss: 0.0651 - val_acc: 0.9829\n",
            "Epoch 20/20\n",
            "174/174 [==============================] - 4s 21ms/step - loss: 0.0632 - acc: 0.9838 - val_loss: 0.0657 - val_acc: 0.9829\n"
          ]
        }
      ],
      "source": [
        "r_history = RNN_model.fit(X_train, y_train, epochs=20, batch_size=1000, validation_split=0.2)"
      ]
    },
    {
      "cell_type": "markdown",
      "metadata": {
        "id": "JKzzvFEeRdMk"
      },
      "source": [
        "6. Call the `plot_history()` and `evaluate_on_test()` functions to see the performance."
      ]
    },
    {
      "cell_type": "code",
      "execution_count": null,
      "metadata": {
        "id": "zVJTgqvHJJFB",
        "colab": {
          "base_uri": "https://localhost:8080/",
          "height": 665
        },
        "outputId": "5a90b049-ae65-4794-9d52-211f1e0703a3"
      },
      "outputs": [
        {
          "output_type": "stream",
          "name": "stdout",
          "text": [
            "dict_keys(['loss', 'acc', 'val_loss', 'val_acc'])\n"
          ]
        },
        {
          "output_type": "display_data",
          "data": {
            "text/plain": [
              "<Figure size 432x288 with 1 Axes>"
            ],
            "image/png": "[encoded data removed]"
          },
          "metadata": {
            "needs_background": "light"
          }
        },
        {
          "output_type": "display_data",
          "data": {
            "text/plain": [
              "<Figure size 432x288 with 1 Axes>"
            ],
            "image/png": "[encoded data removed]"
          },
          "metadata": {
            "needs_background": "light"
          }
        },
        {
          "output_type": "stream",
          "name": "stdout",
          "text": [
            "Accuracy: 0.984531\n",
            "Precision: 1.000000\n",
            "Recall: 0.185585\n",
            "F1 score: 0.313068\n"
          ]
        }
      ],
      "source": [
        "plot_history(r_history)\n",
        "evaluate_on_test(X_test, y_test, RNN_model)"
      ]
    },
    {
      "cell_type": "markdown",
      "metadata": {
        "id": "4QNQqrnx-Xro"
      },
      "source": [
        "The recall here is fairly low, ostensibly because of the imbalance of purchase and non-purchase events, but this was a good first start."
      ]
    },
    {
      "cell_type": "markdown",
      "metadata": {
        "id": "-IULjM4vLIUx"
      },
      "source": [
        "## Task 4: Train GRU-based and LSTM-based models"
      ]
    },
    {
      "cell_type": "markdown",
      "metadata": {
        "id": "0I82RU-x_qHm"
      },
      "source": [
        "1. Define a network based on GRU layers called `GRU_model`. It's the same as the `simple_RNN_model`, except you need to replace the `SimpleRNN` layers for `GRU` layers ."
      ]
    },
    {
      "cell_type": "code",
      "execution_count": null,
      "metadata": {
        "id": "s-zDi5ykLq2M"
      },
      "outputs": [],
      "source": [
        "from keras.layers import GRU\n",
        "\n",
        "def GRU_model(neurons=40, op=10):\n",
        "    model = Sequential()\n",
        "    model.add(GRU(neurons, return_sequences=True, input_shape=(op, 1)))\n",
        "    model.add(GRU(2 * neurons))\n",
        "    model.add(Dense(2, activation='softmax'))\n",
        "    model.compile(\n",
        "        optimizer=Adam(learning_rate=0.0003),\n",
        "        loss='binary_crossentropy',\n",
        "        metrics=['acc'])\n",
        "    return model"
      ]
    },
    {
      "cell_type": "markdown",
      "metadata": {
        "id": "rYTIHYUXRdMl"
      },
      "source": [
        "2. Visualize the model."
      ]
    },
    {
      "cell_type": "code",
      "execution_count": null,
      "metadata": {
        "id": "DEy3TOkMLy8T",
        "colab": {
          "base_uri": "https://localhost:8080/"
        },
        "outputId": "4dcb9ba6-f2f5-4acf-ab6a-b2077b89c63b"
      },
      "outputs": [
        {
          "output_type": "stream",
          "name": "stdout",
          "text": [
            "Model: \"sequential\"\n",
            "_________________________________________________________________\n",
            " Layer (type)                Output Shape              Param #   \n",
            "=================================================================\n",
            " gru (GRU)                   (None, 10, 40)            5160      \n",
            "                                                                 \n",
            " gru_1 (GRU)                 (None, 80)                29280     \n",
            "                                                                 \n",
            " dense (Dense)               (None, 2)                 162       \n",
            "                                                                 \n",
            "=================================================================\n",
            "Total params: 34,602\n",
            "Trainable params: 34,602\n",
            "Non-trainable params: 0\n",
            "_________________________________________________________________\n"
          ]
        }
      ],
      "source": [
        "clear_session()\n",
        "G_model = GRU_model()\n",
        "G_model.summary()"
      ]
    },
    {
      "cell_type": "markdown",
      "metadata": {
        "id": "pkz8RaueRdMm"
      },
      "source": [
        "3. Train `G_model` with 40 epocs, 1000 samples per batch, and a validation split of 0.2."
      ]
    },
    {
      "cell_type": "code",
      "execution_count": null,
      "metadata": {
        "id": "pcYsLzXWMIiB",
        "colab": {
          "base_uri": "https://localhost:8080/"
        },
        "outputId": "3a80376a-3f89-4f5f-eeb0-4b00ca6f8d68"
      },
      "outputs": [
        {
          "output_type": "stream",
          "name": "stdout",
          "text": [
            "Epoch 1/40\n",
            "174/174 [==============================] - 4s 10ms/step - loss: 0.2257 - acc: 0.9803 - val_loss: 0.1049 - val_acc: 0.9795\n",
            "Epoch 2/40\n",
            "174/174 [==============================] - 1s 6ms/step - loss: 0.0955 - acc: 0.9803 - val_loss: 0.0930 - val_acc: 0.9795\n",
            "Epoch 3/40\n",
            "174/174 [==============================] - 1s 6ms/step - loss: 0.0859 - acc: 0.9803 - val_loss: 0.0858 - val_acc: 0.9795\n",
            "Epoch 4/40\n",
            "174/174 [==============================] - 1s 7ms/step - loss: 0.0831 - acc: 0.9803 - val_loss: 0.0841 - val_acc: 0.9795\n",
            "Epoch 5/40\n",
            "174/174 [==============================] - 1s 7ms/step - loss: 0.0810 - acc: 0.9803 - val_loss: 0.0815 - val_acc: 0.9795\n",
            "Epoch 6/40\n",
            "174/174 [==============================] - 1s 6ms/step - loss: 0.0771 - acc: 0.9803 - val_loss: 0.0765 - val_acc: 0.9795\n",
            "Epoch 7/40\n",
            "174/174 [==============================] - 1s 7ms/step - loss: 0.0715 - acc: 0.9804 - val_loss: 0.0707 - val_acc: 0.9795\n",
            "Epoch 8/40\n",
            "174/174 [==============================] - 1s 6ms/step - loss: 0.0674 - acc: 0.9833 - val_loss: 0.0683 - val_acc: 0.9829\n",
            "Epoch 9/40\n",
            "174/174 [==============================] - 1s 6ms/step - loss: 0.0659 - acc: 0.9838 - val_loss: 0.0673 - val_acc: 0.9829\n",
            "Epoch 10/40\n",
            "174/174 [==============================] - 1s 7ms/step - loss: 0.0652 - acc: 0.9838 - val_loss: 0.0672 - val_acc: 0.9829\n",
            "Epoch 11/40\n",
            "174/174 [==============================] - 1s 7ms/step - loss: 0.0649 - acc: 0.9838 - val_loss: 0.0669 - val_acc: 0.9829\n",
            "Epoch 12/40\n",
            "174/174 [==============================] - 1s 7ms/step - loss: 0.0648 - acc: 0.9838 - val_loss: 0.0666 - val_acc: 0.9829\n",
            "Epoch 13/40\n",
            "174/174 [==============================] - 1s 7ms/step - loss: 0.0647 - acc: 0.9838 - val_loss: 0.0666 - val_acc: 0.9829\n",
            "Epoch 14/40\n",
            "174/174 [==============================] - 1s 7ms/step - loss: 0.0646 - acc: 0.9838 - val_loss: 0.0665 - val_acc: 0.9829\n",
            "Epoch 15/40\n",
            "174/174 [==============================] - 1s 7ms/step - loss: 0.0645 - acc: 0.9838 - val_loss: 0.0665 - val_acc: 0.9829\n",
            "Epoch 16/40\n",
            "174/174 [==============================] - 1s 7ms/step - loss: 0.0644 - acc: 0.9838 - val_loss: 0.0663 - val_acc: 0.9829\n",
            "Epoch 17/40\n",
            "174/174 [==============================] - 1s 6ms/step - loss: 0.0643 - acc: 0.9838 - val_loss: 0.0669 - val_acc: 0.9829\n",
            "Epoch 18/40\n",
            "174/174 [==============================] - 1s 7ms/step - loss: 0.0642 - acc: 0.9838 - val_loss: 0.0663 - val_acc: 0.9829\n",
            "Epoch 19/40\n",
            "174/174 [==============================] - 1s 7ms/step - loss: 0.0641 - acc: 0.9838 - val_loss: 0.0662 - val_acc: 0.9829\n",
            "Epoch 20/40\n",
            "174/174 [==============================] - 1s 6ms/step - loss: 0.0640 - acc: 0.9838 - val_loss: 0.0661 - val_acc: 0.9829\n",
            "Epoch 21/40\n",
            "174/174 [==============================] - 1s 7ms/step - loss: 0.0640 - acc: 0.9838 - val_loss: 0.0661 - val_acc: 0.9829\n",
            "Epoch 22/40\n",
            "174/174 [==============================] - 1s 7ms/step - loss: 0.0639 - acc: 0.9838 - val_loss: 0.0660 - val_acc: 0.9829\n",
            "Epoch 23/40\n",
            "174/174 [==============================] - 1s 6ms/step - loss: 0.0639 - acc: 0.9838 - val_loss: 0.0660 - val_acc: 0.9829\n",
            "Epoch 24/40\n",
            "174/174 [==============================] - 1s 7ms/step - loss: 0.0638 - acc: 0.9838 - val_loss: 0.0659 - val_acc: 0.9829\n",
            "Epoch 25/40\n",
            "174/174 [==============================] - 1s 7ms/step - loss: 0.0637 - acc: 0.9838 - val_loss: 0.0657 - val_acc: 0.9829\n",
            "Epoch 26/40\n",
            "174/174 [==============================] - 1s 7ms/step - loss: 0.0636 - acc: 0.9838 - val_loss: 0.0658 - val_acc: 0.9829\n",
            "Epoch 27/40\n",
            "174/174 [==============================] - 1s 7ms/step - loss: 0.0635 - acc: 0.9838 - val_loss: 0.0658 - val_acc: 0.9829\n",
            "Epoch 28/40\n",
            "174/174 [==============================] - 1s 6ms/step - loss: 0.0634 - acc: 0.9838 - val_loss: 0.0654 - val_acc: 0.9829\n",
            "Epoch 29/40\n",
            "174/174 [==============================] - 1s 6ms/step - loss: 0.0632 - acc: 0.9838 - val_loss: 0.0656 - val_acc: 0.9829\n",
            "Epoch 30/40\n",
            "174/174 [==============================] - 1s 7ms/step - loss: 0.0631 - acc: 0.9838 - val_loss: 0.0649 - val_acc: 0.9829\n",
            "Epoch 31/40\n",
            "174/174 [==============================] - 1s 7ms/step - loss: 0.0630 - acc: 0.9838 - val_loss: 0.0648 - val_acc: 0.9829\n",
            "Epoch 32/40\n",
            "174/174 [==============================] - 1s 7ms/step - loss: 0.0628 - acc: 0.9838 - val_loss: 0.0647 - val_acc: 0.9829\n",
            "Epoch 33/40\n",
            "174/174 [==============================] - 1s 7ms/step - loss: 0.0625 - acc: 0.9838 - val_loss: 0.0648 - val_acc: 0.9829\n",
            "Epoch 34/40\n",
            "174/174 [==============================] - 1s 6ms/step - loss: 0.0623 - acc: 0.9838 - val_loss: 0.0647 - val_acc: 0.9829\n",
            "Epoch 35/40\n",
            "174/174 [==============================] - 1s 7ms/step - loss: 0.0622 - acc: 0.9838 - val_loss: 0.0639 - val_acc: 0.9829\n",
            "Epoch 36/40\n",
            "174/174 [==============================] - 1s 7ms/step - loss: 0.0619 - acc: 0.9838 - val_loss: 0.0641 - val_acc: 0.9829\n",
            "Epoch 37/40\n",
            "174/174 [==============================] - 1s 7ms/step - loss: 0.0618 - acc: 0.9838 - val_loss: 0.0645 - val_acc: 0.9829\n",
            "Epoch 38/40\n",
            "174/174 [==============================] - 1s 7ms/step - loss: 0.0616 - acc: 0.9838 - val_loss: 0.0633 - val_acc: 0.9829\n",
            "Epoch 39/40\n",
            "174/174 [==============================] - 1s 7ms/step - loss: 0.0613 - acc: 0.9838 - val_loss: 0.0633 - val_acc: 0.9829\n",
            "Epoch 40/40\n",
            "174/174 [==============================] - 1s 7ms/step - loss: 0.0611 - acc: 0.9838 - val_loss: 0.0637 - val_acc: 0.9829\n"
          ]
        }
      ],
      "source": [
        "g_history = G_model.fit(X_train, y_train, \n",
        "                        epochs=40, \n",
        "                        batch_size=1000, \n",
        "                        validation_split=0.2)"
      ]
    },
    {
      "cell_type": "markdown",
      "metadata": {
        "id": "fOWyuS3JRdMm"
      },
      "source": [
        "4. Use the `plot_history()` and `evaluate_on_test()` functions to view the performance of the model. How does it compare to the previous model?"
      ]
    },
    {
      "cell_type": "code",
      "execution_count": null,
      "metadata": {
        "id": "0GdxIFEcMS94",
        "colab": {
          "base_uri": "https://localhost:8080/",
          "height": 665
        },
        "outputId": "baf50f11-0ee9-4a3e-c51a-08f070cb6849"
      },
      "outputs": [
        {
          "output_type": "stream",
          "name": "stdout",
          "text": [
            "dict_keys(['loss', 'acc', 'val_loss', 'val_acc'])\n"
          ]
        },
        {
          "output_type": "display_data",
          "data": {
            "text/plain": [
              "<Figure size 432x288 with 1 Axes>"
            ],
            "image/png": "[encoded data removed]"
          },
          "metadata": {
            "needs_background": "light"
          }
        },
        {
          "output_type": "display_data",
          "data": {
            "text/plain": [
              "<Figure size 432x288 with 1 Axes>"
            ],
            "image/png": "[encoded data removed]"
          },
          "metadata": {
            "needs_background": "light"
          }
        },
        {
          "output_type": "stream",
          "name": "stdout",
          "text": [
            "Accuracy: 0.984531\n",
            "Precision: 1.000000\n",
            "Recall: 0.185585\n",
            "F1 score: 0.313068\n"
          ]
        }
      ],
      "source": [
        "plot_history(g_history)\n",
        "evaluate_on_test(X_test, y_test, G_model)"
      ]
    },
    {
      "cell_type": "markdown",
      "metadata": {
        "id": "qqQ4Y05we6Xn"
      },
      "source": [
        "These may get a very similar performance as the simple RNN, but you can check that it does produce slightly different outputs. GRU recurrent neural networks are just a more complicated type of network and often perform better on sequence prediction tasks. "
      ]
    },
    {
      "cell_type": "markdown",
      "metadata": {
        "id": "tfZHhIZW9zXI"
      },
      "source": [
        "5. Now define a LSTM model. It's the same as the `simple_RNN_model` with the `SimpleRNN` layers replaced with [`LSTM`](https://www.tensorflow.org/api_docs/python/tf/keras/layers/LSTM) layers. Additionally, try wrapping the first LSTM layer with [`Bidirectional`](https://www.tensorflow.org/api_docs/python/tf/keras/layers/Bidirectional)."
      ]
    },
    {
      "cell_type": "code",
      "execution_count": null,
      "metadata": {
        "id": "62VFEslyqEWX"
      },
      "outputs": [],
      "source": [
        "from keras.layers import Bidirectional, LSTM\n",
        "\n",
        "def LSTM_model(neurons=40, op=10):\n",
        "    model = Sequential()\n",
        "    model.add(Bidirectional(LSTM(neurons, return_sequences=True), input_shape=(op, 1)))\n",
        "    model.add(Bidirectional(LSTM(2 * neurons)))\n",
        "    model.add(Dense(2, activation='softmax'))\n",
        "    model.compile(\n",
        "        optimizer=Adam(learning_rate=0.0003),\n",
        "        loss='binary_crossentropy',\n",
        "        metrics=['acc'])\n",
        "    return model"
      ]
    },
    {
      "cell_type": "markdown",
      "metadata": {
        "id": "jOLq3toJRdMo"
      },
      "source": [
        "6. Visualize the model."
      ]
    },
    {
      "cell_type": "code",
      "execution_count": null,
      "metadata": {
        "id": "1HZqWlbtqegR",
        "colab": {
          "base_uri": "https://localhost:8080/"
        },
        "outputId": "7406aa85-d0fd-456d-b077-0e75f53b12fe"
      },
      "outputs": [
        {
          "output_type": "stream",
          "name": "stdout",
          "text": [
            "Model: \"sequential\"\n",
            "_________________________________________________________________\n",
            " Layer (type)                Output Shape              Param #   \n",
            "=================================================================\n",
            " bidirectional (Bidirectiona  (None, 10, 80)           13440     \n",
            " l)                                                              \n",
            "                                                                 \n",
            " bidirectional_1 (Bidirectio  (None, 160)              103040    \n",
            " nal)                                                            \n",
            "                                                                 \n",
            " dense (Dense)               (None, 2)                 322       \n",
            "                                                                 \n",
            "=================================================================\n",
            "Total params: 116,802\n",
            "Trainable params: 116,802\n",
            "Non-trainable params: 0\n",
            "_________________________________________________________________\n"
          ]
        }
      ],
      "source": [
        "clear_session()\n",
        "l_model = LSTM_model(neurons=40, op=10)\n",
        "l_model.summary()"
      ]
    },
    {
      "cell_type": "markdown",
      "metadata": {
        "id": "uj6nhV5ERdMo"
      },
      "source": [
        "7. Train `l_model` with 20 epochs, 1000 samples per batch, and a validation split of 0.2.\n",
        "\n",
        "    Note that LSTM can often take longer to fit because it has more free parameters."
      ]
    },
    {
      "cell_type": "code",
      "execution_count": null,
      "metadata": {
        "id": "duvgEdL-rur0",
        "colab": {
          "base_uri": "https://localhost:8080/"
        },
        "outputId": "da1dadba-8e04-47e3-eea5-981ed65ac5a1"
      },
      "outputs": [
        {
          "output_type": "stream",
          "name": "stdout",
          "text": [
            "Epoch 1/20\n",
            "174/174 [==============================] - 8s 19ms/step - loss: 0.1800 - acc: 0.9803 - val_loss: 0.0787 - val_acc: 0.9795\n",
            "Epoch 2/20\n",
            "174/174 [==============================] - 2s 11ms/step - loss: 0.0726 - acc: 0.9803 - val_loss: 0.0725 - val_acc: 0.9795\n",
            "Epoch 3/20\n",
            "174/174 [==============================] - 2s 11ms/step - loss: 0.0685 - acc: 0.9819 - val_loss: 0.0697 - val_acc: 0.9829\n",
            "Epoch 4/20\n",
            "174/174 [==============================] - 2s 12ms/step - loss: 0.0665 - acc: 0.9838 - val_loss: 0.0689 - val_acc: 0.9829\n",
            "Epoch 5/20\n",
            "174/174 [==============================] - 2s 11ms/step - loss: 0.0658 - acc: 0.9838 - val_loss: 0.0681 - val_acc: 0.9829\n",
            "Epoch 6/20\n",
            "174/174 [==============================] - 2s 11ms/step - loss: 0.0653 - acc: 0.9838 - val_loss: 0.0676 - val_acc: 0.9829\n",
            "Epoch 7/20\n",
            "174/174 [==============================] - 2s 11ms/step - loss: 0.0648 - acc: 0.9838 - val_loss: 0.0671 - val_acc: 0.9829\n",
            "Epoch 8/20\n",
            "174/174 [==============================] - 2s 11ms/step - loss: 0.0643 - acc: 0.9838 - val_loss: 0.0667 - val_acc: 0.9829\n",
            "Epoch 9/20\n",
            "174/174 [==============================] - 2s 12ms/step - loss: 0.0639 - acc: 0.9838 - val_loss: 0.0662 - val_acc: 0.9829\n",
            "Epoch 10/20\n",
            "174/174 [==============================] - 2s 11ms/step - loss: 0.0635 - acc: 0.9838 - val_loss: 0.0658 - val_acc: 0.9829\n",
            "Epoch 11/20\n",
            "174/174 [==============================] - 2s 11ms/step - loss: 0.0632 - acc: 0.9838 - val_loss: 0.0657 - val_acc: 0.9829\n",
            "Epoch 12/20\n",
            "174/174 [==============================] - 2s 11ms/step - loss: 0.0630 - acc: 0.9838 - val_loss: 0.0662 - val_acc: 0.9829\n",
            "Epoch 13/20\n",
            "174/174 [==============================] - 2s 11ms/step - loss: 0.0628 - acc: 0.9838 - val_loss: 0.0651 - val_acc: 0.9829\n",
            "Epoch 14/20\n",
            "174/174 [==============================] - 2s 11ms/step - loss: 0.0627 - acc: 0.9838 - val_loss: 0.0650 - val_acc: 0.9829\n",
            "Epoch 15/20\n",
            "174/174 [==============================] - 2s 12ms/step - loss: 0.0624 - acc: 0.9838 - val_loss: 0.0648 - val_acc: 0.9829\n",
            "Epoch 16/20\n",
            "174/174 [==============================] - 2s 12ms/step - loss: 0.0623 - acc: 0.9838 - val_loss: 0.0649 - val_acc: 0.9829\n",
            "Epoch 17/20\n",
            "174/174 [==============================] - 2s 11ms/step - loss: 0.0621 - acc: 0.9838 - val_loss: 0.0644 - val_acc: 0.9829\n",
            "Epoch 18/20\n",
            "174/174 [==============================] - 2s 11ms/step - loss: 0.0620 - acc: 0.9838 - val_loss: 0.0647 - val_acc: 0.9829\n",
            "Epoch 19/20\n",
            "174/174 [==============================] - 2s 11ms/step - loss: 0.0619 - acc: 0.9838 - val_loss: 0.0646 - val_acc: 0.9829\n",
            "Epoch 20/20\n",
            "174/174 [==============================] - 2s 11ms/step - loss: 0.0616 - acc: 0.9838 - val_loss: 0.0640 - val_acc: 0.9829\n"
          ]
        }
      ],
      "source": [
        "l_history = l_model.fit(X_train, y_train, \n",
        "                        epochs=20, \n",
        "                        batch_size=1000, \n",
        "                        validation_split=0.2)"
      ]
    },
    {
      "cell_type": "markdown",
      "metadata": {
        "id": "tOY19Yp1RdMp"
      },
      "source": [
        "8. Use the `plot_history()` and `evaluate_on_test()` functions to view the performance of the model. How does it compare to the previous models?"
      ]
    },
    {
      "cell_type": "code",
      "execution_count": null,
      "metadata": {
        "id": "KAGWtCN-OKrG",
        "colab": {
          "base_uri": "https://localhost:8080/",
          "height": 665
        },
        "outputId": "65c0ce22-6b69-47e0-8032-5ec118410873"
      },
      "outputs": [
        {
          "output_type": "stream",
          "name": "stdout",
          "text": [
            "dict_keys(['loss', 'acc', 'val_loss', 'val_acc'])\n"
          ]
        },
        {
          "output_type": "display_data",
          "data": {
            "text/plain": [
              "<Figure size 432x288 with 1 Axes>"
            ],
            "image/png": "[encoded data removed]"
          },
          "metadata": {
            "needs_background": "light"
          }
        },
        {
          "output_type": "display_data",
          "data": {
            "text/plain": [
              "<Figure size 432x288 with 1 Axes>"
            ],
            "image/png": "[encoded data removed]"
          },
          "metadata": {
            "needs_background": "light"
          }
        },
        {
          "output_type": "stream",
          "name": "stdout",
          "text": [
            "Accuracy: 0.984531\n",
            "Precision: 1.000000\n",
            "Recall: 0.185585\n",
            "F1 score: 0.313068\n"
          ]
        }
      ],
      "source": [
        "plot_history(l_history)\n",
        "evaluate_on_test(X_test, y_test, l_model)"
      ]
    },
    {
      "cell_type": "markdown",
      "metadata": {
        "id": "2_5HNGfkP7I6"
      },
      "source": [
        "## Task 5: GRU model on a different dataset\n",
        "\n",
        "Let's try the GRU model on a different dataset which has more informative features"
      ]
    },
    {
      "cell_type": "markdown",
      "metadata": {
        "id": "gHK9TkdARdMp"
      },
      "source": [
        "1. Load the dataset."
      ]
    },
    {
      "cell_type": "code",
      "execution_count": null,
      "metadata": {
        "id": "Ku0_TrjDuDhu",
        "colab": {
          "base_uri": "https://localhost:8080/",
          "height": 317
        },
        "outputId": "5a680481-0741-4e70-99b3-6df9ca7b6cf5"
      },
      "outputs": [
        {
          "output_type": "stream",
          "name": "stdout",
          "text": [
            "Shape of data: (1500000, 36)\n"
          ]
        },
        {
          "output_type": "execute_result",
          "data": {
            "text/plain": [
              "   TotalEventsInSession  interactionTime  #TimesCartedinSession  \\\n",
              "0                     7            493.0                      0   \n",
              "1                    18            585.0                      1   \n",
              "2                     1              0.0                      0   \n",
              "3                     1              0.0                      0   \n",
              "4                    11            509.0                      4   \n",
              "\n",
              "   #TimesViewedinSession  maxPrice  minPrice  AvgAmtCartedInSession  \\\n",
              "0                      7   1349.46    131.53                   0.00   \n",
              "1                     16   1747.79    152.58                 289.52   \n",
              "2                      1   1422.10   1422.10                   0.00   \n",
              "3                      1    308.63    308.63                   0.00   \n",
              "4                      6    171.90    131.51                 171.90   \n",
              "\n",
              "   AvgAmtViewedInSession  #BrandsCartedInSession  #BrandsViewedInSession  ...  \\\n",
              "0             812.941429                       0                       7  ...   \n",
              "1             621.671250                       1                      16  ...   \n",
              "2            1422.100000                       0                       1  ...   \n",
              "3             308.630000                       0                       1  ...   \n",
              "4             158.220000                       4                       6  ...   \n",
              "\n",
              "   Sep  Afternoon  Dawn  EarlyMorning  Evening  Morning  Night  Noon  Weekend  \\\n",
              "0    0          0     1             0        0        0      0     0        0   \n",
              "1    0          0     0             1        0        0      0     0        0   \n",
              "2    0          0     1             0        0        0      0     0        0   \n",
              "3    0          0     0             1        0        0      0     0        0   \n",
              "4    0          0     1             0        0        0      0     0        0   \n",
              "\n",
              "   Purchase  \n",
              "0         0  \n",
              "1         1  \n",
              "2         0  \n",
              "3         0  \n",
              "4         1  \n",
              "\n",
              "[5 rows x 36 columns]"
            ],
            "text/html": [
              "\n",
              "  <div id=\"df-0753e4fc-f0bc-4699-9893-bbbab32ca288\">\n",
              "    <div class=\"colab-df-container\">\n",
              "      <div>\n",
              "<style scoped>\n",
              "    .dataframe tbody tr th:only-of-type {\n",
              "        vertical-align: middle;\n",
              "    }\n",
              "\n",
              "    .dataframe tbody tr th {\n",
              "        vertical-align: top;\n",
              "    }\n",
              "\n",
              "    .dataframe thead th {\n",
              "        text-align: right;\n",
              "    }\n",
              "</style>\n",
              "<table border=\"1\" class=\"dataframe\">\n",
              "  <thead>\n",
              "    <tr style=\"text-align: right;\">\n",
              "      <th></th>\n",
              "      <th>TotalEventsInSession</th>\n",
              "      <th>interactionTime</th>\n",
              "      <th>#TimesCartedinSession</th>\n",
              "      <th>#TimesViewedinSession</th>\n",
              "      <th>maxPrice</th>\n",
              "      <th>minPrice</th>\n",
              "      <th>AvgAmtCartedInSession</th>\n",
              "      <th>AvgAmtViewedInSession</th>\n",
              "      <th>#BrandsCartedInSession</th>\n",
              "      <th>#BrandsViewedInSession</th>\n",
              "      <th>...</th>\n",
              "      <th>Sep</th>\n",
              "      <th>Afternoon</th>\n",
              "      <th>Dawn</th>\n",
              "      <th>EarlyMorning</th>\n",
              "      <th>Evening</th>\n",
              "      <th>Morning</th>\n",
              "      <th>Night</th>\n",
              "      <th>Noon</th>\n",
              "      <th>Weekend</th>\n",
              "      <th>Purchase</th>\n",
              "    </tr>\n",
              "  </thead>\n",
              "  <tbody>\n",
              "    <tr>\n",
              "      <th>0</th>\n",
              "      <td>7</td>\n",
              "      <td>493.0</td>\n",
              "      <td>0</td>\n",
              "      <td>7</td>\n",
              "      <td>1349.46</td>\n",
              "      <td>131.53</td>\n",
              "      <td>0.00</td>\n",
              "      <td>812.941429</td>\n",
              "      <td>0</td>\n",
              "      <td>7</td>\n",
              "      <td>...</td>\n",
              "      <td>0</td>\n",
              "      <td>0</td>\n",
              "      <td>1</td>\n",
              "      <td>0</td>\n",
              "      <td>0</td>\n",
              "      <td>0</td>\n",
              "      <td>0</td>\n",
              "      <td>0</td>\n",
              "      <td>0</td>\n",
              "      <td>0</td>\n",
              "    </tr>\n",
              "    <tr>\n",
              "      <th>1</th>\n",
              "      <td>18</td>\n",
              "      <td>585.0</td>\n",
              "      <td>1</td>\n",
              "      <td>16</td>\n",
              "      <td>1747.79</td>\n",
              "      <td>152.58</td>\n",
              "      <td>289.52</td>\n",
              "      <td>621.671250</td>\n",
              "      <td>1</td>\n",
              "      <td>16</td>\n",
              "      <td>...</td>\n",
              "      <td>0</td>\n",
              "      <td>0</td>\n",
              "      <td>0</td>\n",
              "      <td>1</td>\n",
              "      <td>0</td>\n",
              "      <td>0</td>\n",
              "      <td>0</td>\n",
              "      <td>0</td>\n",
              "      <td>0</td>\n",
              "      <td>1</td>\n",
              "    </tr>\n",
              "    <tr>\n",
              "      <th>2</th>\n",
              "      <td>1</td>\n",
              "      <td>0.0</td>\n",
              "      <td>0</td>\n",
              "      <td>1</td>\n",
              "      <td>1422.10</td>\n",
              "      <td>1422.10</td>\n",
              "      <td>0.00</td>\n",
              "      <td>1422.100000</td>\n",
              "      <td>0</td>\n",
              "      <td>1</td>\n",
              "      <td>...</td>\n",
              "      <td>0</td>\n",
              "      <td>0</td>\n",
              "      <td>1</td>\n",
              "      <td>0</td>\n",
              "      <td>0</td>\n",
              "      <td>0</td>\n",
              "      <td>0</td>\n",
              "      <td>0</td>\n",
              "      <td>0</td>\n",
              "      <td>0</td>\n",
              "    </tr>\n",
              "    <tr>\n",
              "      <th>3</th>\n",
              "      <td>1</td>\n",
              "      <td>0.0</td>\n",
              "      <td>0</td>\n",
              "      <td>1</td>\n",
              "      <td>308.63</td>\n",
              "      <td>308.63</td>\n",
              "      <td>0.00</td>\n",
              "      <td>308.630000</td>\n",
              "      <td>0</td>\n",
              "      <td>1</td>\n",
              "      <td>...</td>\n",
              "      <td>0</td>\n",
              "      <td>0</td>\n",
              "      <td>0</td>\n",
              "      <td>1</td>\n",
              "      <td>0</td>\n",
              "      <td>0</td>\n",
              "      <td>0</td>\n",
              "      <td>0</td>\n",
              "      <td>0</td>\n",
              "      <td>0</td>\n",
              "    </tr>\n",
              "    <tr>\n",
              "      <th>4</th>\n",
              "      <td>11</td>\n",
              "      <td>509.0</td>\n",
              "      <td>4</td>\n",
              "      <td>6</td>\n",
              "      <td>171.90</td>\n",
              "      <td>131.51</td>\n",
              "      <td>171.90</td>\n",
              "      <td>158.220000</td>\n",
              "      <td>4</td>\n",
              "      <td>6</td>\n",
              "      <td>...</td>\n",
              "      <td>0</td>\n",
              "      <td>0</td>\n",
              "      <td>1</td>\n",
              "      <td>0</td>\n",
              "      <td>0</td>\n",
              "      <td>0</td>\n",
              "      <td>0</td>\n",
              "      <td>0</td>\n",
              "      <td>0</td>\n",
              "      <td>1</td>\n",
              "    </tr>\n",
              "  </tbody>\n",
              "</table>\n",
              "<p>5 rows × 36 columns</p>\n",
              "</div>\n",
              "      <button class=\"colab-df-convert\" onclick=\"convertToInteractive('df-0753e4fc-f0bc-4699-9893-bbbab32ca288')\"\n",
              "              title=\"Convert this dataframe to an interactive table.\"\n",
              "              style=\"display:none;\">\n",
              "        \n",
              "  <svg xmlns=\"http://www.w3.org/2000/svg\" height=\"24px\"viewBox=\"0 0 24 24\"\n",
              "       width=\"24px\">\n",
              "    <path d=\"M0 0h24v24H0V0z\" fill=\"none\"/>\n",
              "    <path d=\"M18.56 5.44l.94 2.06.94-2.06 2.06-.94-2.06-.94-.94-2.06-.94 2.06-2.06.94zm-11 1L8.5 8.5l.94-2.06 2.06-.94-2.06-.94L8.5 2.5l-.94 2.06-2.06.94zm10 10l.94 2.06.94-2.06 2.06-.94-2.06-.94-.94-2.06-.94 2.06-2.06.94z\"/><path d=\"M17.41 7.96l-1.37-1.37c-.4-.4-.92-.59-1.43-.59-.52 0-1.04.2-1.43.59L10.3 9.45l-7.72 7.72c-.78.78-.78 2.05 0 2.83L4 21.41c.39.39.9.59 1.41.59.51 0 1.02-.2 1.41-.59l7.78-7.78 2.81-2.81c.8-.78.8-2.07 0-2.86zM5.41 20L4 18.59l7.72-7.72 1.47 1.35L5.41 20z\"/>\n",
              "  </svg>\n",
              "      </button>\n",
              "      \n",
              "  <style>\n",
              "    .colab-df-container {\n",
              "      display:flex;\n",
              "      flex-wrap:wrap;\n",
              "      gap: 12px;\n",
              "    }\n",
              "\n",
              "    .colab-df-convert {\n",
              "      background-color: #E8F0FE;\n",
              "      border: none;\n",
              "      border-radius: 50%;\n",
              "      cursor: pointer;\n",
              "      display: none;\n",
              "      fill: #1967D2;\n",
              "      height: 32px;\n",
              "      padding: 0 0 0 0;\n",
              "      width: 32px;\n",
              "    }\n",
              "\n",
              "    .colab-df-convert:hover {\n",
              "      background-color: #E2EBFA;\n",
              "      box-shadow: 0px 1px 2px rgba(60, 64, 67, 0.3), 0px 1px 3px 1px rgba(60, 64, 67, 0.15);\n",
              "      fill: #174EA6;\n",
              "    }\n",
              "\n",
              "    [theme=dark] .colab-df-convert {\n",
              "      background-color: #3B4455;\n",
              "      fill: #D2E3FC;\n",
              "    }\n",
              "\n",
              "    [theme=dark] .colab-df-convert:hover {\n",
              "      background-color: #434B5C;\n",
              "      box-shadow: 0px 1px 3px 1px rgba(0, 0, 0, 0.15);\n",
              "      filter: drop-shadow(0px 1px 2px rgba(0, 0, 0, 0.3));\n",
              "      fill: #FFFFFF;\n",
              "    }\n",
              "  </style>\n",
              "\n",
              "      <script>\n",
              "        const buttonEl =\n",
              "          document.querySelector('#df-0753e4fc-f0bc-4699-9893-bbbab32ca288 button.colab-df-convert');\n",
              "        buttonEl.style.display =\n",
              "          google.colab.kernel.accessAllowed ? 'block' : 'none';\n",
              "\n",
              "        async function convertToInteractive(key) {\n",
              "          const element = document.querySelector('#df-0753e4fc-f0bc-4699-9893-bbbab32ca288');\n",
              "          const dataTable =\n",
              "            await google.colab.kernel.invokeFunction('convertToInteractive',\n",
              "                                                     [key], {});\n",
              "          if (!dataTable) return;\n",
              "\n",
              "          const docLinkHtml = 'Like what you see? Visit the ' +\n",
              "            '<a target=\"_blank\" href=https://colab.research.google.com/notebooks/data_table.ipynb>data table notebook</a>'\n",
              "            + ' to learn more about interactive tables.';\n",
              "          element.innerHTML = '';\n",
              "          dataTable['output_type'] = 'display_data';\n",
              "          await google.colab.output.renderOutput(dataTable, element);\n",
              "          const docLink = document.createElement('div');\n",
              "          docLink.innerHTML = docLinkHtml;\n",
              "          element.appendChild(docLink);\n",
              "        }\n",
              "      </script>\n",
              "    </div>\n",
              "  </div>\n",
              "  "
            ]
          },
          "metadata": {},
          "execution_count": 81
        }
      ],
      "source": [
        "feat = pd.read_pickle('/content/drive/My Drive/FourthBrain/Assignments/Week_10/Sequence_Models/Session_features.pkl')\n",
        "print('Shape of data:', feat.shape)\n",
        "feat.head()"
      ]
    },
    {
      "cell_type": "markdown",
      "metadata": {
        "id": "owWV1PK9qlsy"
      },
      "source": [
        "This is just a different dataset that's focused on whole sessions, for which we have more different types of features (36 of them)"
      ]
    },
    {
      "cell_type": "markdown",
      "metadata": {
        "id": "cOxWBmtGlqca"
      },
      "source": [
        "2. Suppose we were to treat each row of features as a \"sequence.\" This is not the most common setup for RNNs, (since each element in the sequence (each column) represents different types of quantities) but it'll work in our case. We'll take the first 35 columns as the elements of our sequence and the 36th column, the purchase column, as the target."
      ]
    },
    {
      "cell_type": "code",
      "execution_count": null,
      "metadata": {
        "id": "QQHFIkXGI6zs",
        "colab": {
          "base_uri": "https://localhost:8080/"
        },
        "outputId": "8cfc599c-ec35-481a-ee4b-43745066be48"
      },
      "outputs": [
        {
          "output_type": "stream",
          "name": "stdout",
          "text": [
            "(1050000, 35, 1) (1050000, 2)\n"
          ]
        }
      ],
      "source": [
        "Xf = feat.iloc[:, 0: 35].values\n",
        "Yf = feat.iloc[:, 35].values\n",
        "yf = pd.get_dummies(Yf, prefix='Purchase').values\n",
        "Xf_train, Xf_test, yf_train, yf_test = prepare_train_test_data(Xf, yf)\n",
        "print(Xf_train.shape, yf_train.shape)"
      ]
    },
    {
      "cell_type": "markdown",
      "metadata": {
        "id": "Y8P83NGcRdMq"
      },
      "source": [
        "3. Visualize the model (feel free to try a different model than GRU)."
      ]
    },
    {
      "cell_type": "code",
      "execution_count": null,
      "metadata": {
        "colab": {
          "base_uri": "https://localhost:8080/"
        },
        "id": "wkEf0rupRdMq",
        "outputId": "faf09a9e-d5b9-4f3d-bc62-8749a2b72d60"
      },
      "outputs": [
        {
          "output_type": "stream",
          "name": "stdout",
          "text": [
            "Model: \"sequential\"\n",
            "_________________________________________________________________\n",
            " Layer (type)                Output Shape              Param #   \n",
            "=================================================================\n",
            " gru (GRU)                   (None, 35, 40)            5160      \n",
            "                                                                 \n",
            " gru_1 (GRU)                 (None, 80)                29280     \n",
            "                                                                 \n",
            " dense (Dense)               (None, 2)                 162       \n",
            "                                                                 \n",
            "=================================================================\n",
            "Total params: 34,602\n",
            "Trainable params: 34,602\n",
            "Non-trainable params: 0\n",
            "_________________________________________________________________\n"
          ]
        }
      ],
      "source": [
        "clear_session()\n",
        "gru_model = GRU_model(neurons=40, op=Xf_train.shape[1])\n",
        "gru_model.summary()"
      ]
    },
    {
      "cell_type": "markdown",
      "metadata": {
        "id": "_OKo839mRdMq"
      },
      "source": [
        "4. Fit the model on the training data with 20 epochs, 1000 samples per batch, and a validation split of 0.2."
      ]
    },
    {
      "cell_type": "code",
      "execution_count": null,
      "metadata": {
        "id": "zwukFzm5yYcj",
        "colab": {
          "base_uri": "https://localhost:8080/"
        },
        "outputId": "4ec7f8c6-1a88-4b9e-8d97-3ffb1d6f6efd"
      },
      "outputs": [
        {
          "output_type": "stream",
          "name": "stdout",
          "text": [
            "Epoch 1/20\n",
            "840/840 [==============================] - 12s 12ms/step - loss: 0.2225 - acc: 0.9341 - val_loss: 0.0905 - val_acc: 0.9709\n",
            "Epoch 2/20\n",
            "840/840 [==============================] - 9s 11ms/step - loss: 0.1475 - acc: 0.9611 - val_loss: 0.2400 - val_acc: 0.9312\n",
            "Epoch 3/20\n",
            "840/840 [==============================] - 9s 11ms/step - loss: 0.2306 - acc: 0.9303 - val_loss: 0.2078 - val_acc: 0.9312\n",
            "Epoch 4/20\n",
            "840/840 [==============================] - 9s 11ms/step - loss: 0.1432 - acc: 0.9432 - val_loss: 0.0557 - val_acc: 0.9836\n",
            "Epoch 5/20\n",
            "840/840 [==============================] - 10s 11ms/step - loss: 0.1523 - acc: 0.9572 - val_loss: 0.2247 - val_acc: 0.9312\n",
            "Epoch 6/20\n",
            "840/840 [==============================] - 9s 11ms/step - loss: 0.1879 - acc: 0.9358 - val_loss: 0.0630 - val_acc: 0.9786\n",
            "Epoch 7/20\n",
            "840/840 [==============================] - 9s 11ms/step - loss: 0.1618 - acc: 0.9524 - val_loss: 0.2184 - val_acc: 0.9312\n",
            "Epoch 8/20\n",
            "840/840 [==============================] - 9s 11ms/step - loss: 0.1695 - acc: 0.9405 - val_loss: 0.0564 - val_acc: 0.9827\n",
            "Epoch 9/20\n",
            "840/840 [==============================] - 9s 11ms/step - loss: 0.1791 - acc: 0.9376 - val_loss: 0.1178 - val_acc: 0.9628\n",
            "Epoch 10/20\n",
            "840/840 [==============================] - 9s 11ms/step - loss: 0.0449 - acc: 0.9861 - val_loss: 0.0271 - val_acc: 0.9919\n",
            "Epoch 11/20\n",
            "840/840 [==============================] - 9s 11ms/step - loss: 0.1694 - acc: 0.9468 - val_loss: 0.1055 - val_acc: 0.9714\n",
            "Epoch 12/20\n",
            "840/840 [==============================] - 9s 11ms/step - loss: 0.0412 - acc: 0.9872 - val_loss: 0.0279 - val_acc: 0.9911\n",
            "Epoch 13/20\n",
            "840/840 [==============================] - 9s 11ms/step - loss: 0.1283 - acc: 0.9608 - val_loss: 0.1193 - val_acc: 0.9661\n",
            "Epoch 14/20\n",
            "840/840 [==============================] - 9s 11ms/step - loss: 0.0510 - acc: 0.9854 - val_loss: 0.0272 - val_acc: 0.9911\n",
            "Epoch 15/20\n",
            "840/840 [==============================] - 9s 11ms/step - loss: 0.0430 - acc: 0.9874 - val_loss: 0.0200 - val_acc: 0.9943\n",
            "Epoch 16/20\n",
            "840/840 [==============================] - 9s 11ms/step - loss: 0.0374 - acc: 0.9886 - val_loss: 0.0177 - val_acc: 0.9951\n",
            "Epoch 17/20\n",
            "840/840 [==============================] - 9s 11ms/step - loss: 0.0181 - acc: 0.9945 - val_loss: 0.0133 - val_acc: 0.9958\n",
            "Epoch 18/20\n",
            "840/840 [==============================] - 9s 11ms/step - loss: 0.2222 - acc: 0.9308 - val_loss: 0.1779 - val_acc: 0.9312\n",
            "Epoch 19/20\n",
            "840/840 [==============================] - 9s 11ms/step - loss: 0.1445 - acc: 0.9402 - val_loss: 0.0922 - val_acc: 0.9584\n",
            "Epoch 20/20\n",
            "840/840 [==============================] - 9s 11ms/step - loss: 0.0546 - acc: 0.9843 - val_loss: 0.0330 - val_acc: 0.9915\n"
          ]
        }
      ],
      "source": [
        "gru_history = gru_model.fit(Xf_train, yf_train, epochs=20, batch_size=1000, validation_split=0.2)"
      ]
    },
    {
      "cell_type": "markdown",
      "metadata": {
        "id": "z3MB4RASRdMr"
      },
      "source": [
        "5. Use the `plot_history()` and `evaluate_on_test()` functions to view the performance of the model."
      ]
    },
    {
      "cell_type": "code",
      "execution_count": null,
      "metadata": {
        "colab": {
          "base_uri": "https://localhost:8080/",
          "height": 665
        },
        "id": "0EqRtVq_RdMr",
        "outputId": "803784b2-6142-4be5-c715-77a968860c7f"
      },
      "outputs": [
        {
          "output_type": "stream",
          "name": "stdout",
          "text": [
            "dict_keys(['loss', 'acc', 'val_loss', 'val_acc'])\n"
          ]
        },
        {
          "output_type": "display_data",
          "data": {
            "text/plain": [
              "<Figure size 432x288 with 1 Axes>"
            ],
            "image/png": "[encoded data removed]"
          },
          "metadata": {
            "needs_background": "light"
          }
        },
        {
          "output_type": "display_data",
          "data": {
            "text/plain": [
              "<Figure size 432x288 with 1 Axes>"
            ],
            "image/png": "[encoded data removed]"
          },
          "metadata": {
            "needs_background": "light"
          }
        },
        {
          "output_type": "stream",
          "name": "stdout",
          "text": [
            "Accuracy: 0.991284\n",
            "Precision: 0.928916\n",
            "Recall: 0.946353\n",
            "F1 score: 0.937554\n"
          ]
        }
      ],
      "source": [
        "plot_history(gru_history)\n",
        "evaluate_on_test(Xf_test, yf_test, gru_model)"
      ]
    },
    {
      "cell_type": "markdown",
      "metadata": {
        "id": "ocx8Ydrey0-W"
      },
      "source": [
        "6. Comment on what you would suggest to your manager?\n",
        "\n",
        "    * Is feature-level data necessary? What metrics suggest that?\n",
        "    * What you you suggest to improve the quality of the model trained on event-sequence data (the first dataset?) "
      ]
    },
    {
      "cell_type": "markdown",
      "source": [
        "I would suggest to add regularization to the model, such as dropout layers, for example. I would also consider addressing label imbalance, as only a small percentage of the dataset actually purchased products.\n"
      ],
      "metadata": {
        "id": "SA31fwsqNCtD"
      }
    }
  ],
  "metadata": {
    "accelerator": "GPU",
    "colab": {
      "collapsed_sections": [],
      "name": "Week 10 Live Assignment_TSF.ipynb",
      "provenance": []
    },
    "kernelspec": {
      "display_name": "Python 3 (ipykernel)",
      "language": "python",
      "name": "python3"
    },
    "language_info": {
      "codemirror_mode": {
        "name": "ipython",
        "version": 3
      },
      "file_extension": ".py",
      "mimetype": "text/x-python",
      "name": "python",
      "nbconvert_exporter": "python",
      "pygments_lexer": "ipython3",
      "version": "3.9.10"
    }
  },
  "nbformat": 4,
  "nbformat_minor": 0
}