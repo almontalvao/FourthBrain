{
  "cells": [
    {
      "cell_type": "markdown",
      "metadata": {
        "id": "LBg-xdjvhQh2"
      },
      "source": [
        "# Zero Shot Learning (ZSL) \n",
        "\n",
        "In Zero Shot Learning (ZSL), there are labels in the test set that aren't in the training set.\n",
        "\n",
        "This code uses a modified version of Shrisha Bharadwaj's work at \n",
        "https://github.com/sbharadwajj/embarrassingly-simple-zero-shot-learning\n",
        "\n",
        "The Base paper is:\n",
        "An embarrassingly simple approach to zero-shot learning http://proceedings.mlr.press/v37/romera-paredes15.pdf"
      ]
    },
    {
      "cell_type": "markdown",
      "metadata": {
        "id": "17ApZX11hQh3"
      },
      "source": [
        "## Part 1: Get the dataset\n",
        "\n",
        "We will be using a dataset of images of birds. There are 788 images from 200 different types of birds each with 312 attributes. The dataset is called the CUB dataset, which stands for \"Caltech UCSB Birds\".\n",
        "\n",
        "You can obtain this and other similar datasets (such as AWA1 or SUN) [here](https://www.mpi-inf.mpg.de/departments/computer-vision-and-machine-learning/research/zero-shot-learning/zero-shot-learning-the-good-the-bad-and-the-ugly/)."
      ]
    },
    {
      "cell_type": "markdown",
      "metadata": {
        "id": "Kj-CWe8Snbg0"
      },
      "source": [
        "### Part 1a: Using Google Colab\n",
        "\n",
        "Go to Part 1b if you are working in Jupyter notebook.\n",
        "\n",
        "1. Upload the `CUB` folder to Google Drive."
      ]
    },
    {
      "cell_type": "markdown",
      "metadata": {
        "id": "PSbaF0Iinbg1"
      },
      "source": [
        "2. Run the following cells code."
      ]
    },
    {
      "cell_type": "code",
      "execution_count": 1,
      "metadata": {
        "id": "8n75mujnrqU4"
      },
      "outputs": [],
      "source": [
        "!pip install -U -q PyDrive\n",
        "from pydrive.auth import GoogleAuth\n",
        "from pydrive.drive import GoogleDrive\n",
        "from google.colab import auth\n",
        "from oauth2client.client import GoogleCredentials\n",
        "\n",
        "auth.authenticate_user()\n",
        "gauth = GoogleAuth()\n",
        "gauth.credentials = GoogleCredentials.get_application_default()\n",
        "drive = GoogleDrive(gauth)"
      ]
    },
    {
      "cell_type": "markdown",
      "metadata": {
        "id": "q6AR4c7ivMtD"
      },
      "source": [
        "3. Before running the code below, replace the ID with ID of file you want to access.\n",
        "\n",
        "    To get this ID: \n",
        "\n",
        "    1.   Right-click on the name of the appropriate file in your Google Drive\n",
        "    2.   Click \"Get link\"\n",
        "    3.   Copy the characters between `d/` and the following slash\n",
        "    4.   Paste them into the dictionary argument of the call to `drive.CreateFile()` as the value associated with the 'id' key. Make sure that this value is a string.\n",
        "\n"
      ]
    },
    {
      "cell_type": "code",
      "execution_count": 2,
      "metadata": {
        "id": "mb5xkL1QzPYg"
      },
      "outputs": [],
      "source": [
        "res101_id = '1BPPCIWJ2t71L7QjBNC6brKmJR7rohZ1r'\n",
        "cub_res101 = drive.CreateFile({'id': res101_id}) \n",
        "cub_res101.GetContentFile('res101.mat') \n",
        "att_splits_id = '1BOOdv59bVtMQYpHwvHeg7tyXhpx045CX'\n",
        "cub_att_splits = drive.CreateFile({'id': att_splits_id}) \n",
        "cub_att_splits.GetContentFile('att_splits.mat')"
      ]
    },
    {
      "cell_type": "markdown",
      "metadata": {
        "id": "TIHe-Xi13U_h"
      },
      "source": [
        "### Part 1b: Using Jupyter Notebook\n",
        "\n",
        "1. Download the CUB folder and put it in the same location as the notebook file."
      ]
    },
    {
      "cell_type": "markdown",
      "metadata": {
        "id": "qdyK3-4OhQh_"
      },
      "source": [
        "## Part 2: Load & Investigate the Data\n",
        "\n",
        "The data is stored in `.mat` files, which is a MATLAB binary. We'll be using `scipy` to load in the data.\n",
        "\n",
        "There are two files:\n",
        "\n",
        "- `res101` contains the data with features and the corresponding labels.\n",
        "- `att_splits` contains the indices of the train, validation and test sets as well as attributes for each of the labels.\n",
        "\n",
        "1. Use the `scipy.io.loadmat()` function to load in the `.mat` files into dictionaries and save them as `res101` and `att_splits`."
      ]
    },
    {
      "cell_type": "code",
      "execution_count": 3,
      "metadata": {
        "id": "_8-yqE4fhQiA"
      },
      "outputs": [],
      "source": [
        "import scipy.io as sio\n",
        "\n",
        "res101 = sio.loadmat('res101.mat')\n",
        "att_splits = sio.loadmat('att_splits.mat')"
      ]
    },
    {
      "cell_type": "markdown",
      "metadata": {
        "id": "0k26nKM2hQiP"
      },
      "source": [
        "2. Examine the `res101` and `att_splits` dictionaries and understand their fields by calling the `.keys()` method on both objects."
      ]
    },
    {
      "cell_type": "code",
      "execution_count": 4,
      "metadata": {
        "colab": {
          "base_uri": "https://localhost:8080/"
        },
        "id": "4Lgb_tRrnbg4",
        "outputId": "4804ea01-e691-4002-aef5-a02edc1fdbcd"
      },
      "outputs": [
        {
          "output_type": "stream",
          "name": "stdout",
          "text": [
            "res101 keys:  dict_keys(['__header__', '__version__', '__globals__', 'image_files', 'features', 'labels'])\n",
            "att_splits keys:  dict_keys(['__header__', '__version__', '__globals__', 'allclasses_names', 'att', 'original_att', 'test_seen_loc', 'test_unseen_loc', 'train_loc', 'trainval_loc', 'val_loc'])\n"
          ]
        }
      ],
      "source": [
        "print('res101 keys: ', res101.keys())\n",
        "print('att_splits keys: ', att_splits.keys())"
      ]
    },
    {
      "cell_type": "markdown",
      "metadata": {
        "id": "DbQI0_Ponbg4"
      },
      "source": [
        "3. How many features and how many datapoints does the dataset have?\n",
        "\n",
        "    The data is contained in `res101['features']`.\n",
        "\n",
        "    Note: this dataset has a row for each feature and a column for each datapoint."
      ]
    },
    {
      "cell_type": "code",
      "execution_count": 5,
      "metadata": {
        "colab": {
          "base_uri": "https://localhost:8080/"
        },
        "id": "jVYrgjlFnbg5",
        "outputId": "2039c096-524c-44be-804a-87b1f53b6514"
      },
      "outputs": [
        {
          "output_type": "stream",
          "name": "stdout",
          "text": [
            "Features shape:  (2048, 11788)\n"
          ]
        }
      ],
      "source": [
        "features = res101['features']\n",
        "print('Features shape: ', features.shape)"
      ]
    },
    {
      "cell_type": "markdown",
      "metadata": {
        "id": "vUGSbT-whQiv"
      },
      "source": [
        "We have an **attribute** matrix (or **signature** matrix) that has attribute values for each class. Each row corresponds to an attribute and each column a class (or label).\n",
        "\n",
        "For example, say the classes are `Horse` and `Zebra` and the attributes are [`wild_animal`, `4_legged`, `herbivore`]. This is what the signature matrix might look like.\n",
        "\n",
        "```\n",
        " Horse      Zebra\n",
        "[0.00354613 0.        ] wild_animal\n",
        "[0.13829921 0.20209503] 4_legged\n",
        "[0.06560347 0.04155225] herbivore\n",
        "```"
      ]
    },
    {
      "cell_type": "markdown",
      "metadata": {
        "id": "LlmJaOV8nbg5"
      },
      "source": [
        "4. How many classes and how many attributes are there?\n",
        "\n",
        "    The attribute matrix can be found in `att_splits['att']`."
      ]
    },
    {
      "cell_type": "code",
      "execution_count": 6,
      "metadata": {
        "colab": {
          "base_uri": "https://localhost:8080/"
        },
        "id": "gyPOqK09nbg5",
        "outputId": "d3a85b7d-b108-411a-89f7-c36c3f38ef55"
      },
      "outputs": [
        {
          "output_type": "stream",
          "name": "stdout",
          "text": [
            "Attribute matrix shape:  (312, 200)\n"
          ]
        }
      ],
      "source": [
        "attr = att_splits['att']\n",
        "print('Attribute matrix shape: ', attr.shape)"
      ]
    },
    {
      "cell_type": "markdown",
      "metadata": {
        "id": "-bw006lcfixc"
      },
      "source": [
        "5. Verify that the data contains 200 unique labels. The labels are found in `res101['labels']`."
      ]
    },
    {
      "cell_type": "code",
      "execution_count": 7,
      "metadata": {
        "colab": {
          "base_uri": "https://localhost:8080/"
        },
        "id": "_Am-_Elvnbg5",
        "outputId": "75b9f9a3-e305-4934-d219-ec91fd603b90"
      },
      "outputs": [
        {
          "output_type": "execute_result",
          "data": {
            "text/plain": [
              "array([  1,   2,   3,   4,   5,   6,   7,   8,   9,  10,  11,  12,  13,\n",
              "        14,  15,  16,  17,  18,  19,  20,  21,  22,  23,  24,  25,  26,\n",
              "        27,  28,  29,  30,  31,  32,  33,  34,  35,  36,  37,  38,  39,\n",
              "        40,  41,  42,  43,  44,  45,  46,  47,  48,  49,  50,  51,  52,\n",
              "        53,  54,  55,  56,  57,  58,  59,  60,  61,  62,  63,  64,  65,\n",
              "        66,  67,  68,  69,  70,  71,  72,  73,  74,  75,  76,  77,  78,\n",
              "        79,  80,  81,  82,  83,  84,  85,  86,  87,  88,  89,  90,  91,\n",
              "        92,  93,  94,  95,  96,  97,  98,  99, 100, 101, 102, 103, 104,\n",
              "       105, 106, 107, 108, 109, 110, 111, 112, 113, 114, 115, 116, 117,\n",
              "       118, 119, 120, 121, 122, 123, 124, 125, 126, 127, 128, 129, 130,\n",
              "       131, 132, 133, 134, 135, 136, 137, 138, 139, 140, 141, 142, 143,\n",
              "       144, 145, 146, 147, 148, 149, 150, 151, 152, 153, 154, 155, 156,\n",
              "       157, 158, 159, 160, 161, 162, 163, 164, 165, 166, 167, 168, 169,\n",
              "       170, 171, 172, 173, 174, 175, 176, 177, 178, 179, 180, 181, 182,\n",
              "       183, 184, 185, 186, 187, 188, 189, 190, 191, 192, 193, 194, 195,\n",
              "       196, 197, 198, 199, 200], dtype=uint8)"
            ]
          },
          "metadata": {},
          "execution_count": 7
        }
      ],
      "source": [
        "import numpy as np\n",
        "\n",
        "labels = res101['labels']\n",
        "np.unique(labels)"
      ]
    },
    {
      "cell_type": "markdown",
      "metadata": {
        "id": "gM-50hDHnbg6"
      },
      "source": [
        "## Part 3: Prepare the training & test sets\n",
        "\n",
        "In `att_splits` there are five subsets of the data: train, val, trainval, test_seen and test_unseen.\n",
        "\n",
        "Note that trainval is the combination of the train and val sets. We will start by using the trainval set as our training set.\n",
        "\n",
        "In a typical zero-shot learning scenario, there are no overlapping classes between training and testing phase, i.e the train classes are completely different from the test classes.\n",
        "\n",
        "The test_seen set is a test set with labels already seen, so we will use the test_unseen set as our test set.\n",
        "\n",
        "1. Get list of labels for the `trainval` and `test_unseen` subsets.\n",
        "\n",
        "    The code below does the computation for trainval, so do the same for test.\n",
        "\n",
        "    Note: `att_splits['trainval_loc']` gives the locations of the data for that subset. The values will range from 1 to 11788, so we need to subtract 1 to get the indices."
      ]
    },
    {
      "cell_type": "code",
      "execution_count": 8,
      "metadata": {
        "id": "mLCBRvE_hQiW"
      },
      "outputs": [],
      "source": [
        "labels = res101['labels'].squeeze() - 1\n",
        "trainval_ind = att_splits['trainval_loc'].squeeze() - 1\n",
        "labels_trainval = labels[trainval_ind]\n",
        "\n",
        "test_ind = att_splits['test_unseen_loc'].squeeze() - 1\n",
        "labels_test = labels[test_ind]"
      ]
    },
    {
      "cell_type": "code",
      "source": [
        "labels_trainval.shape"
      ],
      "metadata": {
        "colab": {
          "base_uri": "https://localhost:8080/"
        },
        "id": "d7KI13l1HnwP",
        "outputId": "57d415ae-aae9-47bc-9a83-5f3235cedd3e"
      },
      "execution_count": 9,
      "outputs": [
        {
          "output_type": "execute_result",
          "data": {
            "text/plain": [
              "(7057,)"
            ]
          },
          "metadata": {},
          "execution_count": 9
        }
      ]
    },
    {
      "cell_type": "markdown",
      "metadata": {
        "id": "TPaqfYgsnbg6"
      },
      "source": [
        "2. How many unique labels are there in each training set?\n",
        "\n",
        "    Create the numpy arrays `unique_trainval_labels` and `unique_test_labels` since we will be using them later."
      ]
    },
    {
      "cell_type": "code",
      "execution_count": 10,
      "metadata": {
        "id": "MqRv0nXAnbg6",
        "colab": {
          "base_uri": "https://localhost:8080/"
        },
        "outputId": "ebebb4bf-59a4-4e6b-bbef-d69ede3e7263"
      },
      "outputs": [
        {
          "output_type": "stream",
          "name": "stdout",
          "text": [
            "Unique train labels:  150\n",
            "Unique test labels:  50\n"
          ]
        }
      ],
      "source": [
        "unique_trainval_labels = np.unique(labels_trainval)\n",
        "unique_test_labels = np.unique(labels_test)\n",
        "\n",
        "print('Unique train labels: ', len(unique_trainval_labels))\n",
        "print('Unique test labels: ', len(unique_test_labels))"
      ]
    },
    {
      "cell_type": "markdown",
      "metadata": {
        "id": "q_B3YnWZhQic"
      },
      "source": [
        "3. Verify that there is no overlap between the labels in `trainval` and in `test`."
      ]
    },
    {
      "cell_type": "code",
      "execution_count": 11,
      "metadata": {
        "id": "wh67hCNmnbg6",
        "colab": {
          "base_uri": "https://localhost:8080/"
        },
        "outputId": "e614d1ca-a69f-4f7c-934c-8956484c2c48"
      },
      "outputs": [
        {
          "output_type": "stream",
          "name": "stdout",
          "text": [
            "Number of overlapping labels 0\n"
          ]
        }
      ],
      "source": [
        "intersection = len(set(unique_trainval_labels).intersection(set(unique_test_labels)))\n",
        "print('Number of overlapping labels', intersection)"
      ]
    },
    {
      "cell_type": "markdown",
      "metadata": {
        "id": "hZgvD5wAnbg6"
      },
      "source": [
        "4. Get the feature matrices for the trainval and test sets and save them as `trainval_features` and `test_features`.\n",
        "\n",
        "    Recall that the feature matrix is `res101['features']`. We need to subset the rows using `trainval_ind` and `test_ind`."
      ]
    },
    {
      "cell_type": "code",
      "execution_count": 12,
      "metadata": {
        "id": "YKZ81hM9nbg6"
      },
      "outputs": [],
      "source": [
        "X = res101['features']\n",
        "\n",
        "trainval_features = X[:, np.squeeze(att_splits['trainval_loc']-1)]\n",
        "test_features = X[:, np.squeeze(att_splits['test_unseen_loc']-1)]"
      ]
    },
    {
      "cell_type": "markdown",
      "metadata": {
        "id": "hFK4Aiq5nbg7"
      },
      "source": [
        "5. How many datapoints and features do `trainval_features` and `test_features` have?\n",
        "\n",
        "    Note: They should both have the same number of features as the full feature matrix."
      ]
    },
    {
      "cell_type": "code",
      "execution_count": 13,
      "metadata": {
        "id": "qk0aYcm8nbg7",
        "colab": {
          "base_uri": "https://localhost:8080/"
        },
        "outputId": "6d195d62-c856-43fd-afdc-c42e08e7ae21"
      },
      "outputs": [
        {
          "output_type": "stream",
          "name": "stdout",
          "text": [
            "Train features shape:  (2048, 7057)\n",
            "Test features shape:  (2048, 2967)\n"
          ]
        }
      ],
      "source": [
        "print('Train features shape: ', trainval_features.shape)\n",
        "print('Test features shape: ', test_features.shape)"
      ]
    },
    {
      "cell_type": "markdown",
      "metadata": {
        "id": "XWwYigQLK86b"
      },
      "source": [
        "## Part 4: Prepare for the Zero Shot Learning model\n",
        "\n",
        "For our model, we need the class labels to map to array indices and not have gaps between labels. For the trainval set, we have 150 labels, but the label numbers are between 1 and 200, so there are skipped numbers. Let's reindex the labels so the numbers range for 0 to 149 for the trainval set.\n",
        "\n",
        "The test set has 50 labels, so we'll reindex the numbers to range from 0 to 49.\n",
        "\n",
        "1. The example below creates new labels for the trainval set (`labels_index_trainval`). Follow the same pattern to create new labels for the test set (`labels_index_test`)."
      ]
    },
    {
      "cell_type": "code",
      "execution_count": 14,
      "metadata": {
        "id": "t8uM4sqNhQih"
      },
      "outputs": [],
      "source": [
        "labels_index_trainval = np.zeros(labels_trainval.shape[0]).astype(int)\n",
        "for i, label in enumerate(unique_trainval_labels):\n",
        "    labels_index_trainval[labels_trainval == label] = i\n",
        "\n",
        "labels_index_test = np.zeros(labels_test.shape[0]).astype(int)\n",
        "for j, target in enumerate(unique_test_labels):\n",
        "    labels_index_test[labels_test == target] = j"
      ]
    },
    {
      "cell_type": "markdown",
      "metadata": {
        "id": "J-m9CHpynbg7"
      },
      "source": [
        "2. Verify that `labels_index_trainval` has 150 unique values ranging from 0 to 149 and that `labels_index_test` has 50 unique values ranging from 0 to 49."
      ]
    },
    {
      "cell_type": "code",
      "execution_count": 15,
      "metadata": {
        "id": "AKuEAXG0nbg7",
        "colab": {
          "base_uri": "https://localhost:8080/"
        },
        "outputId": "91000ea7-985d-41ec-f892-d3858f5cb006"
      },
      "outputs": [
        {
          "output_type": "stream",
          "name": "stdout",
          "text": [
            "Min and max train labels:  0 149\n",
            "Min and max test labels:  0 49\n"
          ]
        }
      ],
      "source": [
        "print('Min and max train labels: ', (labels_index_trainval).min(), (labels_index_trainval).max())\n",
        "print('Min and max test labels: ', (labels_index_test).min(), (labels_index_test).max())"
      ]
    },
    {
      "cell_type": "markdown",
      "metadata": {
        "id": "rpd67geQhQis"
      },
      "source": [
        "To make our model work with unseen labels, we will be using what's known as the **attribute** or **signature** matrix. This matrix has values for 312 attributes of each of the 200 labels.\n",
        "\n",
        "3. Create signature matrices for the training and test sets. Follow the example shown for `trainval_sig` to create `test_sig`."
      ]
    },
    {
      "cell_type": "code",
      "execution_count": 16,
      "metadata": {
        "id": "whj-bUEhhQit"
      },
      "outputs": [],
      "source": [
        "signature = att_splits['att']\n",
        "trainval_sig = signature[:, unique_trainval_labels]\n",
        "test_sig = signature[:, unique_test_labels]"
      ]
    },
    {
      "cell_type": "markdown",
      "metadata": {
        "id": "O1kDhM0Vnbg8"
      },
      "source": [
        "4. Verify the shapes of the two matrices. They should have a row for each attribute and a column for each label."
      ]
    },
    {
      "cell_type": "code",
      "execution_count": 17,
      "metadata": {
        "id": "7SzoENDqnbg8",
        "colab": {
          "base_uri": "https://localhost:8080/"
        },
        "outputId": "ca5c0715-2f3e-4a4a-fb44-7baf7c6dc0d4"
      },
      "outputs": [
        {
          "output_type": "stream",
          "name": "stdout",
          "text": [
            "Shape of train matrix:  (312, 150)\n",
            "Shape of test matrix:  (312, 50)\n"
          ]
        }
      ],
      "source": [
        "print('Shape of train matrix: ', trainval_sig.shape)\n",
        "print('Shape of test matrix: ', test_sig.shape)"
      ]
    },
    {
      "cell_type": "markdown",
      "metadata": {
        "id": "O9Q8qPu1hQi3"
      },
      "source": [
        "For our training set, we create **ground truth matrices** with dimensions `[number of datapoints] x [number of unique classes]`. Each value is 1 if the datapoint belongs to the class and 0 otherwise. So each row will have exactly one 1.\n",
        "\n",
        "5. Create the ground truth matrix for the trainval set. We initialize it to all zeros. Fill in 1's where they belong."
      ]
    },
    {
      "cell_type": "code",
      "execution_count": 18,
      "metadata": {
        "id": "IpcTiV_0hQi3",
        "colab": {
          "base_uri": "https://localhost:8080/"
        },
        "outputId": "0837396d-b974-402c-fc2c-3ffb29e81d9e"
      },
      "outputs": [
        {
          "output_type": "execute_result",
          "data": {
            "text/plain": [
              "array([[0, 0, 0, 0, 0, 0, 0, 0, 0, 0, 0, 0, 0, 0, 0, 0, 0, 0, 0, 0, 0, 0,\n",
              "        0, 0, 0, 0, 0, 0, 0, 0, 0, 0, 0, 0, 0, 0, 0, 0, 0, 0, 0, 0, 0, 0,\n",
              "        0, 0, 0, 0, 0, 0, 0, 0, 0, 0, 0, 0, 0, 0, 0, 0, 0, 0, 0, 0, 0, 0,\n",
              "        0, 0, 0, 0, 0, 0, 0, 0, 0, 0, 0, 0, 0, 0, 0, 0, 0, 0, 0, 0, 0, 0,\n",
              "        0, 0, 0, 0, 0, 0, 0, 0, 0, 0, 0, 0, 0, 0, 0, 0, 0, 0, 0, 0, 0, 0,\n",
              "        0, 0, 0, 0, 0, 0, 0, 0, 0, 0, 0, 0, 0, 0, 0, 0, 0, 0, 0, 0, 0, 0,\n",
              "        0, 0, 0, 0, 0, 0, 0, 0, 0, 0, 0, 0, 0, 0, 1, 0, 0, 0]])"
            ]
          },
          "metadata": {},
          "execution_count": 18
        }
      ],
      "source": [
        "import numpy as np\n",
        "\n",
        "gt_trainval = np.zeros((labels_trainval.shape[0], unique_trainval_labels.shape[0])).astype(int)\n",
        "gt_trainval[np.arange(labels_trainval.shape[0]), np.squeeze(labels_index_trainval)] = 1\n",
        "gt_trainval[:1,:150]"
      ]
    },
    {
      "cell_type": "markdown",
      "metadata": {
        "id": "AnQR7gyJhQi9"
      },
      "source": [
        "## Part 5: Build the Zero Shot Learning model\n",
        "\n",
        "We will be using the following formula for the zero shot learning model. First we calculate $V$ as follows.\n",
        "$$V = (X \\cdot X^T + \\alpha I_{\\texttt{n_features}})^{-1} \\cdot X \\cdot Y \\cdot S^T \\cdot (S \\cdot S^T + \\gamma I_{\\texttt{n_attributes}})^{-1}$$\n",
        "\n",
        "Here are the terms defined:\n",
        "\n",
        "* $X$: feature matrix (e.g. `trainval_features`)\n",
        "* $Y$: ground truth matrix (e.g. `gt_trainval`)\n",
        "* $S$: signature matrix (e.g. `trainval_sig`)\n",
        "* $alpha$: regularization parameter for $X$, since $X$ is wider than it is tall\n",
        "* $gamma$: regularization parameter for $S$, since $S$ is wider than it is tall\n",
        "\n",
        "After calculating $V$ from the training set, we are able to make predictions with a new test set using the following:\n",
        "\n",
        "$$\\hat{y} = \\textrm{argmax}(X_{\\texttt{test}}^T \\cdot V \\cdot S_{\\texttt{test}})$$\n",
        "\n",
        "For details on the derivation, please see the paper http://proceedings.mlr.press/v37/romera-paredes15.pdf\n",
        "\n",
        "Let's go through step by step how to build this model.\n",
        "\n",
        "1. Write the function `calculate_V` to calculate $V$ as defined above.\n",
        "\n",
        "    Notes:\n",
        "    - Use pseudoinverses rather than standard matrix inverses.\n",
        "    - Use $10^\\alpha$ as $\\alpha$ and $10^y$ as $y$. "
      ]
    },
    {
      "cell_type": "code",
      "execution_count": 19,
      "metadata": {
        "id": "3k61p_A8nbg8"
      },
      "outputs": [],
      "source": [
        "def calculate_V(X, Y, S, alpha=0, gamma=0):\n",
        "    term1 = np.linalg.pinv(np.dot(trainval_features, trainval_features.T) + (10**alpha) * np.eye(trainval_features.shape[0]))\n",
        "    term2 = np.dot(np.dot(trainval_features, gt_trainval), trainval_sig.T)\n",
        "    term3 = np.linalg.pinv(np.dot(trainval_sig, trainval_sig.T) + (10**gamma) * np.eye(trainval_sig.shape[0]))\n",
        "    return np.dot(np.dot(term1, term2), term3)"
      ]
    },
    {
      "cell_type": "markdown",
      "metadata": {
        "id": "6UMMOcEPnbg8"
      },
      "source": [
        "2. Verify that $V$ created using your `calculate_V()` function has the correct shape. It should have 2048 (number of features) rows and 312 (number of attributes) columns."
      ]
    },
    {
      "cell_type": "code",
      "execution_count": 20,
      "metadata": {
        "id": "KxgK-c2Ynbg8",
        "colab": {
          "base_uri": "https://localhost:8080/"
        },
        "outputId": "b72b7589-5130-4439-b5f4-7b88f847d59e"
      },
      "outputs": [
        {
          "output_type": "execute_result",
          "data": {
            "text/plain": [
              "(2048, 312)"
            ]
          },
          "metadata": {},
          "execution_count": 20
        }
      ],
      "source": [
        "V = calculate_V(trainval_features, gt_trainval, trainval_sig)\n",
        "\n",
        "V.shape"
      ]
    },
    {
      "cell_type": "markdown",
      "metadata": {
        "id": "CDVYhxbKnbg8"
      },
      "source": [
        "3. Write the function `calculate_predictions()` which finds the predictions according to\n",
        "\n",
        "    $$\\hat{y} = \\textrm{argmax}(X_{\\texttt{test}}^T \\cdot V \\cdot S_{\\texttt{test}})$$"
      ]
    },
    {
      "cell_type": "code",
      "execution_count": 29,
      "metadata": {
        "id": "JXWatJ19nbg8"
      },
      "outputs": [],
      "source": [
        "def calculate_predictions(V, X, S):\n",
        "  yhat = np.dot(np.dot(X.T, V), S)\n",
        "  return np.array([np.argmax(y) for y in yhat])"
      ]
    },
    {
      "cell_type": "markdown",
      "metadata": {
        "id": "Np5EQpbGnbg8"
      },
      "source": [
        "4. Look at the first 10 predictions and compare them to the first ten values in `labels_index_test`."
      ]
    },
    {
      "cell_type": "code",
      "execution_count": 30,
      "metadata": {
        "id": "4dWRUEyAnbg9",
        "colab": {
          "base_uri": "https://localhost:8080/"
        },
        "outputId": "73cb0785-70ed-4f2f-9ed3-aa5151483a48"
      },
      "outputs": [
        {
          "output_type": "stream",
          "name": "stdout",
          "text": [
            "First 10 predictions:  [10 30 28  0  8 33  9 20 28 28]\n",
            "First 10 actual values:  [32 32 32 32 32 32 32 32 32 32]\n"
          ]
        }
      ],
      "source": [
        "pred = calculate_predictions(V, test_features, test_sig)\n",
        "\n",
        "print('First 10 predictions: ', pred[:10])\n",
        "print('First 10 actual values: ', labels_index_test[:10])"
      ]
    },
    {
      "cell_type": "markdown",
      "metadata": {
        "id": "Nrgysss_nbg9"
      },
      "source": [
        "5. Calculate the confusion matrix comparing the actual labels (`labels_index_test`) with the predictions (`pred`). Save it in the `cm` variable."
      ]
    },
    {
      "cell_type": "code",
      "execution_count": 31,
      "metadata": {
        "id": "eKR9GM-D3U_t"
      },
      "outputs": [],
      "source": [
        "from sklearn.metrics import confusion_matrix\n",
        "\n",
        "cm = confusion_matrix(labels_index_test, pred)"
      ]
    },
    {
      "cell_type": "markdown",
      "metadata": {
        "id": "hNMzneehnbg9"
      },
      "source": [
        "6. Use the result and the `one_percent_accuracy()` function (defined below) to get the 1% accuracy for the zero shot learning model."
      ]
    },
    {
      "cell_type": "code",
      "execution_count": 32,
      "metadata": {
        "id": "6x0n1auFnbg9",
        "colab": {
          "base_uri": "https://localhost:8080/"
        },
        "outputId": "369cf0a2-548f-4667-f095-dfd9ab4ddf0a"
      },
      "outputs": [
        {
          "output_type": "stream",
          "name": "stdout",
          "text": [
            "1% Accuracy:  22.078927005271634\n"
          ]
        }
      ],
      "source": [
        "def one_percent_accuracy(cm):\n",
        "    cm = cm / cm.sum(axis=1)[:, np.newaxis]\n",
        "    cm = np.nan_to_num(cm, nan=0)\n",
        "    return np.mean(cm.diagonal())\n",
        "\n",
        "print('1% Accuracy: ', one_percent_accuracy(cm)*100)"
      ]
    },
    {
      "cell_type": "markdown",
      "metadata": {
        "id": "iUiktJQVnbg9"
      },
      "source": [
        "7. Use the `cm_heatmap()` function (defined below) to get a heatmap of the confusion matrix. What do you observe looking at it?"
      ]
    },
    {
      "cell_type": "code",
      "execution_count": 33,
      "metadata": {
        "id": "zOCEj_Zj3U_t",
        "colab": {
          "base_uri": "https://localhost:8080/",
          "height": 655
        },
        "outputId": "b37987b9-f054-48d9-c9d2-e76db1860b24"
      },
      "outputs": [
        {
          "output_type": "stream",
          "name": "stdout",
          "text": [
            "None\n"
          ]
        },
        {
          "output_type": "display_data",
          "data": {
            "text/plain": [
              "<Figure size 1440x1008 with 2 Axes>"
            ],
            "image/png": "[encoded data removed]"
          },
          "metadata": {}
        }
      ],
      "source": [
        "import seaborn as sn\n",
        "import pandas as pd\n",
        "import matplotlib.pyplot as plt\n",
        "\n",
        "def cm_heatmap(cm):\n",
        "    df_cm = pd.DataFrame(cm, range(cm.shape[0]), range(cm.shape[1]))\n",
        "    sn.set(font_scale=1.4) # for label size\n",
        "    plt.figure(figsize=(20, 14))\n",
        "    sn.heatmap(df_cm,annot=True, annot_kws={\"size\": 8}) # font size\n",
        "\n",
        "print(cm_heatmap(cm))"
      ]
    },
    {
      "cell_type": "markdown",
      "metadata": {
        "id": "kEFE7o9jhQjS"
      },
      "source": [
        "## Part 6: Hyper-Parameter Tuning\n",
        "\n",
        "For hyper-parameter tuning, we will be training on the train set and validating on the test set. So first we need to setup and train and val sets (like we did with the trainval and test sets previously).\n",
        "\n",
        "1. Run the following code to setup the arrays we need for the train and val sets."
      ]
    },
    {
      "cell_type": "code",
      "execution_count": 34,
      "metadata": {
        "id": "lkmK8tjYnbg9"
      },
      "outputs": [],
      "source": [
        "train_ind = att_splits['train_loc'].squeeze() - 1\n",
        "labels_train = labels[train_ind]\n",
        "\n",
        "val_ind = att_splits['val_loc'].squeeze() - 1\n",
        "labels_val = labels[val_ind]\n",
        "\n",
        "unique_train_labels = np.unique(labels_train)\n",
        "unique_val_labels = np.unique(labels_val)\n",
        "\n",
        "train_features = res101['features'][:, train_ind]\n",
        "val_features = res101['features'][:, val_ind]\n",
        "\n",
        "labels_index_train = np.zeros(labels_train.shape[0]).astype(int)\n",
        "for i, label in enumerate(unique_train_labels):\n",
        "    labels_index_train[labels_train == label] = i\n",
        "\n",
        "labels_index_val = np.zeros(labels_val.shape[0]).astype(int)\n",
        "for i, label in enumerate(unique_val_labels):\n",
        "    labels_index_val[labels_val == label] = i\n",
        "\n",
        "train_sig = signature[:, unique_train_labels]\n",
        "val_sig = signature[:, unique_val_labels]\n",
        "\n",
        "gt_train = np.zeros((labels_train.shape[0], unique_train_labels.shape[0])).astype(int)\n",
        "gt_train[np.arange(labels_train.shape[0]), labels_index_train] = 1"
      ]
    },
    {
      "cell_type": "markdown",
      "metadata": {
        "id": "3Qdx_-T_nbg9"
      },
      "source": [
        "2. Run the following snippet to obtain the best `alph1` and `gamm1`."
      ]
    },
    {
      "cell_type": "code",
      "execution_count": 35,
      "metadata": {
        "id": "yrYmi_IPhQjS",
        "colab": {
          "base_uri": "https://localhost:8080/"
        },
        "outputId": "5ffd07ff-69d0-45d2-e000-4bc16986af42"
      },
      "outputs": [
        {
          "output_type": "stream",
          "name": "stdout",
          "text": [
            "Avg=0.9963, alpha=-3, gamma=-3\n",
            "Avg=0.9946, alpha=-3, gamma=-2\n",
            "Avg=0.9878, alpha=-3, gamma=-1\n",
            "Avg=0.9556, alpha=-3, gamma=0\n",
            "Avg=0.9162, alpha=-3, gamma=1\n",
            "Avg=0.9471, alpha=-3, gamma=2\n",
            "Avg=0.9457, alpha=-3, gamma=3\n",
            "Avg=0.9963, alpha=-2, gamma=-3\n",
            "Avg=0.9946, alpha=-2, gamma=-2\n",
            "Avg=0.9878, alpha=-2, gamma=-1\n",
            "Avg=0.9556, alpha=-2, gamma=0\n",
            "Avg=0.9162, alpha=-2, gamma=1\n",
            "Avg=0.9471, alpha=-2, gamma=2\n",
            "Avg=0.9457, alpha=-2, gamma=3\n",
            "Avg=0.9963, alpha=-1, gamma=-3\n",
            "Avg=0.9946, alpha=-1, gamma=-2\n",
            "Avg=0.9878, alpha=-1, gamma=-1\n",
            "Avg=0.9552, alpha=-1, gamma=0\n",
            "Avg=0.9162, alpha=-1, gamma=1\n",
            "Avg=0.9471, alpha=-1, gamma=2\n",
            "Avg=0.9457, alpha=-1, gamma=3\n",
            "Avg=0.9963, alpha=0, gamma=-3\n",
            "Avg=0.9946, alpha=0, gamma=-2\n",
            "Avg=0.9874, alpha=0, gamma=-1\n",
            "Avg=0.9552, alpha=0, gamma=0\n",
            "Avg=0.9162, alpha=0, gamma=1\n",
            "Avg=0.9467, alpha=0, gamma=2\n",
            "Avg=0.9440, alpha=0, gamma=3\n",
            "Avg=0.9958, alpha=1, gamma=-3\n",
            "Avg=0.9942, alpha=1, gamma=-2\n",
            "Avg=0.9852, alpha=1, gamma=-1\n",
            "Avg=0.9547, alpha=1, gamma=0\n",
            "Avg=0.9098, alpha=1, gamma=1\n",
            "Avg=0.9400, alpha=1, gamma=2\n",
            "Avg=0.9406, alpha=1, gamma=3\n",
            "Avg=0.9916, alpha=2, gamma=-3\n",
            "Avg=0.9887, alpha=2, gamma=-2\n",
            "Avg=0.9724, alpha=2, gamma=-1\n",
            "Avg=0.9375, alpha=2, gamma=0\n",
            "Avg=0.8814, alpha=2, gamma=1\n",
            "Avg=0.9028, alpha=2, gamma=2\n",
            "Avg=0.9110, alpha=2, gamma=3\n",
            "Avg=0.9638, alpha=3, gamma=-3\n",
            "Avg=0.9584, alpha=3, gamma=-2\n",
            "Avg=0.9209, alpha=3, gamma=-1\n",
            "Avg=0.8502, alpha=3, gamma=0\n",
            "Avg=0.7884, alpha=3, gamma=1\n",
            "Avg=0.8238, alpha=3, gamma=2\n",
            "Avg=0.7907, alpha=3, gamma=3\n",
            "Optimal Alpha: -3\n",
            "Optimal Gamma: -3\n",
            "Accuracy: 0.996255990296211\n"
          ]
        }
      ],
      "source": [
        "accu = 0\n",
        "alph1 = None\n",
        "gamm1 = None\n",
        "for alpha in range(-3, 4):\n",
        "    for gamma in range(-3, 4):\n",
        "        V = calculate_V(train_features, gt_train, train_sig, alpha, gamma)\n",
        "        pred = calculate_predictions(V, val_features, val_sig)\n",
        "        cm = confusion_matrix(labels_index_val, pred)\n",
        "        cm = cm / cm.sum(axis=1)[:, np.newaxis]\n",
        "        avg = sum(cm.diagonal()) / unique_val_labels.shape[0]\n",
        "        print(f'Avg={avg:.4f}, alpha={alpha}, gamma={gamma}')\n",
        "\n",
        "        if avg > accu:\n",
        "            accu = avg\n",
        "            alph1 = alpha\n",
        "            gamm1 = gamma\n",
        "print('Optimal Alpha:', alph1)\n",
        "print('Optimal Gamma:', gamm1)\n",
        "print('Accuracy:', accu)"
      ]
    },
    {
      "cell_type": "markdown",
      "metadata": {
        "id": "Ml42PcRZnbg-"
      },
      "source": [
        "3. Use the optimal values of `alph1` and `gamm1` to re-build the Zero Shot Learning model and report the 1% accuracy."
      ]
    },
    {
      "cell_type": "code",
      "execution_count": 36,
      "metadata": {
        "id": "gh9TvXeLnbg-"
      },
      "outputs": [],
      "source": [
        "def calculate_V(X, Y, S, alpha=0, gamma=0):\n",
        "    term1 = np.linalg.pinv(np.dot(train_features, train_features.T) + (10**alpha) * np.eye(train_features.shape[0]))\n",
        "    term2 = np.dot(np.dot(train_features, gt_train), train_sig.T)\n",
        "    term3 = np.linalg.pinv(np.dot(train_sig, train_sig.T) + (10**gamma) * np.eye(train_sig.shape[0]))\n",
        "    return np.dot(np.dot(term1, term2), term3)"
      ]
    },
    {
      "cell_type": "code",
      "source": [
        "V = calculate_V(train_features, gt_train, train_sig)"
      ],
      "metadata": {
        "id": "YpaorurJ8M5i"
      },
      "execution_count": 37,
      "outputs": []
    },
    {
      "cell_type": "code",
      "source": [
        "def calculate_predictions(V, X, S):\n",
        "  yhat = np.dot(np.dot(val_features.T, V), val_sig)\n",
        "  return np.array([np.argmax(y) for y in yhat])"
      ],
      "metadata": {
        "id": "QixUR-fp8Qpo"
      },
      "execution_count": 38,
      "outputs": []
    },
    {
      "cell_type": "code",
      "source": [
        "from sklearn.metrics import confusion_matrix\n",
        "\n",
        "cm = confusion_matrix(labels_index_val, pred)"
      ],
      "metadata": {
        "id": "isdbIKKZ8nMu"
      },
      "execution_count": 39,
      "outputs": []
    },
    {
      "cell_type": "code",
      "source": [
        "def one_percent_accuracy(cm):\n",
        "    cm = cm / cm.sum(axis=1)[:, np.newaxis]\n",
        "    cm = np.nan_to_num(cm, nan=0)\n",
        "    return np.mean(cm.diagonal())\n",
        "\n",
        "print('1% Accuracy using optimal values of alph1 and gamm1: ', one_percent_accuracy(cm)*100)"
      ],
      "metadata": {
        "id": "Lkc95lwd81DV",
        "colab": {
          "base_uri": "https://localhost:8080/"
        },
        "outputId": "fb2ce673-5e1e-49c3-a5e5-4bb217ad9ad8"
      },
      "execution_count": 40,
      "outputs": [
        {
          "output_type": "stream",
          "name": "stdout",
          "text": [
            "1% Accuracy using optimal values of alph1 and gamm1:  79.06859992824538\n"
          ]
        }
      ]
    }
  ],
  "metadata": {
    "colab": {
      "collapsed_sections": [],
      "name": "Week 4_Offline Assignment_Zero Shot Learning.ipynb",
      "provenance": []
    },
    "kernelspec": {
      "display_name": "Python 3",
      "language": "python",
      "name": "python3"
    },
    "language_info": {
      "codemirror_mode": {
        "name": "ipython",
        "version": 3
      },
      "file_extension": ".py",
      "mimetype": "text/x-python",
      "name": "python",
      "nbconvert_exporter": "python",
      "pygments_lexer": "ipython3",
      "version": "3.8.8"
    }
  },
  "nbformat": 4,
  "nbformat_minor": 0
}