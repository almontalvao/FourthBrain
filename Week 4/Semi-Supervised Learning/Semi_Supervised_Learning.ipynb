{
  "cells": [
    {
      "cell_type": "markdown",
      "metadata": {
        "id": "_lnMVXWu2yoG"
      },
      "source": [
        "# Today you are a Machine Learning Engineer at the Department of New Products at Target Cosmetics!\n",
        "This work relies on processed data from Kaggle https://www.kaggle.com/mkechinov/ecommerce-events-history-in-cosmetics-shop\n",
        "\n",
        "This work is motivated by the publication https://arxiv.org/pdf/2010.02503.pdf\n",
        "\n",
        "So far you have seen user-product interaction data that can lead to classification of a user-product relationship as ending in purchase or no-purchase, and for clustering (categorizing) user behaviors.\n",
        "\n",
        "In this assignment, we will have a very small training set to work with. Additionally, the test set we'll use has very few features. We'll first expose you to an Auto-Machine Learning library called TPOT and show you how it can be used to search over many ML model architectures. Then we will use the Label Spreading method to do semi-supervised learning, allowing us to leverage a small amount of labeled data in combination with a larger amount of unlabeled data. Finally we'll have a more open-ended task centering on system design for Zero-shot learning.\n",
        "\n",
        "Labeled data is sparse, and in our hypothetical application, (cosmetics purchase prediction) the intention is to maximize Recall (so that no popular cosmetic is understocked). Digital overstocking is allowed since it will not cause disengagement in customers."
      ]
    },
    {
      "cell_type": "markdown",
      "metadata": {
        "id": "YRq3YSMNVxLk"
      },
      "source": [
        "## Task 1: Exploratory Data Analysis (EDA) and Data Preparation"
      ]
    },
    {
      "cell_type": "markdown",
      "metadata": {
        "id": "fva5AAOsVxLl"
      },
      "source": [
        "1. Read in the data file `Past_month_products.csv` and save it as a DataFrame called `past_df`. This dataset has the past data and will be our training set.\n",
        "\n",
        "    Look at the shape of the DataFrame to determine the number of features and number of datapoints.\n",
        "    \n",
        "    Look at the first few rows of the DataFrame and review the data."
      ]
    },
    {
      "cell_type": "code",
      "execution_count": null,
      "metadata": {
        "colab": {
          "base_uri": "https://localhost:8080/"
        },
        "id": "lfwUwPtq2yoR",
        "outputId": "e21ca9de-8977-420f-9d9e-6ea102e18df2"
      },
      "outputs": [
        {
          "output_type": "stream",
          "name": "stdout",
          "text": [
            "Drive already mounted at /content/drive; to attempt to forcibly remount, call drive.mount(\"/content/drive\", force_remount=True).\n"
          ]
        }
      ],
      "source": [
        "from google.colab import drive\n",
        "drive.mount('/content/drive')"
      ]
    },
    {
      "cell_type": "code",
      "source": [
        "import pandas as pd\n",
        "past_df = pd.read_csv('/content/drive/My Drive/FourthBrain/Assignments/Week_4/Live_Assignment_Data/Past_month_products.csv')\n",
        "past_df.shape"
      ],
      "metadata": {
        "colab": {
          "base_uri": "https://localhost:8080/"
        },
        "id": "4kw4Bq41WsQM",
        "outputId": "0f806699-39b9-4605-88b7-42a38ebef61d"
      },
      "execution_count": null,
      "outputs": [
        {
          "output_type": "execute_result",
          "data": {
            "text/plain": [
              "(5000, 37)"
            ]
          },
          "metadata": {},
          "execution_count": 31
        }
      ]
    },
    {
      "cell_type": "code",
      "source": [
        "past_df.head()"
      ],
      "metadata": {
        "colab": {
          "base_uri": "https://localhost:8080/",
          "height": 270
        },
        "id": "scQM6LzBXJxL",
        "outputId": "0e5be719-8497-4387-de8d-2bc3daf58185"
      },
      "execution_count": null,
      "outputs": [
        {
          "output_type": "execute_result",
          "data": {
            "text/html": [
              "\n",
              "  <div id=\"df-a4a8bad8-f4c3-4d59-b805-cb22eefd1954\">\n",
              "    <div class=\"colab-df-container\">\n",
              "      <div>\n",
              "<style scoped>\n",
              "    .dataframe tbody tr th:only-of-type {\n",
              "        vertical-align: middle;\n",
              "    }\n",
              "\n",
              "    .dataframe tbody tr th {\n",
              "        vertical-align: top;\n",
              "    }\n",
              "\n",
              "    .dataframe thead th {\n",
              "        text-align: right;\n",
              "    }\n",
              "</style>\n",
              "<table border=\"1\" class=\"dataframe\">\n",
              "  <thead>\n",
              "    <tr style=\"text-align: right;\">\n",
              "      <th></th>\n",
              "      <th>product_id</th>\n",
              "      <th>user_id</th>\n",
              "      <th>NumOfEventsInJourney</th>\n",
              "      <th>NumSessions</th>\n",
              "      <th>interactionTime</th>\n",
              "      <th>maxPrice</th>\n",
              "      <th>minPrice</th>\n",
              "      <th>NumCart</th>\n",
              "      <th>NumView</th>\n",
              "      <th>NumRemove</th>\n",
              "      <th>InsessionCart</th>\n",
              "      <th>InsessionView</th>\n",
              "      <th>InsessionRemove</th>\n",
              "      <th>Weekend</th>\n",
              "      <th>Fr</th>\n",
              "      <th>Mon</th>\n",
              "      <th>Sat</th>\n",
              "      <th>Sun</th>\n",
              "      <th>Thu</th>\n",
              "      <th>Tue</th>\n",
              "      <th>Wed</th>\n",
              "      <th>2019</th>\n",
              "      <th>2020</th>\n",
              "      <th>Jan</th>\n",
              "      <th>Feb</th>\n",
              "      <th>Oct</th>\n",
              "      <th>Nov</th>\n",
              "      <th>Dec</th>\n",
              "      <th>Afternoon</th>\n",
              "      <th>Dawn</th>\n",
              "      <th>EarlyMorning</th>\n",
              "      <th>Evening</th>\n",
              "      <th>Morning</th>\n",
              "      <th>Night</th>\n",
              "      <th>Purchased?</th>\n",
              "      <th>Noon</th>\n",
              "      <th>Category</th>\n",
              "    </tr>\n",
              "  </thead>\n",
              "  <tbody>\n",
              "    <tr>\n",
              "      <th>0</th>\n",
              "      <td>5866936</td>\n",
              "      <td>5.618978e+08</td>\n",
              "      <td>1.333333</td>\n",
              "      <td>1.333333</td>\n",
              "      <td>5550.000</td>\n",
              "      <td>15.84000</td>\n",
              "      <td>15.84000</td>\n",
              "      <td>0.00</td>\n",
              "      <td>1.333333</td>\n",
              "      <td>0.00</td>\n",
              "      <td>0.000</td>\n",
              "      <td>1.000</td>\n",
              "      <td>0.00</td>\n",
              "      <td>0.0</td>\n",
              "      <td>0.000</td>\n",
              "      <td>0.333333</td>\n",
              "      <td>0.000</td>\n",
              "      <td>0.00</td>\n",
              "      <td>0.333333</td>\n",
              "      <td>0.000</td>\n",
              "      <td>0.333333</td>\n",
              "      <td>0.333333</td>\n",
              "      <td>0.666667</td>\n",
              "      <td>0.333333</td>\n",
              "      <td>0.333333</td>\n",
              "      <td>0.333333</td>\n",
              "      <td>0.00</td>\n",
              "      <td>0.00</td>\n",
              "      <td>0.000</td>\n",
              "      <td>0.0</td>\n",
              "      <td>0.666667</td>\n",
              "      <td>0.333333</td>\n",
              "      <td>0.00</td>\n",
              "      <td>0.00</td>\n",
              "      <td>0</td>\n",
              "      <td>0.00</td>\n",
              "      <td>1.0</td>\n",
              "    </tr>\n",
              "    <tr>\n",
              "      <th>1</th>\n",
              "      <td>5647110</td>\n",
              "      <td>5.326529e+08</td>\n",
              "      <td>2.250000</td>\n",
              "      <td>1.500000</td>\n",
              "      <td>27556.500</td>\n",
              "      <td>5.80000</td>\n",
              "      <td>5.56500</td>\n",
              "      <td>1.25</td>\n",
              "      <td>0.250000</td>\n",
              "      <td>0.25</td>\n",
              "      <td>3.750</td>\n",
              "      <td>2.250</td>\n",
              "      <td>9.00</td>\n",
              "      <td>0.0</td>\n",
              "      <td>0.000</td>\n",
              "      <td>0.250000</td>\n",
              "      <td>0.000</td>\n",
              "      <td>0.25</td>\n",
              "      <td>0.000000</td>\n",
              "      <td>0.250</td>\n",
              "      <td>0.250000</td>\n",
              "      <td>0.500000</td>\n",
              "      <td>0.500000</td>\n",
              "      <td>0.000000</td>\n",
              "      <td>0.500000</td>\n",
              "      <td>0.000000</td>\n",
              "      <td>0.25</td>\n",
              "      <td>0.25</td>\n",
              "      <td>0.750</td>\n",
              "      <td>0.0</td>\n",
              "      <td>0.000000</td>\n",
              "      <td>0.250000</td>\n",
              "      <td>0.00</td>\n",
              "      <td>0.00</td>\n",
              "      <td>0</td>\n",
              "      <td>0.00</td>\n",
              "      <td>1.0</td>\n",
              "    </tr>\n",
              "    <tr>\n",
              "      <th>2</th>\n",
              "      <td>5790472</td>\n",
              "      <td>4.578109e+08</td>\n",
              "      <td>1.000000</td>\n",
              "      <td>1.000000</td>\n",
              "      <td>0.000</td>\n",
              "      <td>6.27250</td>\n",
              "      <td>6.27250</td>\n",
              "      <td>0.25</td>\n",
              "      <td>0.750000</td>\n",
              "      <td>0.00</td>\n",
              "      <td>17.250</td>\n",
              "      <td>30.000</td>\n",
              "      <td>2.50</td>\n",
              "      <td>0.0</td>\n",
              "      <td>0.250</td>\n",
              "      <td>0.250000</td>\n",
              "      <td>0.250</td>\n",
              "      <td>0.25</td>\n",
              "      <td>0.000000</td>\n",
              "      <td>0.000</td>\n",
              "      <td>0.000000</td>\n",
              "      <td>0.500000</td>\n",
              "      <td>0.500000</td>\n",
              "      <td>0.000000</td>\n",
              "      <td>0.500000</td>\n",
              "      <td>0.250000</td>\n",
              "      <td>0.25</td>\n",
              "      <td>0.00</td>\n",
              "      <td>0.000</td>\n",
              "      <td>0.0</td>\n",
              "      <td>0.000000</td>\n",
              "      <td>0.750000</td>\n",
              "      <td>0.25</td>\n",
              "      <td>0.00</td>\n",
              "      <td>0</td>\n",
              "      <td>0.00</td>\n",
              "      <td>1.0</td>\n",
              "    </tr>\n",
              "    <tr>\n",
              "      <th>3</th>\n",
              "      <td>5811598</td>\n",
              "      <td>4.612641e+08</td>\n",
              "      <td>1.500000</td>\n",
              "      <td>1.500000</td>\n",
              "      <td>131532.500</td>\n",
              "      <td>5.56000</td>\n",
              "      <td>5.56000</td>\n",
              "      <td>0.25</td>\n",
              "      <td>1.000000</td>\n",
              "      <td>0.25</td>\n",
              "      <td>3.250</td>\n",
              "      <td>10.500</td>\n",
              "      <td>1.00</td>\n",
              "      <td>0.0</td>\n",
              "      <td>0.000</td>\n",
              "      <td>0.250000</td>\n",
              "      <td>0.250</td>\n",
              "      <td>0.00</td>\n",
              "      <td>0.250000</td>\n",
              "      <td>0.250</td>\n",
              "      <td>0.000000</td>\n",
              "      <td>0.500000</td>\n",
              "      <td>0.500000</td>\n",
              "      <td>0.500000</td>\n",
              "      <td>0.000000</td>\n",
              "      <td>0.000000</td>\n",
              "      <td>0.25</td>\n",
              "      <td>0.25</td>\n",
              "      <td>0.000</td>\n",
              "      <td>0.0</td>\n",
              "      <td>0.000000</td>\n",
              "      <td>0.500000</td>\n",
              "      <td>0.00</td>\n",
              "      <td>0.25</td>\n",
              "      <td>0</td>\n",
              "      <td>0.25</td>\n",
              "      <td>1.0</td>\n",
              "    </tr>\n",
              "    <tr>\n",
              "      <th>4</th>\n",
              "      <td>5846363</td>\n",
              "      <td>5.157993e+08</td>\n",
              "      <td>1.875000</td>\n",
              "      <td>1.375000</td>\n",
              "      <td>11055.875</td>\n",
              "      <td>4.08625</td>\n",
              "      <td>4.08625</td>\n",
              "      <td>0.50</td>\n",
              "      <td>1.000000</td>\n",
              "      <td>0.25</td>\n",
              "      <td>4.875</td>\n",
              "      <td>3.375</td>\n",
              "      <td>4.25</td>\n",
              "      <td>0.0</td>\n",
              "      <td>0.125</td>\n",
              "      <td>0.125000</td>\n",
              "      <td>0.375</td>\n",
              "      <td>0.00</td>\n",
              "      <td>0.250000</td>\n",
              "      <td>0.125</td>\n",
              "      <td>0.000000</td>\n",
              "      <td>0.750000</td>\n",
              "      <td>0.250000</td>\n",
              "      <td>0.125000</td>\n",
              "      <td>0.125000</td>\n",
              "      <td>0.250000</td>\n",
              "      <td>0.25</td>\n",
              "      <td>0.25</td>\n",
              "      <td>0.375</td>\n",
              "      <td>0.0</td>\n",
              "      <td>0.125000</td>\n",
              "      <td>0.250000</td>\n",
              "      <td>0.25</td>\n",
              "      <td>0.00</td>\n",
              "      <td>1</td>\n",
              "      <td>0.00</td>\n",
              "      <td>1.0</td>\n",
              "    </tr>\n",
              "  </tbody>\n",
              "</table>\n",
              "</div>\n",
              "      <button class=\"colab-df-convert\" onclick=\"convertToInteractive('df-a4a8bad8-f4c3-4d59-b805-cb22eefd1954')\"\n",
              "              title=\"Convert this dataframe to an interactive table.\"\n",
              "              style=\"display:none;\">\n",
              "        \n",
              "  <svg xmlns=\"http://www.w3.org/2000/svg\" height=\"24px\"viewBox=\"0 0 24 24\"\n",
              "       width=\"24px\">\n",
              "    <path d=\"M0 0h24v24H0V0z\" fill=\"none\"/>\n",
              "    <path d=\"M18.56 5.44l.94 2.06.94-2.06 2.06-.94-2.06-.94-.94-2.06-.94 2.06-2.06.94zm-11 1L8.5 8.5l.94-2.06 2.06-.94-2.06-.94L8.5 2.5l-.94 2.06-2.06.94zm10 10l.94 2.06.94-2.06 2.06-.94-2.06-.94-.94-2.06-.94 2.06-2.06.94z\"/><path d=\"M17.41 7.96l-1.37-1.37c-.4-.4-.92-.59-1.43-.59-.52 0-1.04.2-1.43.59L10.3 9.45l-7.72 7.72c-.78.78-.78 2.05 0 2.83L4 21.41c.39.39.9.59 1.41.59.51 0 1.02-.2 1.41-.59l7.78-7.78 2.81-2.81c.8-.78.8-2.07 0-2.86zM5.41 20L4 18.59l7.72-7.72 1.47 1.35L5.41 20z\"/>\n",
              "  </svg>\n",
              "      </button>\n",
              "      \n",
              "  <style>\n",
              "    .colab-df-container {\n",
              "      display:flex;\n",
              "      flex-wrap:wrap;\n",
              "      gap: 12px;\n",
              "    }\n",
              "\n",
              "    .colab-df-convert {\n",
              "      background-color: #E8F0FE;\n",
              "      border: none;\n",
              "      border-radius: 50%;\n",
              "      cursor: pointer;\n",
              "      display: none;\n",
              "      fill: #1967D2;\n",
              "      height: 32px;\n",
              "      padding: 0 0 0 0;\n",
              "      width: 32px;\n",
              "    }\n",
              "\n",
              "    .colab-df-convert:hover {\n",
              "      background-color: #E2EBFA;\n",
              "      box-shadow: 0px 1px 2px rgba(60, 64, 67, 0.3), 0px 1px 3px 1px rgba(60, 64, 67, 0.15);\n",
              "      fill: #174EA6;\n",
              "    }\n",
              "\n",
              "    [theme=dark] .colab-df-convert {\n",
              "      background-color: #3B4455;\n",
              "      fill: #D2E3FC;\n",
              "    }\n",
              "\n",
              "    [theme=dark] .colab-df-convert:hover {\n",
              "      background-color: #434B5C;\n",
              "      box-shadow: 0px 1px 3px 1px rgba(0, 0, 0, 0.15);\n",
              "      filter: drop-shadow(0px 1px 2px rgba(0, 0, 0, 0.3));\n",
              "      fill: #FFFFFF;\n",
              "    }\n",
              "  </style>\n",
              "\n",
              "      <script>\n",
              "        const buttonEl =\n",
              "          document.querySelector('#df-a4a8bad8-f4c3-4d59-b805-cb22eefd1954 button.colab-df-convert');\n",
              "        buttonEl.style.display =\n",
              "          google.colab.kernel.accessAllowed ? 'block' : 'none';\n",
              "\n",
              "        async function convertToInteractive(key) {\n",
              "          const element = document.querySelector('#df-a4a8bad8-f4c3-4d59-b805-cb22eefd1954');\n",
              "          const dataTable =\n",
              "            await google.colab.kernel.invokeFunction('convertToInteractive',\n",
              "                                                     [key], {});\n",
              "          if (!dataTable) return;\n",
              "\n",
              "          const docLinkHtml = 'Like what you see? Visit the ' +\n",
              "            '<a target=\"_blank\" href=https://colab.research.google.com/notebooks/data_table.ipynb>data table notebook</a>'\n",
              "            + ' to learn more about interactive tables.';\n",
              "          element.innerHTML = '';\n",
              "          dataTable['output_type'] = 'display_data';\n",
              "          await google.colab.output.renderOutput(dataTable, element);\n",
              "          const docLink = document.createElement('div');\n",
              "          docLink.innerHTML = docLinkHtml;\n",
              "          element.appendChild(docLink);\n",
              "        }\n",
              "      </script>\n",
              "    </div>\n",
              "  </div>\n",
              "  "
            ],
            "text/plain": [
              "   product_id       user_id  NumOfEventsInJourney  ...  Purchased?  Noon  Category\n",
              "0     5866936  5.618978e+08              1.333333  ...           0  0.00       1.0\n",
              "1     5647110  5.326529e+08              2.250000  ...           0  0.00       1.0\n",
              "2     5790472  4.578109e+08              1.000000  ...           0  0.00       1.0\n",
              "3     5811598  4.612641e+08              1.500000  ...           0  0.25       1.0\n",
              "4     5846363  5.157993e+08              1.875000  ...           1  0.00       1.0\n",
              "\n",
              "[5 rows x 37 columns]"
            ]
          },
          "metadata": {},
          "execution_count": 32
        }
      ]
    },
    {
      "cell_type": "markdown",
      "metadata": {
        "id": "rWWh4X5hVxLn"
      },
      "source": [
        "2. Read in the data in `Next_month_products.csv` and save it as a DataFrame called `next_df`. This is the test dataset.\n",
        "\n",
        "    Look at the shape of the DataFrame and look at the first few rows."
      ]
    },
    {
      "cell_type": "code",
      "execution_count": null,
      "metadata": {
        "colab": {
          "base_uri": "https://localhost:8080/"
        },
        "id": "vW5WsvMM2yoU",
        "outputId": "f2c54afa-8f85-4dbf-b272-da4e1319d103"
      },
      "outputs": [
        {
          "output_type": "execute_result",
          "data": {
            "text/plain": [
              "(30091, 5)"
            ]
          },
          "metadata": {},
          "execution_count": 33
        }
      ],
      "source": [
        "next_df = pd.read_csv('/content/drive/My Drive/FourthBrain/Assignments/Week_4/Live_Assignment_Data/Next_month_products.csv')\n",
        "next_df.shape"
      ]
    },
    {
      "cell_type": "code",
      "source": [
        "next_df.head()"
      ],
      "metadata": {
        "colab": {
          "base_uri": "https://localhost:8080/",
          "height": 206
        },
        "id": "2MscrmtVXaYz",
        "outputId": "b96990f8-10dc-415a-cb16-b9bf4d32b75e"
      },
      "execution_count": null,
      "outputs": [
        {
          "output_type": "execute_result",
          "data": {
            "text/html": [
              "\n",
              "  <div id=\"df-4dac4584-4991-4813-85b7-d8eb08f38ace\">\n",
              "    <div class=\"colab-df-container\">\n",
              "      <div>\n",
              "<style scoped>\n",
              "    .dataframe tbody tr th:only-of-type {\n",
              "        vertical-align: middle;\n",
              "    }\n",
              "\n",
              "    .dataframe tbody tr th {\n",
              "        vertical-align: top;\n",
              "    }\n",
              "\n",
              "    .dataframe thead th {\n",
              "        text-align: right;\n",
              "    }\n",
              "</style>\n",
              "<table border=\"1\" class=\"dataframe\">\n",
              "  <thead>\n",
              "    <tr style=\"text-align: right;\">\n",
              "      <th></th>\n",
              "      <th>product_id</th>\n",
              "      <th>maxPrice</th>\n",
              "      <th>minPrice</th>\n",
              "      <th>Purchased?</th>\n",
              "      <th>Category</th>\n",
              "    </tr>\n",
              "  </thead>\n",
              "  <tbody>\n",
              "    <tr>\n",
              "      <th>0</th>\n",
              "      <td>5866502</td>\n",
              "      <td>7.616667</td>\n",
              "      <td>7.616667</td>\n",
              "      <td>0</td>\n",
              "      <td>1.0</td>\n",
              "    </tr>\n",
              "    <tr>\n",
              "      <th>1</th>\n",
              "      <td>5870408</td>\n",
              "      <td>6.270000</td>\n",
              "      <td>6.270000</td>\n",
              "      <td>0</td>\n",
              "      <td>3.0</td>\n",
              "    </tr>\n",
              "    <tr>\n",
              "      <th>2</th>\n",
              "      <td>5900580</td>\n",
              "      <td>10.008000</td>\n",
              "      <td>10.008000</td>\n",
              "      <td>0</td>\n",
              "      <td>1.0</td>\n",
              "    </tr>\n",
              "    <tr>\n",
              "      <th>3</th>\n",
              "      <td>5918778</td>\n",
              "      <td>5.980000</td>\n",
              "      <td>5.980000</td>\n",
              "      <td>0</td>\n",
              "      <td>2.5</td>\n",
              "    </tr>\n",
              "    <tr>\n",
              "      <th>4</th>\n",
              "      <td>5848772</td>\n",
              "      <td>26.830000</td>\n",
              "      <td>26.830000</td>\n",
              "      <td>0</td>\n",
              "      <td>1.0</td>\n",
              "    </tr>\n",
              "  </tbody>\n",
              "</table>\n",
              "</div>\n",
              "      <button class=\"colab-df-convert\" onclick=\"convertToInteractive('df-4dac4584-4991-4813-85b7-d8eb08f38ace')\"\n",
              "              title=\"Convert this dataframe to an interactive table.\"\n",
              "              style=\"display:none;\">\n",
              "        \n",
              "  <svg xmlns=\"http://www.w3.org/2000/svg\" height=\"24px\"viewBox=\"0 0 24 24\"\n",
              "       width=\"24px\">\n",
              "    <path d=\"M0 0h24v24H0V0z\" fill=\"none\"/>\n",
              "    <path d=\"M18.56 5.44l.94 2.06.94-2.06 2.06-.94-2.06-.94-.94-2.06-.94 2.06-2.06.94zm-11 1L8.5 8.5l.94-2.06 2.06-.94-2.06-.94L8.5 2.5l-.94 2.06-2.06.94zm10 10l.94 2.06.94-2.06 2.06-.94-2.06-.94-.94-2.06-.94 2.06-2.06.94z\"/><path d=\"M17.41 7.96l-1.37-1.37c-.4-.4-.92-.59-1.43-.59-.52 0-1.04.2-1.43.59L10.3 9.45l-7.72 7.72c-.78.78-.78 2.05 0 2.83L4 21.41c.39.39.9.59 1.41.59.51 0 1.02-.2 1.41-.59l7.78-7.78 2.81-2.81c.8-.78.8-2.07 0-2.86zM5.41 20L4 18.59l7.72-7.72 1.47 1.35L5.41 20z\"/>\n",
              "  </svg>\n",
              "      </button>\n",
              "      \n",
              "  <style>\n",
              "    .colab-df-container {\n",
              "      display:flex;\n",
              "      flex-wrap:wrap;\n",
              "      gap: 12px;\n",
              "    }\n",
              "\n",
              "    .colab-df-convert {\n",
              "      background-color: #E8F0FE;\n",
              "      border: none;\n",
              "      border-radius: 50%;\n",
              "      cursor: pointer;\n",
              "      display: none;\n",
              "      fill: #1967D2;\n",
              "      height: 32px;\n",
              "      padding: 0 0 0 0;\n",
              "      width: 32px;\n",
              "    }\n",
              "\n",
              "    .colab-df-convert:hover {\n",
              "      background-color: #E2EBFA;\n",
              "      box-shadow: 0px 1px 2px rgba(60, 64, 67, 0.3), 0px 1px 3px 1px rgba(60, 64, 67, 0.15);\n",
              "      fill: #174EA6;\n",
              "    }\n",
              "\n",
              "    [theme=dark] .colab-df-convert {\n",
              "      background-color: #3B4455;\n",
              "      fill: #D2E3FC;\n",
              "    }\n",
              "\n",
              "    [theme=dark] .colab-df-convert:hover {\n",
              "      background-color: #434B5C;\n",
              "      box-shadow: 0px 1px 3px 1px rgba(0, 0, 0, 0.15);\n",
              "      filter: drop-shadow(0px 1px 2px rgba(0, 0, 0, 0.3));\n",
              "      fill: #FFFFFF;\n",
              "    }\n",
              "  </style>\n",
              "\n",
              "      <script>\n",
              "        const buttonEl =\n",
              "          document.querySelector('#df-4dac4584-4991-4813-85b7-d8eb08f38ace button.colab-df-convert');\n",
              "        buttonEl.style.display =\n",
              "          google.colab.kernel.accessAllowed ? 'block' : 'none';\n",
              "\n",
              "        async function convertToInteractive(key) {\n",
              "          const element = document.querySelector('#df-4dac4584-4991-4813-85b7-d8eb08f38ace');\n",
              "          const dataTable =\n",
              "            await google.colab.kernel.invokeFunction('convertToInteractive',\n",
              "                                                     [key], {});\n",
              "          if (!dataTable) return;\n",
              "\n",
              "          const docLinkHtml = 'Like what you see? Visit the ' +\n",
              "            '<a target=\"_blank\" href=https://colab.research.google.com/notebooks/data_table.ipynb>data table notebook</a>'\n",
              "            + ' to learn more about interactive tables.';\n",
              "          element.innerHTML = '';\n",
              "          dataTable['output_type'] = 'display_data';\n",
              "          await google.colab.output.renderOutput(dataTable, element);\n",
              "          const docLink = document.createElement('div');\n",
              "          docLink.innerHTML = docLinkHtml;\n",
              "          element.appendChild(docLink);\n",
              "        }\n",
              "      </script>\n",
              "    </div>\n",
              "  </div>\n",
              "  "
            ],
            "text/plain": [
              "   product_id   maxPrice   minPrice  Purchased?  Category\n",
              "0     5866502   7.616667   7.616667           0       1.0\n",
              "1     5870408   6.270000   6.270000           0       3.0\n",
              "2     5900580  10.008000  10.008000           0       1.0\n",
              "3     5918778   5.980000   5.980000           0       2.5\n",
              "4     5848772  26.830000  26.830000           0       1.0"
            ]
          },
          "metadata": {},
          "execution_count": 34
        }
      ]
    },
    {
      "cell_type": "markdown",
      "metadata": {
        "id": "1XPWz_-fVxLp"
      },
      "source": [
        "3. How does the number of datapoints in the training set compare to the number of datapoints in the test set?\n",
        "\n",
        "    And how does the feature set in the training set compare to the feature set in the test set?"
      ]
    },
    {
      "cell_type": "markdown",
      "metadata": {
        "id": "VGNq81gTVxLq"
      },
      "source": [
        "The training set has five thousand datapoints while the test set has over thirty thousand. However, ther training set includes a higher number of features than the test set: 35 compared to 3 (this excludes product ids)."
      ]
    },
    {
      "cell_type": "markdown",
      "metadata": {
        "id": "tRrXSVcM2yoO"
      },
      "source": [
        "Imagine that you are helping plan the launch of new products. You have to figure out how to mine the past cosmetic sales data from last month, utilize relevant features and to make estimations as to which products will sell more. "
      ]
    },
    {
      "cell_type": "markdown",
      "metadata": {
        "id": "d3bar2-9VxLs"
      },
      "source": [
        "4. What percentage of datapoints are a purchase in the training set?"
      ]
    },
    {
      "cell_type": "code",
      "execution_count": null,
      "metadata": {
        "colab": {
          "base_uri": "https://localhost:8080/"
        },
        "id": "E8s715d7VxLt",
        "outputId": "158f5f0f-6bc2-4a32-fcfd-ec17c60e3d3e"
      },
      "outputs": [
        {
          "output_type": "stream",
          "name": "stdout",
          "text": [
            "Percentage of datapoints that are purchases in the training set:  34.38\n"
          ]
        }
      ],
      "source": [
        "print('Percentage of datapoints that are purchases in the training set: ', past_df['Purchased?'].mean() * 100)"
      ]
    },
    {
      "cell_type": "markdown",
      "metadata": {
        "id": "4XxQd4hcVxLt"
      },
      "source": [
        "5. What percentage of datapoints are a purchase in the test set?"
      ]
    },
    {
      "cell_type": "code",
      "execution_count": null,
      "metadata": {
        "colab": {
          "base_uri": "https://localhost:8080/"
        },
        "id": "uGqN_0ZAVxLu",
        "outputId": "4192ec44-159d-4b04-8032-cc715d19d1bd"
      },
      "outputs": [
        {
          "output_type": "stream",
          "name": "stdout",
          "text": [
            "Percentage of datapoints that are purchases in the test set:  34.42557575354757\n"
          ]
        }
      ],
      "source": [
        "print('Percentage of datapoints that are purchases in the test set: ', next_df['Purchased?'].mean() * 100)"
      ]
    },
    {
      "cell_type": "markdown",
      "metadata": {
        "id": "uAiweXXjVxLu"
      },
      "source": [
        "6. Are there any product ids in both the training and test datasets?"
      ]
    },
    {
      "cell_type": "code",
      "execution_count": null,
      "metadata": {
        "colab": {
          "base_uri": "https://localhost:8080/"
        },
        "id": "AKRKHWCwVxLu",
        "outputId": "b97549fa-7745-4b74-b150-c538c399cd7a"
      },
      "outputs": [
        {
          "output_type": "stream",
          "name": "stdout",
          "text": [
            "Number of overlapping ids:  0\n"
          ]
        }
      ],
      "source": [
        "import numpy as np\n",
        "\n",
        "unique_train_ids = np.unique(past_df['product_id'])\n",
        "unique_test_ids = np.unique(next_df['product_id'])\n",
        "\n",
        "intersection = len(set(np.unique(unique_train_ids)).intersection(set(unique_test_ids)))\n",
        "\n",
        "print('Number of overlapping ids: ', intersection)"
      ]
    },
    {
      "cell_type": "markdown",
      "metadata": {
        "id": "Dx1pn6NbVxLv"
      },
      "source": [
        "7. Create `X_train`, `y_train`, `X_test`, and `y_test` according to the following guidelines.\n",
        "    * The `Purchased?` column is the target.\n",
        "    * `X_train` and `X_test` should contain the same features (so you will not be able to use all the features).\n",
        "    * `product_id` should not be a feature.\n",
        "    \n",
        "    Double check that the shapes of the four arrays are what you expect."
      ]
    },
    {
      "cell_type": "code",
      "execution_count": null,
      "metadata": {
        "colab": {
          "base_uri": "https://localhost:8080/"
        },
        "id": "S4ltwfa62yoa",
        "outputId": "6403b64c-f950-43f0-c79c-388ca35bbccf"
      },
      "outputs": [
        {
          "output_type": "stream",
          "name": "stdout",
          "text": [
            "(5000, 3) (5000,) (30091, 3) (30091,)\n"
          ]
        }
      ],
      "source": [
        "X_train = past_df[['maxPrice',\t'minPrice',\t'Category']].values\n",
        "y_train = past_df['Purchased?'].values\n",
        "\n",
        "X_test = next_df[['maxPrice',\t'minPrice',\t'Category']].values\n",
        "y_test = next_df['Purchased?'].values\n",
        "\n",
        "print(X_train.shape, y_train.shape, X_test.shape, y_test.shape)"
      ]
    },
    {
      "cell_type": "markdown",
      "metadata": {
        "id": "bOPpOWog2yoc"
      },
      "source": [
        "## Task 2: Build the best classifier you can using only the Past month's data.\n",
        "\n",
        "We will be using the TPOT library to find an optimal model.\n",
        "\n",
        "1. Install `tpot`.\n",
        "\n",
        "    If you're running the notebook locally, follow [these instructions](https://epistasislab.github.io/tpot/installing/), using either conda or pip.\n",
        "    \n",
        "    If you're using Colab, uncomment the following line to install tpot."
      ]
    },
    {
      "cell_type": "code",
      "execution_count": null,
      "metadata": {
        "id": "xynRq9x4QlJL",
        "colab": {
          "base_uri": "https://localhost:8080/"
        },
        "outputId": "5963f07b-01c8-4ed3-bfec-e645bfeacee3"
      },
      "outputs": [
        {
          "output_type": "stream",
          "name": "stdout",
          "text": [
            "Requirement already satisfied: tpot in /usr/local/lib/python3.7/dist-packages (0.11.7)\n",
            "Requirement already satisfied: deap>=1.2 in /usr/local/lib/python3.7/dist-packages (from tpot) (1.3.1)\n",
            "Requirement already satisfied: pandas>=0.24.2 in /usr/local/lib/python3.7/dist-packages (from tpot) (1.3.5)\n",
            "Requirement already satisfied: stopit>=1.1.1 in /usr/local/lib/python3.7/dist-packages (from tpot) (1.1.2)\n",
            "Requirement already satisfied: scipy>=1.3.1 in /usr/local/lib/python3.7/dist-packages (from tpot) (1.4.1)\n",
            "Requirement already satisfied: update-checker>=0.16 in /usr/local/lib/python3.7/dist-packages (from tpot) (0.18.0)\n",
            "Requirement already satisfied: tqdm>=4.36.1 in /usr/local/lib/python3.7/dist-packages (from tpot) (4.62.3)\n",
            "Requirement already satisfied: scikit-learn>=0.22.0 in /usr/local/lib/python3.7/dist-packages (from tpot) (1.0.2)\n",
            "Requirement already satisfied: numpy>=1.16.3 in /usr/local/lib/python3.7/dist-packages (from tpot) (1.21.5)\n",
            "Requirement already satisfied: joblib>=0.13.2 in /usr/local/lib/python3.7/dist-packages (from tpot) (1.1.0)\n",
            "Requirement already satisfied: xgboost>=1.1.0 in /usr/local/lib/python3.7/dist-packages (from tpot) (1.5.2)\n",
            "Requirement already satisfied: pytz>=2017.3 in /usr/local/lib/python3.7/dist-packages (from pandas>=0.24.2->tpot) (2018.9)\n",
            "Requirement already satisfied: python-dateutil>=2.7.3 in /usr/local/lib/python3.7/dist-packages (from pandas>=0.24.2->tpot) (2.8.2)\n",
            "Requirement already satisfied: six>=1.5 in /usr/local/lib/python3.7/dist-packages (from python-dateutil>=2.7.3->pandas>=0.24.2->tpot) (1.15.0)\n",
            "Requirement already satisfied: threadpoolctl>=2.0.0 in /usr/local/lib/python3.7/dist-packages (from scikit-learn>=0.22.0->tpot) (3.1.0)\n",
            "Requirement already satisfied: requests>=2.3.0 in /usr/local/lib/python3.7/dist-packages (from update-checker>=0.16->tpot) (2.23.0)\n",
            "Requirement already satisfied: certifi>=2017.4.17 in /usr/local/lib/python3.7/dist-packages (from requests>=2.3.0->update-checker>=0.16->tpot) (2021.10.8)\n",
            "Requirement already satisfied: urllib3!=1.25.0,!=1.25.1,<1.26,>=1.21.1 in /usr/local/lib/python3.7/dist-packages (from requests>=2.3.0->update-checker>=0.16->tpot) (1.24.3)\n",
            "Requirement already satisfied: chardet<4,>=3.0.2 in /usr/local/lib/python3.7/dist-packages (from requests>=2.3.0->update-checker>=0.16->tpot) (3.0.4)\n",
            "Requirement already satisfied: idna<3,>=2.5 in /usr/local/lib/python3.7/dist-packages (from requests>=2.3.0->update-checker>=0.16->tpot) (2.10)\n"
          ]
        }
      ],
      "source": [
        "!pip install tpot"
      ]
    },
    {
      "cell_type": "markdown",
      "metadata": {
        "id": "xPIMaYovVxLx"
      },
      "source": [
        "2. Instantiate and train a TPOT auto-ML classifier.\n",
        "\n",
        "    The parameters are set fairly aritrarily (with some trial and error). Use these parameter values:\n",
        "    * `generations`: 5\n",
        "    * `population_size`: 40\n",
        "    * `verbosity`: 2 (so you can see each generation's performance)\n",
        "    \n",
        "    The final line with create a Python script `tpot_products_pipeline.py` with the code to create the optimal model found by TPOT."
      ]
    },
    {
      "cell_type": "code",
      "execution_count": null,
      "metadata": {
        "colab": {
          "base_uri": "https://localhost:8080/",
          "height": 262,
          "referenced_widgets": [
            "3c29d7a07ac246b58b189e7a3a3f84da",
            "fbef4d6de74543dca75151a674a933f1",
            "d74a5933b40c4e6ba6dc5a857494340d",
            "50fa7451200c42069459a60f9816b919",
            "f814fa56bfd5451490e03a02b76cfd3f",
            "80aaeeeebd04497e8f78a10eea692a96",
            "eff8a973d952404694b2896c86036b46",
            "82ec8cb1695249dea714f3c03f6afe63",
            "35ee671eecbd439692de38b054df36f7",
            "f3a65af45d1d46c6be0289ff353faa7b",
            "6579a560bfe24ca1bf88ba82251f7d71"
          ]
        },
        "id": "0Z0aR02P2yod",
        "outputId": "9cb76598-96c5-4593-ed2f-2d9e07a35a50"
      },
      "outputs": [
        {
          "output_type": "display_data",
          "data": {
            "application/vnd.jupyter.widget-view+json": {
              "model_id": "3c29d7a07ac246b58b189e7a3a3f84da",
              "version_minor": 0,
              "version_major": 2
            },
            "text/plain": [
              "Optimization Progress:   0%|          | 0/240 [00:00<?, ?pipeline/s]"
            ]
          },
          "metadata": {}
        },
        {
          "output_type": "stream",
          "name": "stdout",
          "text": [
            "\n",
            "Generation 1 - Current best internal CV score: 0.8744\n",
            "\n",
            "Generation 2 - Current best internal CV score: 0.8747999999999999\n",
            "\n",
            "Generation 3 - Current best internal CV score: 0.875\n",
            "\n",
            "Generation 4 - Current best internal CV score: 0.875\n",
            "\n",
            "Generation 5 - Current best internal CV score: 0.875\n",
            "\n",
            "Best pipeline: ExtraTreesClassifier(MultinomialNB(RFE(input_matrix, criterion=gini, max_features=0.05, n_estimators=100, step=0.1), alpha=100.0, fit_prior=True), bootstrap=True, criterion=gini, max_features=0.8500000000000001, min_samples_leaf=4, min_samples_split=15, n_estimators=100)\n",
            "0.8715230467581669\n"
          ]
        }
      ],
      "source": [
        "from tpot import TPOTClassifier\n",
        "\n",
        "tpot = TPOTClassifier(generations=5, population_size=40, verbosity=2)\n",
        "\n",
        "tpot.fit(X_train, y_train)\n",
        "\n",
        "print(tpot.score(X_test, y_test))\n",
        "\n",
        "tpot.export('tpot_products_pipeline.py')"
      ]
    },
    {
      "cell_type": "markdown",
      "metadata": {
        "id": "bA26aJG1VxLx"
      },
      "source": [
        "3. Take the appropriate lines (updating the variable names) from `tpot_products_pipeline.py` to build a model on our training set and make predictions on the test set. Save the predictions as `y_pred`.\n",
        "\n",
        "    If there is model used in `tpot_products_pipeline.py` that you aren't familiar with, look it up!\n",
        "\n",
        "    Note: There is randomness to the way the TPOT searches, so it's possible you won't have exactly the same result as your classmate."
      ]
    },
    {
      "cell_type": "code",
      "execution_count": null,
      "metadata": {
        "id": "wm5Ac97r2yog"
      },
      "outputs": [],
      "source": [
        "from sklearn.pipeline import make_pipeline\n",
        "from tpot.builtins import StackingEstimator\n",
        "from tpot.export_utils import set_param_recursive\n",
        "from sklearn.ensemble import ExtraTreesClassifier\n",
        "from sklearn.naive_bayes import MultinomialNB\n",
        "from sklearn.feature_selection import RFE\n",
        "\n",
        "exported_pipeline = make_pipeline(\n",
        "    StackingEstimator(estimator=ExtraTreesClassifier(bootstrap=True, criterion='gini', max_features=0.8500000000000001, min_samples_leaf=4, min_samples_split=15, n_estimators=100)),\n",
        "    MultinomialNB(alpha=100.0, fit_prior=True),\n",
        ")\n",
        "# Fix random state for all the steps in exported pipeline\n",
        "set_param_recursive(exported_pipeline.steps, 'random_state', 1)\n",
        " \n",
        "exported_pipeline.fit(X_train, y_train)\n",
        "y_pred = exported_pipeline.predict(X_test)"
      ]
    },
    {
      "cell_type": "markdown",
      "metadata": {
        "id": "diQyYboWIb0u"
      },
      "source": [
        "4. Compute some evaluation metrics for the predictions made above. Print the accuracy, recall, precision, f1 score and confusion matrix."
      ]
    },
    {
      "cell_type": "code",
      "execution_count": null,
      "metadata": {
        "colab": {
          "base_uri": "https://localhost:8080/"
        },
        "id": "fbGFSnzi2yoi",
        "outputId": "e41d3e21-28f0-4c19-e263-7f67f198b726"
      },
      "outputs": [
        {
          "output_type": "stream",
          "name": "stdout",
          "text": [
            "Accuracy = 0.8584626632547938, Precision = 0.945645821157218, Recall = 0.6247707307655179, F1-score = 0.7524269022844853\n",
            "Confusion Matrix is:\n",
            "[[19360   372]\n",
            " [ 3887  6472]]\n"
          ]
        }
      ],
      "source": [
        "from sklearn.metrics import confusion_matrix\n",
        "from sklearn.metrics import accuracy_score as accuracy\n",
        "from sklearn.metrics import recall_score as recall\n",
        "from sklearn.metrics import precision_score as precision\n",
        "from sklearn.metrics import f1_score\n",
        "\n",
        "cmtp=confusion_matrix(y_test, y_pred)\n",
        "acc  = accuracy(y_test, y_pred)\n",
        "rec  = recall(y_test, y_pred)\n",
        "prec = precision(y_test, y_pred)\n",
        "f1   = f1_score(y_test, y_pred)\n",
        "print(f'Accuracy = {acc}, Precision = {prec}, Recall = {rec}, F1-score = {f1}')\n",
        "print('Confusion Matrix is:')\n",
        "print(cmtp)"
      ]
    },
    {
      "cell_type": "markdown",
      "metadata": {
        "id": "-px8SPVv2yol"
      },
      "source": [
        "## Task 3: Semi-supervised learning: Apply label spreading on the data.\n",
        "\n",
        "We won't use any of the labels for the test set. We'll just use labels for the training set. We will, however, use the **features** from the test set along with the features from the training set. Since we're using a large number of sampled features, but only a small number of these samples have labels, this is **semi-supervised learning**."
      ]
    },
    {
      "cell_type": "markdown",
      "metadata": {
        "id": "31i6GDQCJsdd"
      },
      "source": [
        "1. Create a matrix `X` that has the rows from `X_train` concatenated with the rows from `X_test`.\n",
        "\n",
        "    Check the shape of the matrix."
      ]
    },
    {
      "cell_type": "code",
      "execution_count": null,
      "metadata": {
        "colab": {
          "base_uri": "https://localhost:8080/"
        },
        "id": "OyxJD6So2yol",
        "outputId": "3c96f891-d396-47bb-d6aa-f5f993dcf590"
      },
      "outputs": [
        {
          "output_type": "execute_result",
          "data": {
            "text/plain": [
              "(35091, 3)"
            ]
          },
          "metadata": {},
          "execution_count": 51
        }
      ],
      "source": [
        "X = np.concatenate((X_train, X_test))\n",
        "X.shape"
      ]
    },
    {
      "cell_type": "markdown",
      "metadata": {
        "id": "CeJh_b7_VxLz"
      },
      "source": [
        "2. Create the target array `y` by concatenating `y_train` with a vector of -1's, effectively creating a dummy label for the `X_test` rows in `X`.\n",
        "\n",
        "    Check the shape of the array. It should have as many values as `X` has rows."
      ]
    },
    {
      "cell_type": "code",
      "execution_count": null,
      "metadata": {
        "id": "UK1QxliM2yop",
        "colab": {
          "base_uri": "https://localhost:8080/"
        },
        "outputId": "49b0e47e-d8fc-4627-ce37-aaf6ec74a70b"
      },
      "outputs": [
        {
          "output_type": "execute_result",
          "data": {
            "text/plain": [
              "(35091,)"
            ]
          },
          "metadata": {},
          "execution_count": 59
        }
      ],
      "source": [
        "y = np.concatenate((y_train, -np.ones(X_test.shape[0])))\n",
        "y.shape"
      ]
    },
    {
      "cell_type": "markdown",
      "metadata": {
        "id": "sZ9YdmHQKFBB"
      },
      "source": [
        "Scikit-learn provides two label propagation models: `LabelPropagation` and `LabelSpreading`. Both work by constructing a similarity graph over all items in the input dataset. LabelSpreading is similar to the basic Label Propagation algorithm, but it uses an affinity matrix based on the normalized graph Laplacian and soft clamping across the labels. We will be using scikit-learn's `LabelSpreading` model with `kNN`."
      ]
    },
    {
      "cell_type": "markdown",
      "metadata": {
        "id": "glrGziOPVPA3"
      },
      "source": [
        "3. Train a `LabelSpreading` model. Set `kernel` to `knn` and `alpha` to 0.01."
      ]
    },
    {
      "cell_type": "code",
      "execution_count": null,
      "metadata": {
        "colab": {
          "base_uri": "https://localhost:8080/"
        },
        "id": "Q4XOZHrqVQo0",
        "outputId": "3b7bb8bc-1148-4cf8-9e09-6b37f0057176"
      },
      "outputs": [
        {
          "output_type": "execute_result",
          "data": {
            "text/plain": [
              "LabelSpreading(alpha=0.01, kernel='knn')"
            ]
          },
          "metadata": {},
          "execution_count": 60
        }
      ],
      "source": [
        "from sklearn.semi_supervised import LabelSpreading\n",
        "\n",
        "lab_spr = LabelSpreading(kernel='knn', alpha=0.01)\n",
        "\n",
        "lab_spr.fit(X, y)"
      ]
    },
    {
      "cell_type": "markdown",
      "metadata": {
        "id": "NUw9UyOxKRkS"
      },
      "source": [
        "4. Extract the predictions for the test data. You can get the predictions from the `transduction_` attribute. Note that there is a value for every row in `X`, so select just the values that correspond to `X_test`."
      ]
    },
    {
      "cell_type": "code",
      "execution_count": null,
      "metadata": {
        "id": "bOE-d_R02you",
        "colab": {
          "base_uri": "https://localhost:8080/"
        },
        "outputId": "50b6e4a4-b1ee-40ca-d42c-af59b70a87bf"
      },
      "outputs": [
        {
          "output_type": "execute_result",
          "data": {
            "text/plain": [
              "(30091,)"
            ]
          },
          "metadata": {},
          "execution_count": 61
        }
      ],
      "source": [
        "y_pred = lab_spr.transduction_\n",
        "y_pred = y_pred[y_train.shape[0]: ]\n",
        "y_pred.shape"
      ]
    },
    {
      "cell_type": "markdown",
      "metadata": {
        "id": "MmhQOMlxVxL0"
      },
      "source": [
        "5. Compute some evaluation metrics for the predictions. Print the accuracy, recall, precision, f1 score and confusion matrix."
      ]
    },
    {
      "cell_type": "code",
      "execution_count": null,
      "metadata": {
        "colab": {
          "base_uri": "https://localhost:8080/"
        },
        "outputId": "4338cdd3-c961-4a7e-d995-c3f1727b7093",
        "id": "wpCawK76VxL0"
      },
      "outputs": [
        {
          "output_type": "stream",
          "name": "stdout",
          "text": [
            "Accuracy = 0.8223056727925293, Precision = 0.8099183774424932, Recall = 0.6322038806834637, F1-score = 0.7101111412306857\n",
            "Confusion Matrix is:\n",
            "[[18195  1537]\n",
            " [ 3810  6549]]\n"
          ]
        }
      ],
      "source": [
        "cmtp=confusion_matrix(y_test, y_pred)\n",
        "acc  = accuracy(y_test, y_pred)\n",
        "rec  = recall(y_test, y_pred)\n",
        "prec = precision(y_test, y_pred)\n",
        "f1   = f1_score(y_test, y_pred)\n",
        "print(f'Accuracy = {acc}, Precision = {prec}, Recall = {rec}, F1-score = {f1}')\n",
        "print('Confusion Matrix is:')\n",
        "print(cmtp)"
      ]
    },
    {
      "cell_type": "markdown",
      "metadata": {
        "id": "k3HziHwE2yoz"
      },
      "source": [
        "6. Collect your results in the table below to compare the two models.\n",
        "\n",
        "\n",
        "| Method          | Recall       | F1-score     | Accuracy     |\n",
        "| --------------- | ------------ | ------------ | ------------ |\n",
        "| TPOT (AutoML)   |     0.625       |         0.752        |       0.858        |\n",
        "| Label Spreading |     0.632       |         0.710        |       0.822        |"
      ]
    },
    {
      "cell_type": "markdown",
      "metadata": {
        "id": "Unmp-DRM2yoz"
      },
      "source": [
        "## Task 4: System Design for Zero Shot Learning:\n",
        "So far we have been looking at 3 product level features (min price, max price, Product Category) to classify if a particular product will get get purchased or not.\n",
        "Now, let's say you have access to some more information regarding each Past sold cosmetic item and the Next cosmetic item. Design a System to enable accurate identification of an item that is more likely to be purchased.\n",
        "Think through the following:\n",
        "1. What additional data fields do you need per cosmetic in past and Next catalogue? How would you process these data fields?\n",
        "2. You have access to picture images of each cosmetic. How will you use these images to extract relevant features for gauging interest in the new cosmetics?\n",
        "3. Design an end-to-end system workflow using the additional cosmetic data and cosmetic images to predict its purchasing polularity."
      ]
    },
    {
      "cell_type": "markdown",
      "metadata": {
        "id": "K0v931vvX0PR"
      },
      "source": [
        "## Task 5: Summary and Discussion\n",
        "\n",
        "What would you report back as the best method to gauge product popularity?\n",
        "\n",
        "Think in terms of Data, Process and Outcomes specifically.\n",
        "\n",
        "Consider the following:\n",
        "1. Can you store the data in some other way to enable ZSL or more efficient information storage/retrieval?\n",
        "2. Given a new data set on the job, how would you report the best \"method\"? What are the steps to always follow? \n",
        "3. What is the metric/metrics you would use to report your results?\n",
        "\n",
        "Share screen and discuss findings. Think about generalizability (something that works across data sets)\n",
        "\n",
        "Also, look into ML system design in terms of Data, Process and Outcome."
      ]
    }
  ],
  "metadata": {
    "colab": {
      "collapsed_sections": [],
      "name": "Week 4 Live Assignment_Target.ipynb",
      "provenance": []
    },
    "kernelspec": {
      "display_name": "Python 3",
      "language": "python",
      "name": "python3"
    },
    "language_info": {
      "codemirror_mode": {
        "name": "ipython",
        "version": 3
      },
      "file_extension": ".py",
      "mimetype": "text/x-python",
      "name": "python",
      "nbconvert_exporter": "python",
      "pygments_lexer": "ipython3",
      "version": "3.8.8"
    },
    "widgets": {
      "application/vnd.jupyter.widget-state+json": {
        "3c29d7a07ac246b58b189e7a3a3f84da": {
          "model_module": "@jupyter-widgets/controls",
          "model_name": "HBoxModel",
          "model_module_version": "1.5.0",
          "state": {
            "_view_name": "HBoxView",
            "_dom_classes": [],
            "_model_name": "HBoxModel",
            "_view_module": "@jupyter-widgets/controls",
            "_model_module_version": "1.5.0",
            "_view_count": null,
            "_view_module_version": "1.5.0",
            "box_style": "",
            "layout": "IPY_MODEL_fbef4d6de74543dca75151a674a933f1",
            "_model_module": "@jupyter-widgets/controls",
            "children": [
              "IPY_MODEL_d74a5933b40c4e6ba6dc5a857494340d",
              "IPY_MODEL_50fa7451200c42069459a60f9816b919",
              "IPY_MODEL_f814fa56bfd5451490e03a02b76cfd3f"
            ]
          }
        },
        "fbef4d6de74543dca75151a674a933f1": {
          "model_module": "@jupyter-widgets/base",
          "model_name": "LayoutModel",
          "model_module_version": "1.2.0",
          "state": {
            "_view_name": "LayoutView",
            "grid_template_rows": null,
            "right": null,
            "justify_content": null,
            "_view_module": "@jupyter-widgets/base",
            "overflow": null,
            "_model_module_version": "1.2.0",
            "_view_count": null,
            "flex_flow": null,
            "width": null,
            "min_width": null,
            "border": null,
            "align_items": null,
            "bottom": null,
            "_model_module": "@jupyter-widgets/base",
            "top": null,
            "grid_column": null,
            "overflow_y": null,
            "overflow_x": null,
            "grid_auto_flow": null,
            "grid_area": null,
            "grid_template_columns": null,
            "flex": null,
            "_model_name": "LayoutModel",
            "justify_items": null,
            "grid_row": null,
            "max_height": null,
            "align_content": null,
            "visibility": null,
            "align_self": null,
            "height": null,
            "min_height": null,
            "padding": null,
            "grid_auto_rows": null,
            "grid_gap": null,
            "max_width": null,
            "order": null,
            "_view_module_version": "1.2.0",
            "grid_template_areas": null,
            "object_position": null,
            "object_fit": null,
            "grid_auto_columns": null,
            "margin": null,
            "display": null,
            "left": null
          }
        },
        "d74a5933b40c4e6ba6dc5a857494340d": {
          "model_module": "@jupyter-widgets/controls",
          "model_name": "HTMLModel",
          "model_module_version": "1.5.0",
          "state": {
            "_view_name": "HTMLView",
            "style": "IPY_MODEL_80aaeeeebd04497e8f78a10eea692a96",
            "_dom_classes": [],
            "description": "",
            "_model_name": "HTMLModel",
            "placeholder": "​",
            "_view_module": "@jupyter-widgets/controls",
            "_model_module_version": "1.5.0",
            "value": "Optimization Progress: 100%",
            "_view_count": null,
            "_view_module_version": "1.5.0",
            "description_tooltip": null,
            "_model_module": "@jupyter-widgets/controls",
            "layout": "IPY_MODEL_eff8a973d952404694b2896c86036b46"
          }
        },
        "50fa7451200c42069459a60f9816b919": {
          "model_module": "@jupyter-widgets/controls",
          "model_name": "FloatProgressModel",
          "model_module_version": "1.5.0",
          "state": {
            "_view_name": "ProgressView",
            "style": "IPY_MODEL_82ec8cb1695249dea714f3c03f6afe63",
            "_dom_classes": [],
            "description": "",
            "_model_name": "FloatProgressModel",
            "bar_style": "",
            "max": 240,
            "_view_module": "@jupyter-widgets/controls",
            "_model_module_version": "1.5.0",
            "value": 240,
            "_view_count": null,
            "_view_module_version": "1.5.0",
            "orientation": "horizontal",
            "min": 0,
            "description_tooltip": null,
            "_model_module": "@jupyter-widgets/controls",
            "layout": "IPY_MODEL_35ee671eecbd439692de38b054df36f7"
          }
        },
        "f814fa56bfd5451490e03a02b76cfd3f": {
          "model_module": "@jupyter-widgets/controls",
          "model_name": "HTMLModel",
          "model_module_version": "1.5.0",
          "state": {
            "_view_name": "HTMLView",
            "style": "IPY_MODEL_f3a65af45d1d46c6be0289ff353faa7b",
            "_dom_classes": [],
            "description": "",
            "_model_name": "HTMLModel",
            "placeholder": "​",
            "_view_module": "@jupyter-widgets/controls",
            "_model_module_version": "1.5.0",
            "value": " 240/240 [09:30&lt;00:00,  2.83s/pipeline]",
            "_view_count": null,
            "_view_module_version": "1.5.0",
            "description_tooltip": null,
            "_model_module": "@jupyter-widgets/controls",
            "layout": "IPY_MODEL_6579a560bfe24ca1bf88ba82251f7d71"
          }
        },
        "80aaeeeebd04497e8f78a10eea692a96": {
          "model_module": "@jupyter-widgets/controls",
          "model_name": "DescriptionStyleModel",
          "model_module_version": "1.5.0",
          "state": {
            "_view_name": "StyleView",
            "_model_name": "DescriptionStyleModel",
            "description_width": "",
            "_view_module": "@jupyter-widgets/base",
            "_model_module_version": "1.5.0",
            "_view_count": null,
            "_view_module_version": "1.2.0",
            "_model_module": "@jupyter-widgets/controls"
          }
        },
        "eff8a973d952404694b2896c86036b46": {
          "model_module": "@jupyter-widgets/base",
          "model_name": "LayoutModel",
          "model_module_version": "1.2.0",
          "state": {
            "_view_name": "LayoutView",
            "grid_template_rows": null,
            "right": null,
            "justify_content": null,
            "_view_module": "@jupyter-widgets/base",
            "overflow": null,
            "_model_module_version": "1.2.0",
            "_view_count": null,
            "flex_flow": null,
            "width": null,
            "min_width": null,
            "border": null,
            "align_items": null,
            "bottom": null,
            "_model_module": "@jupyter-widgets/base",
            "top": null,
            "grid_column": null,
            "overflow_y": null,
            "overflow_x": null,
            "grid_auto_flow": null,
            "grid_area": null,
            "grid_template_columns": null,
            "flex": null,
            "_model_name": "LayoutModel",
            "justify_items": null,
            "grid_row": null,
            "max_height": null,
            "align_content": null,
            "visibility": null,
            "align_self": null,
            "height": null,
            "min_height": null,
            "padding": null,
            "grid_auto_rows": null,
            "grid_gap": null,
            "max_width": null,
            "order": null,
            "_view_module_version": "1.2.0",
            "grid_template_areas": null,
            "object_position": null,
            "object_fit": null,
            "grid_auto_columns": null,
            "margin": null,
            "display": null,
            "left": null
          }
        },
        "82ec8cb1695249dea714f3c03f6afe63": {
          "model_module": "@jupyter-widgets/controls",
          "model_name": "ProgressStyleModel",
          "model_module_version": "1.5.0",
          "state": {
            "_view_name": "StyleView",
            "_model_name": "ProgressStyleModel",
            "description_width": "",
            "_view_module": "@jupyter-widgets/base",
            "_model_module_version": "1.5.0",
            "_view_count": null,
            "_view_module_version": "1.2.0",
            "bar_color": null,
            "_model_module": "@jupyter-widgets/controls"
          }
        },
        "35ee671eecbd439692de38b054df36f7": {
          "model_module": "@jupyter-widgets/base",
          "model_name": "LayoutModel",
          "model_module_version": "1.2.0",
          "state": {
            "_view_name": "LayoutView",
            "grid_template_rows": null,
            "right": null,
            "justify_content": null,
            "_view_module": "@jupyter-widgets/base",
            "overflow": null,
            "_model_module_version": "1.2.0",
            "_view_count": null,
            "flex_flow": null,
            "width": null,
            "min_width": null,
            "border": null,
            "align_items": null,
            "bottom": null,
            "_model_module": "@jupyter-widgets/base",
            "top": null,
            "grid_column": null,
            "overflow_y": null,
            "overflow_x": null,
            "grid_auto_flow": null,
            "grid_area": null,
            "grid_template_columns": null,
            "flex": null,
            "_model_name": "LayoutModel",
            "justify_items": null,
            "grid_row": null,
            "max_height": null,
            "align_content": null,
            "visibility": null,
            "align_self": null,
            "height": null,
            "min_height": null,
            "padding": null,
            "grid_auto_rows": null,
            "grid_gap": null,
            "max_width": null,
            "order": null,
            "_view_module_version": "1.2.0",
            "grid_template_areas": null,
            "object_position": null,
            "object_fit": null,
            "grid_auto_columns": null,
            "margin": null,
            "display": null,
            "left": null
          }
        },
        "f3a65af45d1d46c6be0289ff353faa7b": {
          "model_module": "@jupyter-widgets/controls",
          "model_name": "DescriptionStyleModel",
          "model_module_version": "1.5.0",
          "state": {
            "_view_name": "StyleView",
            "_model_name": "DescriptionStyleModel",
            "description_width": "",
            "_view_module": "@jupyter-widgets/base",
            "_model_module_version": "1.5.0",
            "_view_count": null,
            "_view_module_version": "1.2.0",
            "_model_module": "@jupyter-widgets/controls"
          }
        },
        "6579a560bfe24ca1bf88ba82251f7d71": {
          "model_module": "@jupyter-widgets/base",
          "model_name": "LayoutModel",
          "model_module_version": "1.2.0",
          "state": {
            "_view_name": "LayoutView",
            "grid_template_rows": null,
            "right": null,
            "justify_content": null,
            "_view_module": "@jupyter-widgets/base",
            "overflow": null,
            "_model_module_version": "1.2.0",
            "_view_count": null,
            "flex_flow": null,
            "width": null,
            "min_width": null,
            "border": null,
            "align_items": null,
            "bottom": null,
            "_model_module": "@jupyter-widgets/base",
            "top": null,
            "grid_column": null,
            "overflow_y": null,
            "overflow_x": null,
            "grid_auto_flow": null,
            "grid_area": null,
            "grid_template_columns": null,
            "flex": null,
            "_model_name": "LayoutModel",
            "justify_items": null,
            "grid_row": null,
            "max_height": null,
            "align_content": null,
            "visibility": null,
            "align_self": null,
            "height": null,
            "min_height": null,
            "padding": null,
            "grid_auto_rows": null,
            "grid_gap": null,
            "max_width": null,
            "order": null,
            "_view_module_version": "1.2.0",
            "grid_template_areas": null,
            "object_position": null,
            "object_fit": null,
            "grid_auto_columns": null,
            "margin": null,
            "display": null,
            "left": null
          }
        }
      }
    }
  },
  "nbformat": 4,
  "nbformat_minor": 0
}