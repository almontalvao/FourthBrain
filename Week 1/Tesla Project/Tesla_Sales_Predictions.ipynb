{
  "cells": [
    {
      "cell_type": "markdown",
      "metadata": {
        "id": "lNnTTMT9dnM4"
      },
      "source": [
        "# Today you are a Data Scientist at Tesla! \n",
        "\n",
        "You have been assigned a new project to look at car sales from Quarters 1-2 in California for 2019 to make predictions as to which cars will be sold more than the others in Q3 and Q4, to ensure enough inventory to meet demands!"
      ]
    },
    {
      "cell_type": "markdown",
      "metadata": {
        "id": "AQqh5DMaq9QW"
      },
      "source": [
        "### If running this notebook in Google Colab, run the following cell first to mount your Google Drive\n",
        "\n",
        "This mounts your Google Drive at the location `/content/drive` on the virtual machine running this notebook."
      ]
    },
    {
      "cell_type": "code",
      "execution_count": 292,
      "metadata": {
        "id": "Mqah54vN8CVB",
        "colab": {
          "base_uri": "https://localhost:8080/"
        },
        "outputId": "af5ef15b-8662-4146-b646-ff1708de6fe4"
      },
      "outputs": [
        {
          "output_type": "stream",
          "name": "stdout",
          "text": [
            "Drive already mounted at /content/drive; to attempt to forcibly remount, call drive.mount(\"/content/drive\", force_remount=True).\n"
          ]
        }
      ],
      "source": [
        "from google.colab import drive\n",
        "drive.mount('/content/drive')"
      ]
    },
    {
      "cell_type": "markdown",
      "metadata": {
        "id": "v-eh9IKUfTdQ"
      },
      "source": [
        "## Task 1: Load the data"
      ]
    },
    {
      "cell_type": "markdown",
      "metadata": {
        "id": "OI6NP0JBdnM5"
      },
      "source": [
        "### Import the modules\n",
        "\n",
        "1. We'll be using numpy, pandas and matplotlib, so we start by importing them."
      ]
    },
    {
      "cell_type": "code",
      "execution_count": 293,
      "metadata": {
        "id": "WdNx3CHEdnM5"
      },
      "outputs": [],
      "source": [
        "import numpy as np\n",
        "import pandas as pd\n",
        "import matplotlib.pyplot as plt"
      ]
    },
    {
      "cell_type": "markdown",
      "metadata": {
        "id": "dM4fGT-ldnM8"
      },
      "source": [
        "### Read in the data\n",
        "\n",
        "2. Use pandas to read in the CSV file containing the sales data for Quarters 1 and 2. The file is called `sales_Q12_2019.csv`.\n",
        "\n",
        "    Note: Update `filepath` below to be where you saved the `sales_Q12_2019.csv` file (either on your computer if you're running the notebook locally, or in Google Drive if you're using Google Colab)."
      ]
    },
    {
      "cell_type": "code",
      "execution_count": 294,
      "metadata": {
        "id": "-s13HIEBdtGd"
      },
      "outputs": [],
      "source": [
        "# my copy of the Tesla sales data is located in my drive at /Datasets/week_1/\n",
        "filepath = '/content/drive/My Drive/FourthBrain/Assignments/Week_1/sales_Q12_2019.csv'\n",
        "df_sales = pd.read_csv(filepath)"
      ]
    },
    {
      "cell_type": "markdown",
      "metadata": {
        "id": "ZmxFCjgfjPOU"
      },
      "source": [
        "3. Examine the data's shape and first few rows."
      ]
    },
    {
      "cell_type": "code",
      "execution_count": 295,
      "metadata": {
        "id": "HdP5mSNQePPU",
        "colab": {
          "base_uri": "https://localhost:8080/"
        },
        "outputId": "97e99e5c-4c39-4e57-95ec-4d797aa80cc6"
      },
      "outputs": [
        {
          "output_type": "stream",
          "name": "stdout",
          "text": [
            "Shape:  (5837, 76)\n",
            "   main_S60_1  main_S60_2  main_type_SP100D  ...   MSRP  dealer_state        date\n",
            "0           0           0                 0  ...  44610    California  2019-04-28\n",
            "1           0           0                 0  ...  41505    California  2019-03-14\n",
            "2           0           0                 0  ...  58890    California  2019-06-12\n",
            "3           0           0                 0  ...  51055    California  2019-03-04\n",
            "4           0           0                 0  ...  70830    California  2019-01-23\n",
            "\n",
            "[5 rows x 76 columns]\n"
          ]
        }
      ],
      "source": [
        "print('Shape: ', df_sales.shape)\n",
        "print(df_sales.head())"
      ]
    },
    {
      "cell_type": "markdown",
      "metadata": {
        "id": "k7JxudT6jPOV"
      },
      "source": [
        "### Clean the data\n",
        "\n",
        "4. Notice that our dataset only contains dealers in California, so we can remove the `dealer_state` column. We also will be removing the `date` column (while we could possibly extract useful information from the date, we won't be using it for this exercise). Use the `.drop()` method to remove the two columns ([docs](https://pandas.pydata.org/docs/reference/api/pandas.DataFrame.drop.html)).\n",
        "\n",
        "    Use the `.head()` method to verify that they were removed correctly. If the DataFrame wasn't modified make sure you included the attribute `inplace=True` in the `.drop()` method."
      ]
    },
    {
      "cell_type": "code",
      "execution_count": 296,
      "metadata": {
        "id": "i-DThsrHdnNA",
        "colab": {
          "base_uri": "https://localhost:8080/",
          "height": 270
        },
        "outputId": "ef159ab4-fdcc-4c92-9367-874e9bc3f21e"
      },
      "outputs": [
        {
          "output_type": "execute_result",
          "data": {
            "text/html": [
              "\n",
              "  <div id=\"df-c9d373e4-c6d5-421b-961f-e9ea1825623e\">\n",
              "    <div class=\"colab-df-container\">\n",
              "      <div>\n",
              "<style scoped>\n",
              "    .dataframe tbody tr th:only-of-type {\n",
              "        vertical-align: middle;\n",
              "    }\n",
              "\n",
              "    .dataframe tbody tr th {\n",
              "        vertical-align: top;\n",
              "    }\n",
              "\n",
              "    .dataframe thead th {\n",
              "        text-align: right;\n",
              "    }\n",
              "</style>\n",
              "<table border=\"1\" class=\"dataframe\">\n",
              "  <thead>\n",
              "    <tr style=\"text-align: right;\">\n",
              "      <th></th>\n",
              "      <th>main_S60_1</th>\n",
              "      <th>main_S60_2</th>\n",
              "      <th>main_type_SP100D</th>\n",
              "      <th>main_type_S60D_1</th>\n",
              "      <th>main_type_S60D_2</th>\n",
              "      <th>main_type_S70</th>\n",
              "      <th>main_type_S70D</th>\n",
              "      <th>main_type_S75</th>\n",
              "      <th>main_type_S75D</th>\n",
              "      <th>main_type_S80</th>\n",
              "      <th>main_type_S80D</th>\n",
              "      <th>main_type_S85</th>\n",
              "      <th>main_type_S85P</th>\n",
              "      <th>main_type_P85D</th>\n",
              "      <th>main_type_S90</th>\n",
              "      <th>main_type_S90D</th>\n",
              "      <th>main_type_S100D</th>\n",
              "      <th>engine_A</th>\n",
              "      <th>engine_B</th>\n",
              "      <th>engine_C</th>\n",
              "      <th>engine_D</th>\n",
              "      <th>engine_E</th>\n",
              "      <th>engine_F</th>\n",
              "      <th>engine_G</th>\n",
              "      <th>engine_H</th>\n",
              "      <th>engine_I</th>\n",
              "      <th>engine_J</th>\n",
              "      <th>engine_K</th>\n",
              "      <th>engine_L</th>\n",
              "      <th>engine_M</th>\n",
              "      <th>engine_N</th>\n",
              "      <th>engine_O</th>\n",
              "      <th>engine_P</th>\n",
              "      <th>engine_Q</th>\n",
              "      <th>engine_R</th>\n",
              "      <th>engine_S</th>\n",
              "      <th>engine_T</th>\n",
              "      <th>engine_U</th>\n",
              "      <th>engine_V</th>\n",
              "      <th>engine_W</th>\n",
              "      <th>engine_X</th>\n",
              "      <th>engine_Y</th>\n",
              "      <th>engine_Z</th>\n",
              "      <th>sales_1</th>\n",
              "      <th>sales_2</th>\n",
              "      <th>sales_3</th>\n",
              "      <th>sales_4</th>\n",
              "      <th>sales_5</th>\n",
              "      <th>sales_6</th>\n",
              "      <th>sales_7</th>\n",
              "      <th>sales_8</th>\n",
              "      <th>sales_9</th>\n",
              "      <th>sales_10</th>\n",
              "      <th>sales_11</th>\n",
              "      <th>sales_12</th>\n",
              "      <th>sales_13</th>\n",
              "      <th>sales_14</th>\n",
              "      <th>sales_15</th>\n",
              "      <th>sales_16</th>\n",
              "      <th>sales_17</th>\n",
              "      <th>sales_18</th>\n",
              "      <th>sales_19</th>\n",
              "      <th>sales_20</th>\n",
              "      <th>sales_21</th>\n",
              "      <th>sales_22</th>\n",
              "      <th>sales_23</th>\n",
              "      <th>sales_24</th>\n",
              "      <th>sales_25</th>\n",
              "      <th>sales_26</th>\n",
              "      <th>sales_27</th>\n",
              "      <th>sales_28</th>\n",
              "      <th>sales_29</th>\n",
              "      <th>sales_30</th>\n",
              "      <th>MSRP</th>\n",
              "    </tr>\n",
              "  </thead>\n",
              "  <tbody>\n",
              "    <tr>\n",
              "      <th>0</th>\n",
              "      <td>0</td>\n",
              "      <td>0</td>\n",
              "      <td>0</td>\n",
              "      <td>0</td>\n",
              "      <td>0</td>\n",
              "      <td>1</td>\n",
              "      <td>0</td>\n",
              "      <td>0</td>\n",
              "      <td>0</td>\n",
              "      <td>0</td>\n",
              "      <td>0</td>\n",
              "      <td>0</td>\n",
              "      <td>0</td>\n",
              "      <td>0</td>\n",
              "      <td>0</td>\n",
              "      <td>0</td>\n",
              "      <td>0</td>\n",
              "      <td>0</td>\n",
              "      <td>0</td>\n",
              "      <td>0</td>\n",
              "      <td>0</td>\n",
              "      <td>0</td>\n",
              "      <td>0</td>\n",
              "      <td>0</td>\n",
              "      <td>0</td>\n",
              "      <td>0</td>\n",
              "      <td>0</td>\n",
              "      <td>0</td>\n",
              "      <td>0</td>\n",
              "      <td>0</td>\n",
              "      <td>0</td>\n",
              "      <td>0</td>\n",
              "      <td>0</td>\n",
              "      <td>0</td>\n",
              "      <td>0</td>\n",
              "      <td>0</td>\n",
              "      <td>0</td>\n",
              "      <td>0</td>\n",
              "      <td>0</td>\n",
              "      <td>0</td>\n",
              "      <td>0</td>\n",
              "      <td>0</td>\n",
              "      <td>0</td>\n",
              "      <td>0</td>\n",
              "      <td>0</td>\n",
              "      <td>0</td>\n",
              "      <td>0</td>\n",
              "      <td>0</td>\n",
              "      <td>0</td>\n",
              "      <td>0</td>\n",
              "      <td>1</td>\n",
              "      <td>0</td>\n",
              "      <td>0</td>\n",
              "      <td>0</td>\n",
              "      <td>0</td>\n",
              "      <td>0</td>\n",
              "      <td>0</td>\n",
              "      <td>0</td>\n",
              "      <td>0</td>\n",
              "      <td>0</td>\n",
              "      <td>0</td>\n",
              "      <td>0</td>\n",
              "      <td>0</td>\n",
              "      <td>0</td>\n",
              "      <td>0</td>\n",
              "      <td>0</td>\n",
              "      <td>0</td>\n",
              "      <td>0</td>\n",
              "      <td>0</td>\n",
              "      <td>0</td>\n",
              "      <td>0</td>\n",
              "      <td>0</td>\n",
              "      <td>0</td>\n",
              "      <td>44610</td>\n",
              "    </tr>\n",
              "    <tr>\n",
              "      <th>1</th>\n",
              "      <td>0</td>\n",
              "      <td>0</td>\n",
              "      <td>0</td>\n",
              "      <td>0</td>\n",
              "      <td>0</td>\n",
              "      <td>0</td>\n",
              "      <td>0</td>\n",
              "      <td>0</td>\n",
              "      <td>0</td>\n",
              "      <td>0</td>\n",
              "      <td>0</td>\n",
              "      <td>0</td>\n",
              "      <td>0</td>\n",
              "      <td>0</td>\n",
              "      <td>0</td>\n",
              "      <td>0</td>\n",
              "      <td>1</td>\n",
              "      <td>1</td>\n",
              "      <td>0</td>\n",
              "      <td>0</td>\n",
              "      <td>0</td>\n",
              "      <td>0</td>\n",
              "      <td>0</td>\n",
              "      <td>0</td>\n",
              "      <td>0</td>\n",
              "      <td>0</td>\n",
              "      <td>0</td>\n",
              "      <td>0</td>\n",
              "      <td>0</td>\n",
              "      <td>0</td>\n",
              "      <td>0</td>\n",
              "      <td>0</td>\n",
              "      <td>0</td>\n",
              "      <td>0</td>\n",
              "      <td>0</td>\n",
              "      <td>0</td>\n",
              "      <td>0</td>\n",
              "      <td>0</td>\n",
              "      <td>0</td>\n",
              "      <td>0</td>\n",
              "      <td>0</td>\n",
              "      <td>0</td>\n",
              "      <td>0</td>\n",
              "      <td>0</td>\n",
              "      <td>0</td>\n",
              "      <td>0</td>\n",
              "      <td>0</td>\n",
              "      <td>0</td>\n",
              "      <td>0</td>\n",
              "      <td>0</td>\n",
              "      <td>1</td>\n",
              "      <td>0</td>\n",
              "      <td>0</td>\n",
              "      <td>0</td>\n",
              "      <td>0</td>\n",
              "      <td>0</td>\n",
              "      <td>0</td>\n",
              "      <td>0</td>\n",
              "      <td>0</td>\n",
              "      <td>0</td>\n",
              "      <td>0</td>\n",
              "      <td>0</td>\n",
              "      <td>0</td>\n",
              "      <td>0</td>\n",
              "      <td>0</td>\n",
              "      <td>0</td>\n",
              "      <td>0</td>\n",
              "      <td>0</td>\n",
              "      <td>0</td>\n",
              "      <td>0</td>\n",
              "      <td>0</td>\n",
              "      <td>0</td>\n",
              "      <td>0</td>\n",
              "      <td>41505</td>\n",
              "    </tr>\n",
              "    <tr>\n",
              "      <th>2</th>\n",
              "      <td>0</td>\n",
              "      <td>0</td>\n",
              "      <td>0</td>\n",
              "      <td>0</td>\n",
              "      <td>0</td>\n",
              "      <td>0</td>\n",
              "      <td>0</td>\n",
              "      <td>0</td>\n",
              "      <td>0</td>\n",
              "      <td>0</td>\n",
              "      <td>0</td>\n",
              "      <td>0</td>\n",
              "      <td>1</td>\n",
              "      <td>0</td>\n",
              "      <td>0</td>\n",
              "      <td>0</td>\n",
              "      <td>0</td>\n",
              "      <td>0</td>\n",
              "      <td>0</td>\n",
              "      <td>0</td>\n",
              "      <td>0</td>\n",
              "      <td>0</td>\n",
              "      <td>0</td>\n",
              "      <td>0</td>\n",
              "      <td>0</td>\n",
              "      <td>0</td>\n",
              "      <td>0</td>\n",
              "      <td>0</td>\n",
              "      <td>0</td>\n",
              "      <td>0</td>\n",
              "      <td>0</td>\n",
              "      <td>0</td>\n",
              "      <td>0</td>\n",
              "      <td>1</td>\n",
              "      <td>0</td>\n",
              "      <td>0</td>\n",
              "      <td>0</td>\n",
              "      <td>0</td>\n",
              "      <td>0</td>\n",
              "      <td>0</td>\n",
              "      <td>0</td>\n",
              "      <td>0</td>\n",
              "      <td>0</td>\n",
              "      <td>0</td>\n",
              "      <td>0</td>\n",
              "      <td>0</td>\n",
              "      <td>0</td>\n",
              "      <td>0</td>\n",
              "      <td>0</td>\n",
              "      <td>1</td>\n",
              "      <td>0</td>\n",
              "      <td>0</td>\n",
              "      <td>0</td>\n",
              "      <td>0</td>\n",
              "      <td>0</td>\n",
              "      <td>0</td>\n",
              "      <td>0</td>\n",
              "      <td>0</td>\n",
              "      <td>0</td>\n",
              "      <td>0</td>\n",
              "      <td>0</td>\n",
              "      <td>0</td>\n",
              "      <td>0</td>\n",
              "      <td>0</td>\n",
              "      <td>0</td>\n",
              "      <td>0</td>\n",
              "      <td>0</td>\n",
              "      <td>0</td>\n",
              "      <td>0</td>\n",
              "      <td>0</td>\n",
              "      <td>0</td>\n",
              "      <td>0</td>\n",
              "      <td>0</td>\n",
              "      <td>58890</td>\n",
              "    </tr>\n",
              "    <tr>\n",
              "      <th>3</th>\n",
              "      <td>0</td>\n",
              "      <td>0</td>\n",
              "      <td>0</td>\n",
              "      <td>0</td>\n",
              "      <td>0</td>\n",
              "      <td>0</td>\n",
              "      <td>0</td>\n",
              "      <td>0</td>\n",
              "      <td>0</td>\n",
              "      <td>0</td>\n",
              "      <td>0</td>\n",
              "      <td>0</td>\n",
              "      <td>1</td>\n",
              "      <td>0</td>\n",
              "      <td>0</td>\n",
              "      <td>0</td>\n",
              "      <td>0</td>\n",
              "      <td>0</td>\n",
              "      <td>0</td>\n",
              "      <td>0</td>\n",
              "      <td>0</td>\n",
              "      <td>0</td>\n",
              "      <td>0</td>\n",
              "      <td>0</td>\n",
              "      <td>0</td>\n",
              "      <td>0</td>\n",
              "      <td>0</td>\n",
              "      <td>0</td>\n",
              "      <td>0</td>\n",
              "      <td>0</td>\n",
              "      <td>0</td>\n",
              "      <td>0</td>\n",
              "      <td>0</td>\n",
              "      <td>0</td>\n",
              "      <td>0</td>\n",
              "      <td>0</td>\n",
              "      <td>0</td>\n",
              "      <td>0</td>\n",
              "      <td>0</td>\n",
              "      <td>0</td>\n",
              "      <td>0</td>\n",
              "      <td>0</td>\n",
              "      <td>0</td>\n",
              "      <td>0</td>\n",
              "      <td>0</td>\n",
              "      <td>0</td>\n",
              "      <td>0</td>\n",
              "      <td>0</td>\n",
              "      <td>0</td>\n",
              "      <td>0</td>\n",
              "      <td>1</td>\n",
              "      <td>0</td>\n",
              "      <td>0</td>\n",
              "      <td>0</td>\n",
              "      <td>0</td>\n",
              "      <td>0</td>\n",
              "      <td>0</td>\n",
              "      <td>0</td>\n",
              "      <td>0</td>\n",
              "      <td>0</td>\n",
              "      <td>0</td>\n",
              "      <td>0</td>\n",
              "      <td>0</td>\n",
              "      <td>0</td>\n",
              "      <td>0</td>\n",
              "      <td>0</td>\n",
              "      <td>0</td>\n",
              "      <td>0</td>\n",
              "      <td>0</td>\n",
              "      <td>0</td>\n",
              "      <td>0</td>\n",
              "      <td>0</td>\n",
              "      <td>0</td>\n",
              "      <td>51055</td>\n",
              "    </tr>\n",
              "    <tr>\n",
              "      <th>4</th>\n",
              "      <td>0</td>\n",
              "      <td>0</td>\n",
              "      <td>0</td>\n",
              "      <td>0</td>\n",
              "      <td>0</td>\n",
              "      <td>0</td>\n",
              "      <td>0</td>\n",
              "      <td>0</td>\n",
              "      <td>0</td>\n",
              "      <td>0</td>\n",
              "      <td>0</td>\n",
              "      <td>0</td>\n",
              "      <td>0</td>\n",
              "      <td>1</td>\n",
              "      <td>0</td>\n",
              "      <td>0</td>\n",
              "      <td>0</td>\n",
              "      <td>0</td>\n",
              "      <td>0</td>\n",
              "      <td>0</td>\n",
              "      <td>0</td>\n",
              "      <td>0</td>\n",
              "      <td>0</td>\n",
              "      <td>0</td>\n",
              "      <td>0</td>\n",
              "      <td>0</td>\n",
              "      <td>0</td>\n",
              "      <td>0</td>\n",
              "      <td>0</td>\n",
              "      <td>0</td>\n",
              "      <td>0</td>\n",
              "      <td>0</td>\n",
              "      <td>0</td>\n",
              "      <td>1</td>\n",
              "      <td>0</td>\n",
              "      <td>0</td>\n",
              "      <td>0</td>\n",
              "      <td>0</td>\n",
              "      <td>0</td>\n",
              "      <td>0</td>\n",
              "      <td>0</td>\n",
              "      <td>0</td>\n",
              "      <td>0</td>\n",
              "      <td>0</td>\n",
              "      <td>0</td>\n",
              "      <td>0</td>\n",
              "      <td>0</td>\n",
              "      <td>0</td>\n",
              "      <td>0</td>\n",
              "      <td>0</td>\n",
              "      <td>0</td>\n",
              "      <td>0</td>\n",
              "      <td>0</td>\n",
              "      <td>1</td>\n",
              "      <td>0</td>\n",
              "      <td>0</td>\n",
              "      <td>0</td>\n",
              "      <td>0</td>\n",
              "      <td>0</td>\n",
              "      <td>0</td>\n",
              "      <td>0</td>\n",
              "      <td>0</td>\n",
              "      <td>0</td>\n",
              "      <td>0</td>\n",
              "      <td>0</td>\n",
              "      <td>0</td>\n",
              "      <td>0</td>\n",
              "      <td>0</td>\n",
              "      <td>0</td>\n",
              "      <td>0</td>\n",
              "      <td>0</td>\n",
              "      <td>0</td>\n",
              "      <td>0</td>\n",
              "      <td>70830</td>\n",
              "    </tr>\n",
              "  </tbody>\n",
              "</table>\n",
              "</div>\n",
              "      <button class=\"colab-df-convert\" onclick=\"convertToInteractive('df-c9d373e4-c6d5-421b-961f-e9ea1825623e')\"\n",
              "              title=\"Convert this dataframe to an interactive table.\"\n",
              "              style=\"display:none;\">\n",
              "        \n",
              "  <svg xmlns=\"http://www.w3.org/2000/svg\" height=\"24px\"viewBox=\"0 0 24 24\"\n",
              "       width=\"24px\">\n",
              "    <path d=\"M0 0h24v24H0V0z\" fill=\"none\"/>\n",
              "    <path d=\"M18.56 5.44l.94 2.06.94-2.06 2.06-.94-2.06-.94-.94-2.06-.94 2.06-2.06.94zm-11 1L8.5 8.5l.94-2.06 2.06-.94-2.06-.94L8.5 2.5l-.94 2.06-2.06.94zm10 10l.94 2.06.94-2.06 2.06-.94-2.06-.94-.94-2.06-.94 2.06-2.06.94z\"/><path d=\"M17.41 7.96l-1.37-1.37c-.4-.4-.92-.59-1.43-.59-.52 0-1.04.2-1.43.59L10.3 9.45l-7.72 7.72c-.78.78-.78 2.05 0 2.83L4 21.41c.39.39.9.59 1.41.59.51 0 1.02-.2 1.41-.59l7.78-7.78 2.81-2.81c.8-.78.8-2.07 0-2.86zM5.41 20L4 18.59l7.72-7.72 1.47 1.35L5.41 20z\"/>\n",
              "  </svg>\n",
              "      </button>\n",
              "      \n",
              "  <style>\n",
              "    .colab-df-container {\n",
              "      display:flex;\n",
              "      flex-wrap:wrap;\n",
              "      gap: 12px;\n",
              "    }\n",
              "\n",
              "    .colab-df-convert {\n",
              "      background-color: #E8F0FE;\n",
              "      border: none;\n",
              "      border-radius: 50%;\n",
              "      cursor: pointer;\n",
              "      display: none;\n",
              "      fill: #1967D2;\n",
              "      height: 32px;\n",
              "      padding: 0 0 0 0;\n",
              "      width: 32px;\n",
              "    }\n",
              "\n",
              "    .colab-df-convert:hover {\n",
              "      background-color: #E2EBFA;\n",
              "      box-shadow: 0px 1px 2px rgba(60, 64, 67, 0.3), 0px 1px 3px 1px rgba(60, 64, 67, 0.15);\n",
              "      fill: #174EA6;\n",
              "    }\n",
              "\n",
              "    [theme=dark] .colab-df-convert {\n",
              "      background-color: #3B4455;\n",
              "      fill: #D2E3FC;\n",
              "    }\n",
              "\n",
              "    [theme=dark] .colab-df-convert:hover {\n",
              "      background-color: #434B5C;\n",
              "      box-shadow: 0px 1px 3px 1px rgba(0, 0, 0, 0.15);\n",
              "      filter: drop-shadow(0px 1px 2px rgba(0, 0, 0, 0.3));\n",
              "      fill: #FFFFFF;\n",
              "    }\n",
              "  </style>\n",
              "\n",
              "      <script>\n",
              "        const buttonEl =\n",
              "          document.querySelector('#df-c9d373e4-c6d5-421b-961f-e9ea1825623e button.colab-df-convert');\n",
              "        buttonEl.style.display =\n",
              "          google.colab.kernel.accessAllowed ? 'block' : 'none';\n",
              "\n",
              "        async function convertToInteractive(key) {\n",
              "          const element = document.querySelector('#df-c9d373e4-c6d5-421b-961f-e9ea1825623e');\n",
              "          const dataTable =\n",
              "            await google.colab.kernel.invokeFunction('convertToInteractive',\n",
              "                                                     [key], {});\n",
              "          if (!dataTable) return;\n",
              "\n",
              "          const docLinkHtml = 'Like what you see? Visit the ' +\n",
              "            '<a target=\"_blank\" href=https://colab.research.google.com/notebooks/data_table.ipynb>data table notebook</a>'\n",
              "            + ' to learn more about interactive tables.';\n",
              "          element.innerHTML = '';\n",
              "          dataTable['output_type'] = 'display_data';\n",
              "          await google.colab.output.renderOutput(dataTable, element);\n",
              "          const docLink = document.createElement('div');\n",
              "          docLink.innerHTML = docLinkHtml;\n",
              "          element.appendChild(docLink);\n",
              "        }\n",
              "      </script>\n",
              "    </div>\n",
              "  </div>\n",
              "  "
            ],
            "text/plain": [
              "   main_S60_1  main_S60_2  main_type_SP100D  ...  sales_29  sales_30   MSRP\n",
              "0           0           0                 0  ...         0         0  44610\n",
              "1           0           0                 0  ...         0         0  41505\n",
              "2           0           0                 0  ...         0         0  58890\n",
              "3           0           0                 0  ...         0         0  51055\n",
              "4           0           0                 0  ...         0         0  70830\n",
              "\n",
              "[5 rows x 74 columns]"
            ]
          },
          "metadata": {},
          "execution_count": 296
        }
      ],
      "source": [
        "df_sales = df_sales.drop(columns=['dealer_state', 'date'])\n",
        "df_sales.head()"
      ]
    },
    {
      "cell_type": "code",
      "source": [
        "df_sales.shape"
      ],
      "metadata": {
        "colab": {
          "base_uri": "https://localhost:8080/"
        },
        "id": "uAwMwn5_0_d2",
        "outputId": "95415ff8-7f3f-4a76-b8f1-fa8c55d452a2"
      },
      "execution_count": 297,
      "outputs": [
        {
          "output_type": "execute_result",
          "data": {
            "text/plain": [
              "(5837, 74)"
            ]
          },
          "metadata": {},
          "execution_count": 297
        }
      ]
    },
    {
      "cell_type": "markdown",
      "metadata": {
        "id": "qqdkmnCodnNC"
      },
      "source": [
        "### Read in the second dataset\n",
        "\n",
        "5. Follow the same syntax as above to read in the `sales_Q34_2019.csv` dataset. Note that this dataset doesn't have the `dealer_state` or `date` column, so we don't need to do the same cleanup.\n",
        "\n",
        "    After you've read in the data, use the `.head()` method to take a look at the first few rows."
      ]
    },
    {
      "cell_type": "code",
      "execution_count": 298,
      "metadata": {
        "id": "bJpTgHxAdnND",
        "colab": {
          "base_uri": "https://localhost:8080/",
          "height": 270
        },
        "outputId": "6283bf9b-5e84-4e4a-d89d-e63261503800"
      },
      "outputs": [
        {
          "output_type": "execute_result",
          "data": {
            "text/html": [
              "\n",
              "  <div id=\"df-fde34e6d-a3e3-4297-a2ca-2365523cada8\">\n",
              "    <div class=\"colab-df-container\">\n",
              "      <div>\n",
              "<style scoped>\n",
              "    .dataframe tbody tr th:only-of-type {\n",
              "        vertical-align: middle;\n",
              "    }\n",
              "\n",
              "    .dataframe tbody tr th {\n",
              "        vertical-align: top;\n",
              "    }\n",
              "\n",
              "    .dataframe thead th {\n",
              "        text-align: right;\n",
              "    }\n",
              "</style>\n",
              "<table border=\"1\" class=\"dataframe\">\n",
              "  <thead>\n",
              "    <tr style=\"text-align: right;\">\n",
              "      <th></th>\n",
              "      <th>main_S60_1</th>\n",
              "      <th>main_S60_2</th>\n",
              "      <th>main_type_SP100D</th>\n",
              "      <th>main_type_S60D_1</th>\n",
              "      <th>main_type_S60D_2</th>\n",
              "      <th>main_type_S70</th>\n",
              "      <th>main_type_S70D</th>\n",
              "      <th>main_type_S75</th>\n",
              "      <th>main_type_S75D</th>\n",
              "      <th>main_type_S80</th>\n",
              "      <th>main_type_S80D</th>\n",
              "      <th>main_type_S85</th>\n",
              "      <th>main_type_S85P</th>\n",
              "      <th>main_type_P85D</th>\n",
              "      <th>main_type_S90</th>\n",
              "      <th>main_type_S90D</th>\n",
              "      <th>main_type_S100D</th>\n",
              "      <th>engine_A</th>\n",
              "      <th>engine_B</th>\n",
              "      <th>engine_C</th>\n",
              "      <th>engine_D</th>\n",
              "      <th>engine_E</th>\n",
              "      <th>engine_F</th>\n",
              "      <th>engine_G</th>\n",
              "      <th>engine_H</th>\n",
              "      <th>engine_I</th>\n",
              "      <th>engine_J</th>\n",
              "      <th>engine_K</th>\n",
              "      <th>engine_L</th>\n",
              "      <th>engine_M</th>\n",
              "      <th>engine_N</th>\n",
              "      <th>engine_O</th>\n",
              "      <th>engine_P</th>\n",
              "      <th>engine_Q</th>\n",
              "      <th>engine_R</th>\n",
              "      <th>engine_S</th>\n",
              "      <th>engine_T</th>\n",
              "      <th>engine_U</th>\n",
              "      <th>engine_V</th>\n",
              "      <th>engine_W</th>\n",
              "      <th>engine_X</th>\n",
              "      <th>engine_Y</th>\n",
              "      <th>engine_Z</th>\n",
              "      <th>sales_1</th>\n",
              "      <th>sales_2</th>\n",
              "      <th>sales_3</th>\n",
              "      <th>sales_4</th>\n",
              "      <th>sales_5</th>\n",
              "      <th>sales_6</th>\n",
              "      <th>sales_7</th>\n",
              "      <th>sales_8</th>\n",
              "      <th>sales_9</th>\n",
              "      <th>sales_10</th>\n",
              "      <th>sales_11</th>\n",
              "      <th>sales_12</th>\n",
              "      <th>sales_13</th>\n",
              "      <th>sales_14</th>\n",
              "      <th>sales_15</th>\n",
              "      <th>sales_16</th>\n",
              "      <th>sales_17</th>\n",
              "      <th>sales_18</th>\n",
              "      <th>sales_19</th>\n",
              "      <th>sales_20</th>\n",
              "      <th>sales_21</th>\n",
              "      <th>sales_22</th>\n",
              "      <th>sales_23</th>\n",
              "      <th>sales_24</th>\n",
              "      <th>sales_25</th>\n",
              "      <th>sales_26</th>\n",
              "      <th>sales_27</th>\n",
              "      <th>sales_28</th>\n",
              "      <th>sales_29</th>\n",
              "      <th>sales_30</th>\n",
              "      <th>MSRP</th>\n",
              "    </tr>\n",
              "  </thead>\n",
              "  <tbody>\n",
              "    <tr>\n",
              "      <th>0</th>\n",
              "      <td>0</td>\n",
              "      <td>0</td>\n",
              "      <td>0</td>\n",
              "      <td>0</td>\n",
              "      <td>0</td>\n",
              "      <td>1</td>\n",
              "      <td>0</td>\n",
              "      <td>0</td>\n",
              "      <td>0</td>\n",
              "      <td>0</td>\n",
              "      <td>0</td>\n",
              "      <td>0</td>\n",
              "      <td>0</td>\n",
              "      <td>0</td>\n",
              "      <td>0</td>\n",
              "      <td>0</td>\n",
              "      <td>0</td>\n",
              "      <td>0</td>\n",
              "      <td>0</td>\n",
              "      <td>0</td>\n",
              "      <td>0</td>\n",
              "      <td>0</td>\n",
              "      <td>0</td>\n",
              "      <td>0</td>\n",
              "      <td>0</td>\n",
              "      <td>0</td>\n",
              "      <td>0</td>\n",
              "      <td>0</td>\n",
              "      <td>0</td>\n",
              "      <td>0</td>\n",
              "      <td>0</td>\n",
              "      <td>0</td>\n",
              "      <td>0</td>\n",
              "      <td>1</td>\n",
              "      <td>0</td>\n",
              "      <td>0</td>\n",
              "      <td>0</td>\n",
              "      <td>0</td>\n",
              "      <td>0</td>\n",
              "      <td>0</td>\n",
              "      <td>0</td>\n",
              "      <td>0</td>\n",
              "      <td>0</td>\n",
              "      <td>0</td>\n",
              "      <td>0</td>\n",
              "      <td>0</td>\n",
              "      <td>0</td>\n",
              "      <td>0</td>\n",
              "      <td>0</td>\n",
              "      <td>0</td>\n",
              "      <td>0</td>\n",
              "      <td>0</td>\n",
              "      <td>0</td>\n",
              "      <td>0</td>\n",
              "      <td>0</td>\n",
              "      <td>0</td>\n",
              "      <td>0</td>\n",
              "      <td>0</td>\n",
              "      <td>0</td>\n",
              "      <td>0</td>\n",
              "      <td>0</td>\n",
              "      <td>0</td>\n",
              "      <td>0</td>\n",
              "      <td>0</td>\n",
              "      <td>0</td>\n",
              "      <td>0</td>\n",
              "      <td>1</td>\n",
              "      <td>0</td>\n",
              "      <td>0</td>\n",
              "      <td>0</td>\n",
              "      <td>0</td>\n",
              "      <td>0</td>\n",
              "      <td>0</td>\n",
              "      <td>51355</td>\n",
              "    </tr>\n",
              "    <tr>\n",
              "      <th>1</th>\n",
              "      <td>0</td>\n",
              "      <td>0</td>\n",
              "      <td>0</td>\n",
              "      <td>0</td>\n",
              "      <td>0</td>\n",
              "      <td>0</td>\n",
              "      <td>0</td>\n",
              "      <td>0</td>\n",
              "      <td>0</td>\n",
              "      <td>0</td>\n",
              "      <td>0</td>\n",
              "      <td>0</td>\n",
              "      <td>0</td>\n",
              "      <td>1</td>\n",
              "      <td>0</td>\n",
              "      <td>0</td>\n",
              "      <td>0</td>\n",
              "      <td>0</td>\n",
              "      <td>0</td>\n",
              "      <td>0</td>\n",
              "      <td>0</td>\n",
              "      <td>0</td>\n",
              "      <td>0</td>\n",
              "      <td>0</td>\n",
              "      <td>0</td>\n",
              "      <td>0</td>\n",
              "      <td>0</td>\n",
              "      <td>0</td>\n",
              "      <td>0</td>\n",
              "      <td>0</td>\n",
              "      <td>0</td>\n",
              "      <td>0</td>\n",
              "      <td>0</td>\n",
              "      <td>1</td>\n",
              "      <td>0</td>\n",
              "      <td>0</td>\n",
              "      <td>0</td>\n",
              "      <td>0</td>\n",
              "      <td>0</td>\n",
              "      <td>0</td>\n",
              "      <td>0</td>\n",
              "      <td>0</td>\n",
              "      <td>0</td>\n",
              "      <td>0</td>\n",
              "      <td>0</td>\n",
              "      <td>0</td>\n",
              "      <td>0</td>\n",
              "      <td>0</td>\n",
              "      <td>0</td>\n",
              "      <td>0</td>\n",
              "      <td>0</td>\n",
              "      <td>0</td>\n",
              "      <td>0</td>\n",
              "      <td>1</td>\n",
              "      <td>0</td>\n",
              "      <td>0</td>\n",
              "      <td>0</td>\n",
              "      <td>0</td>\n",
              "      <td>0</td>\n",
              "      <td>0</td>\n",
              "      <td>0</td>\n",
              "      <td>0</td>\n",
              "      <td>0</td>\n",
              "      <td>0</td>\n",
              "      <td>0</td>\n",
              "      <td>0</td>\n",
              "      <td>0</td>\n",
              "      <td>0</td>\n",
              "      <td>0</td>\n",
              "      <td>0</td>\n",
              "      <td>0</td>\n",
              "      <td>0</td>\n",
              "      <td>0</td>\n",
              "      <td>71580</td>\n",
              "    </tr>\n",
              "    <tr>\n",
              "      <th>2</th>\n",
              "      <td>0</td>\n",
              "      <td>0</td>\n",
              "      <td>0</td>\n",
              "      <td>0</td>\n",
              "      <td>0</td>\n",
              "      <td>0</td>\n",
              "      <td>0</td>\n",
              "      <td>0</td>\n",
              "      <td>0</td>\n",
              "      <td>0</td>\n",
              "      <td>0</td>\n",
              "      <td>0</td>\n",
              "      <td>0</td>\n",
              "      <td>1</td>\n",
              "      <td>0</td>\n",
              "      <td>0</td>\n",
              "      <td>0</td>\n",
              "      <td>0</td>\n",
              "      <td>0</td>\n",
              "      <td>0</td>\n",
              "      <td>0</td>\n",
              "      <td>0</td>\n",
              "      <td>0</td>\n",
              "      <td>0</td>\n",
              "      <td>0</td>\n",
              "      <td>0</td>\n",
              "      <td>0</td>\n",
              "      <td>0</td>\n",
              "      <td>0</td>\n",
              "      <td>0</td>\n",
              "      <td>0</td>\n",
              "      <td>0</td>\n",
              "      <td>0</td>\n",
              "      <td>1</td>\n",
              "      <td>0</td>\n",
              "      <td>0</td>\n",
              "      <td>0</td>\n",
              "      <td>0</td>\n",
              "      <td>0</td>\n",
              "      <td>0</td>\n",
              "      <td>0</td>\n",
              "      <td>0</td>\n",
              "      <td>0</td>\n",
              "      <td>0</td>\n",
              "      <td>0</td>\n",
              "      <td>0</td>\n",
              "      <td>0</td>\n",
              "      <td>0</td>\n",
              "      <td>0</td>\n",
              "      <td>0</td>\n",
              "      <td>0</td>\n",
              "      <td>0</td>\n",
              "      <td>0</td>\n",
              "      <td>1</td>\n",
              "      <td>0</td>\n",
              "      <td>0</td>\n",
              "      <td>0</td>\n",
              "      <td>0</td>\n",
              "      <td>0</td>\n",
              "      <td>0</td>\n",
              "      <td>0</td>\n",
              "      <td>0</td>\n",
              "      <td>0</td>\n",
              "      <td>0</td>\n",
              "      <td>0</td>\n",
              "      <td>0</td>\n",
              "      <td>0</td>\n",
              "      <td>0</td>\n",
              "      <td>0</td>\n",
              "      <td>0</td>\n",
              "      <td>0</td>\n",
              "      <td>0</td>\n",
              "      <td>0</td>\n",
              "      <td>66790</td>\n",
              "    </tr>\n",
              "    <tr>\n",
              "      <th>3</th>\n",
              "      <td>0</td>\n",
              "      <td>0</td>\n",
              "      <td>0</td>\n",
              "      <td>0</td>\n",
              "      <td>0</td>\n",
              "      <td>0</td>\n",
              "      <td>0</td>\n",
              "      <td>0</td>\n",
              "      <td>0</td>\n",
              "      <td>0</td>\n",
              "      <td>0</td>\n",
              "      <td>0</td>\n",
              "      <td>0</td>\n",
              "      <td>1</td>\n",
              "      <td>0</td>\n",
              "      <td>0</td>\n",
              "      <td>0</td>\n",
              "      <td>0</td>\n",
              "      <td>0</td>\n",
              "      <td>0</td>\n",
              "      <td>0</td>\n",
              "      <td>0</td>\n",
              "      <td>0</td>\n",
              "      <td>0</td>\n",
              "      <td>0</td>\n",
              "      <td>0</td>\n",
              "      <td>0</td>\n",
              "      <td>0</td>\n",
              "      <td>0</td>\n",
              "      <td>0</td>\n",
              "      <td>0</td>\n",
              "      <td>0</td>\n",
              "      <td>0</td>\n",
              "      <td>1</td>\n",
              "      <td>0</td>\n",
              "      <td>0</td>\n",
              "      <td>0</td>\n",
              "      <td>0</td>\n",
              "      <td>0</td>\n",
              "      <td>0</td>\n",
              "      <td>0</td>\n",
              "      <td>0</td>\n",
              "      <td>0</td>\n",
              "      <td>0</td>\n",
              "      <td>0</td>\n",
              "      <td>0</td>\n",
              "      <td>0</td>\n",
              "      <td>0</td>\n",
              "      <td>0</td>\n",
              "      <td>0</td>\n",
              "      <td>0</td>\n",
              "      <td>0</td>\n",
              "      <td>0</td>\n",
              "      <td>1</td>\n",
              "      <td>0</td>\n",
              "      <td>0</td>\n",
              "      <td>0</td>\n",
              "      <td>0</td>\n",
              "      <td>0</td>\n",
              "      <td>0</td>\n",
              "      <td>0</td>\n",
              "      <td>0</td>\n",
              "      <td>0</td>\n",
              "      <td>0</td>\n",
              "      <td>0</td>\n",
              "      <td>0</td>\n",
              "      <td>0</td>\n",
              "      <td>0</td>\n",
              "      <td>0</td>\n",
              "      <td>0</td>\n",
              "      <td>0</td>\n",
              "      <td>0</td>\n",
              "      <td>0</td>\n",
              "      <td>72330</td>\n",
              "    </tr>\n",
              "    <tr>\n",
              "      <th>4</th>\n",
              "      <td>0</td>\n",
              "      <td>0</td>\n",
              "      <td>0</td>\n",
              "      <td>0</td>\n",
              "      <td>0</td>\n",
              "      <td>0</td>\n",
              "      <td>0</td>\n",
              "      <td>0</td>\n",
              "      <td>0</td>\n",
              "      <td>0</td>\n",
              "      <td>0</td>\n",
              "      <td>0</td>\n",
              "      <td>1</td>\n",
              "      <td>0</td>\n",
              "      <td>0</td>\n",
              "      <td>0</td>\n",
              "      <td>0</td>\n",
              "      <td>0</td>\n",
              "      <td>0</td>\n",
              "      <td>0</td>\n",
              "      <td>0</td>\n",
              "      <td>0</td>\n",
              "      <td>0</td>\n",
              "      <td>0</td>\n",
              "      <td>0</td>\n",
              "      <td>0</td>\n",
              "      <td>0</td>\n",
              "      <td>0</td>\n",
              "      <td>0</td>\n",
              "      <td>0</td>\n",
              "      <td>0</td>\n",
              "      <td>0</td>\n",
              "      <td>0</td>\n",
              "      <td>1</td>\n",
              "      <td>0</td>\n",
              "      <td>0</td>\n",
              "      <td>0</td>\n",
              "      <td>0</td>\n",
              "      <td>0</td>\n",
              "      <td>0</td>\n",
              "      <td>0</td>\n",
              "      <td>0</td>\n",
              "      <td>0</td>\n",
              "      <td>1</td>\n",
              "      <td>0</td>\n",
              "      <td>0</td>\n",
              "      <td>0</td>\n",
              "      <td>0</td>\n",
              "      <td>0</td>\n",
              "      <td>0</td>\n",
              "      <td>0</td>\n",
              "      <td>0</td>\n",
              "      <td>0</td>\n",
              "      <td>0</td>\n",
              "      <td>0</td>\n",
              "      <td>0</td>\n",
              "      <td>0</td>\n",
              "      <td>0</td>\n",
              "      <td>0</td>\n",
              "      <td>0</td>\n",
              "      <td>0</td>\n",
              "      <td>0</td>\n",
              "      <td>0</td>\n",
              "      <td>0</td>\n",
              "      <td>0</td>\n",
              "      <td>0</td>\n",
              "      <td>0</td>\n",
              "      <td>0</td>\n",
              "      <td>0</td>\n",
              "      <td>0</td>\n",
              "      <td>0</td>\n",
              "      <td>0</td>\n",
              "      <td>0</td>\n",
              "      <td>55370</td>\n",
              "    </tr>\n",
              "  </tbody>\n",
              "</table>\n",
              "</div>\n",
              "      <button class=\"colab-df-convert\" onclick=\"convertToInteractive('df-fde34e6d-a3e3-4297-a2ca-2365523cada8')\"\n",
              "              title=\"Convert this dataframe to an interactive table.\"\n",
              "              style=\"display:none;\">\n",
              "        \n",
              "  <svg xmlns=\"http://www.w3.org/2000/svg\" height=\"24px\"viewBox=\"0 0 24 24\"\n",
              "       width=\"24px\">\n",
              "    <path d=\"M0 0h24v24H0V0z\" fill=\"none\"/>\n",
              "    <path d=\"M18.56 5.44l.94 2.06.94-2.06 2.06-.94-2.06-.94-.94-2.06-.94 2.06-2.06.94zm-11 1L8.5 8.5l.94-2.06 2.06-.94-2.06-.94L8.5 2.5l-.94 2.06-2.06.94zm10 10l.94 2.06.94-2.06 2.06-.94-2.06-.94-.94-2.06-.94 2.06-2.06.94z\"/><path d=\"M17.41 7.96l-1.37-1.37c-.4-.4-.92-.59-1.43-.59-.52 0-1.04.2-1.43.59L10.3 9.45l-7.72 7.72c-.78.78-.78 2.05 0 2.83L4 21.41c.39.39.9.59 1.41.59.51 0 1.02-.2 1.41-.59l7.78-7.78 2.81-2.81c.8-.78.8-2.07 0-2.86zM5.41 20L4 18.59l7.72-7.72 1.47 1.35L5.41 20z\"/>\n",
              "  </svg>\n",
              "      </button>\n",
              "      \n",
              "  <style>\n",
              "    .colab-df-container {\n",
              "      display:flex;\n",
              "      flex-wrap:wrap;\n",
              "      gap: 12px;\n",
              "    }\n",
              "\n",
              "    .colab-df-convert {\n",
              "      background-color: #E8F0FE;\n",
              "      border: none;\n",
              "      border-radius: 50%;\n",
              "      cursor: pointer;\n",
              "      display: none;\n",
              "      fill: #1967D2;\n",
              "      height: 32px;\n",
              "      padding: 0 0 0 0;\n",
              "      width: 32px;\n",
              "    }\n",
              "\n",
              "    .colab-df-convert:hover {\n",
              "      background-color: #E2EBFA;\n",
              "      box-shadow: 0px 1px 2px rgba(60, 64, 67, 0.3), 0px 1px 3px 1px rgba(60, 64, 67, 0.15);\n",
              "      fill: #174EA6;\n",
              "    }\n",
              "\n",
              "    [theme=dark] .colab-df-convert {\n",
              "      background-color: #3B4455;\n",
              "      fill: #D2E3FC;\n",
              "    }\n",
              "\n",
              "    [theme=dark] .colab-df-convert:hover {\n",
              "      background-color: #434B5C;\n",
              "      box-shadow: 0px 1px 3px 1px rgba(0, 0, 0, 0.15);\n",
              "      filter: drop-shadow(0px 1px 2px rgba(0, 0, 0, 0.3));\n",
              "      fill: #FFFFFF;\n",
              "    }\n",
              "  </style>\n",
              "\n",
              "      <script>\n",
              "        const buttonEl =\n",
              "          document.querySelector('#df-fde34e6d-a3e3-4297-a2ca-2365523cada8 button.colab-df-convert');\n",
              "        buttonEl.style.display =\n",
              "          google.colab.kernel.accessAllowed ? 'block' : 'none';\n",
              "\n",
              "        async function convertToInteractive(key) {\n",
              "          const element = document.querySelector('#df-fde34e6d-a3e3-4297-a2ca-2365523cada8');\n",
              "          const dataTable =\n",
              "            await google.colab.kernel.invokeFunction('convertToInteractive',\n",
              "                                                     [key], {});\n",
              "          if (!dataTable) return;\n",
              "\n",
              "          const docLinkHtml = 'Like what you see? Visit the ' +\n",
              "            '<a target=\"_blank\" href=https://colab.research.google.com/notebooks/data_table.ipynb>data table notebook</a>'\n",
              "            + ' to learn more about interactive tables.';\n",
              "          element.innerHTML = '';\n",
              "          dataTable['output_type'] = 'display_data';\n",
              "          await google.colab.output.renderOutput(dataTable, element);\n",
              "          const docLink = document.createElement('div');\n",
              "          docLink.innerHTML = docLinkHtml;\n",
              "          element.appendChild(docLink);\n",
              "        }\n",
              "      </script>\n",
              "    </div>\n",
              "  </div>\n",
              "  "
            ],
            "text/plain": [
              "   main_S60_1  main_S60_2  main_type_SP100D  ...  sales_29  sales_30   MSRP\n",
              "0           0           0                 0  ...         0         0  51355\n",
              "1           0           0                 0  ...         0         0  71580\n",
              "2           0           0                 0  ...         0         0  66790\n",
              "3           0           0                 0  ...         0         0  72330\n",
              "4           0           0                 0  ...         0         0  55370\n",
              "\n",
              "[5 rows x 74 columns]"
            ]
          },
          "metadata": {},
          "execution_count": 298
        }
      ],
      "source": [
        "df_pred = pd.read_csv('/content/drive/My Drive/FourthBrain/Assignments/Week_1/sales_Q34_2019.csv')\n",
        "df_pred.head()"
      ]
    },
    {
      "cell_type": "code",
      "source": [
        "df_pred.shape"
      ],
      "metadata": {
        "colab": {
          "base_uri": "https://localhost:8080/"
        },
        "id": "bpad3KW977jA",
        "outputId": "f5cd5898-a622-4ba1-b2ee-c078f330bde7"
      },
      "execution_count": 299,
      "outputs": [
        {
          "output_type": "execute_result",
          "data": {
            "text/plain": [
              "(6666, 74)"
            ]
          },
          "metadata": {},
          "execution_count": 299
        }
      ]
    },
    {
      "cell_type": "markdown",
      "metadata": {
        "id": "kcmsU-T1dnNF"
      },
      "source": [
        "## Task 2: Set up a regression problem \n",
        "\n",
        "We will be building a model to predict the number of each car type sold.\n",
        "\n",
        "If we look at the columns in the dataset, we'll notice that the first 73 tell us which type of car it is. For example, the row at index 1 has a 1 in these three columns: `main_type_S100D`, `engine_A`, and `sales_8`. Any other rows that have 1's in these same columns refers to the same car. You'll see index 18 is the same.\n",
        "\n",
        "For each of these unique combinations, we will be counting up the number of cars sold. Note that the final column (MSRP) will not be used.\n",
        "\n",
        "We will count up the number of rows for each unique combination of values for the first 73 columns.\n",
        "\n",
        "Since we will be doing this same calculation for both `df_sales` (the training set) and `df_pred` (the test set), we will write a function to avoid duplicating code.\n",
        "\n",
        "1. Write the function `get_features_and_targets` that takes in a quarterly sales DataFrame and produces matrices $\\mathbf{X}$ and $\\mathbf{Y}$, where $\\mathbf{X}$ has a row for each unique car ID and the corresponding row in $\\mathbf{Y}$ has the number of those cars sold in the quarter.\n",
        "\n",
        "    Note: For the `df_sales` dataset, there are 66 types of cars, so $\\mathbf{X}$ should have 66 rows and 73 columns."
      ]
    },
    {
      "cell_type": "code",
      "execution_count": 300,
      "metadata": {
        "id": "Mo5c3VhBkB33"
      },
      "outputs": [],
      "source": [
        "def get_features_and_targets(df):\n",
        "  df = df.drop([\"MSRP\"], axis = 1).value_counts().reset_index()\n",
        "  X = df.iloc[:, :-1].values\n",
        "  y = df.iloc[:, -1].values\n",
        "  return X,y"
      ]
    },
    {
      "cell_type": "markdown",
      "metadata": {
        "id": "toTX3W89fX2P"
      },
      "source": [
        "2. Use the `get_features_and_targets()` function to create $\\mathbf{X}$, $\\mathbf{Y}$ pairs for both the training data (`df_sales`) and the test data (`df_pred`)."
      ]
    },
    {
      "cell_type": "code",
      "execution_count": 301,
      "metadata": {
        "id": "Rf6Vj0ujhJ77"
      },
      "outputs": [],
      "source": [
        "X_train, y_train = get_features_and_targets(df_sales)\n",
        "X_test, y_test = get_features_and_targets(df_pred)"
      ]
    },
    {
      "cell_type": "markdown",
      "metadata": {
        "id": "2u_a5M1BjPOX"
      },
      "source": [
        "3. Verify that the shapes of the four numpy arrays you just created are correct.\n",
        "\n",
        "    The training set should have 66 datapoints and the test set should have 71 rows. Verify this by looking at the number of rows in $\\mathbf{X}$ and number of values in $\\mathbf{Y}$.\n",
        "    \n",
        "    Both $\\mathbf{X}$'s should have 73 columns."
      ]
    },
    {
      "cell_type": "code",
      "execution_count": 302,
      "metadata": {
        "id": "k2quSUp4jPOX",
        "colab": {
          "base_uri": "https://localhost:8080/"
        },
        "outputId": "d158894a-01ff-48a8-e632-40e72848484b"
      },
      "outputs": [
        {
          "output_type": "stream",
          "name": "stdout",
          "text": [
            "X_train shape:  (66, 73)\n",
            "X_test shape:  (71, 73)\n",
            "y_train shape:  (66,)\n",
            "y_test shape:  (71,)\n"
          ]
        }
      ],
      "source": [
        "print('X_train shape: ', X_train.shape)\n",
        "print('X_test shape: ', X_test.shape)\n",
        "print('y_train shape: ', y_train.shape)\n",
        "print('y_test shape: ', y_test.shape)"
      ]
    },
    {
      "cell_type": "markdown",
      "metadata": {
        "id": "8d7BSjsQdnNV"
      },
      "source": [
        "Note that the Q12 and Q34 datasets contain differing numbers of distinct cars. Thus some new models were introduced by Q3, but were any discontinued by the beginning of Q3? Let's find out.\n",
        "\n",
        "4. Print the total number of types of cars (e.g. types of cars that were sold in either Q12, Q34, or both). In mathematical notation, if the set of cars sold in Q12 is $\\mathcal{A}$ and the set of cars sold in Q34 is $\\mathcal{B}$, we're asking for the size of the *union* of these two sets $|\\mathcal{A} \\cup \\mathcal{B}|$.\n",
        "\n",
        "    Note: The notation $|\\cdots|$ indicates measurement of the size of a set (the number of distinct items). (Mathematicians usually refer to it as the *cardinality*.)\n",
        "    \n",
        "    Hint: Create a single DataFrame with all the data and use the `get_features_and_targets()` function."
      ]
    },
    {
      "cell_type": "code",
      "execution_count": 303,
      "metadata": {
        "id": "KOEhFSxin_te",
        "colab": {
          "base_uri": "https://localhost:8080/"
        },
        "outputId": "5a95a543-63d9-4ffa-df22-a295991b9013"
      },
      "outputs": [
        {
          "output_type": "stream",
          "name": "stdout",
          "text": [
            "Total number of types of cars is:  80\n"
          ]
        }
      ],
      "source": [
        "tempdf = pd.concat([df_sales, df_pred], join='inner')\n",
        "Xtemp, ytemp = get_features_and_targets(tempdf)\n",
        "print(\"Total number of types of cars is: \", ytemp.shape[0])"
      ]
    },
    {
      "cell_type": "markdown",
      "metadata": {
        "id": "8KgAprxHqcv2"
      },
      "source": [
        "5. A handy little fact from set theory is that $|\\mathcal{A} \\cup \\mathcal{B}| = |\\mathcal{A}| + |\\mathcal{B}| - |\\mathcal{A} \\cap \\mathcal{B}|$, where $\\cap$ is the *intersection* of $\\mathcal{A}$ and $\\mathcal{B}$, things that are in **both** $\\mathcal{A}$ and $\\mathcal{B}$. Use this fact, and what you've computed above, to print the number of models that were sold in both Q12 and Q34."
      ]
    },
    {
      "cell_type": "code",
      "execution_count": 304,
      "metadata": {
        "id": "56A3357NswMG",
        "colab": {
          "base_uri": "https://localhost:8080/"
        },
        "outputId": "23818d71-5ade-4f25-9dc8-b391e1a4e0a6"
      },
      "outputs": [
        {
          "output_type": "stream",
          "name": "stdout",
          "text": [
            "Number of models sold in both Q12 and Q34:  57\n"
          ]
        }
      ],
      "source": [
        "bothQuarters = y_train.shape[0] + y_test.shape[0] - ytemp.shape[0]\n",
        "print(\"Number of models sold in both Q12 and Q34: \", bothQuarters)"
      ]
    },
    {
      "cell_type": "markdown",
      "metadata": {
        "id": "clPi1NVCunoy"
      },
      "source": [
        "6. How many cars that were sold in Q12 were not sold in Q34?"
      ]
    },
    {
      "cell_type": "code",
      "execution_count": 305,
      "metadata": {
        "id": "VmMdZNuzu5Z-",
        "colab": {
          "base_uri": "https://localhost:8080/"
        },
        "outputId": "7e557d7f-9a7b-4afd-e1b5-9385f6dd7544"
      },
      "outputs": [
        {
          "output_type": "execute_result",
          "data": {
            "text/plain": [
              "9"
            ]
          },
          "metadata": {},
          "execution_count": 305
        }
      ],
      "source": [
        "Q12only = y_train.shape[0] - bothQuarters\n",
        "Q12only"
      ]
    },
    {
      "cell_type": "markdown",
      "metadata": {
        "id": "04zz5QOkvtij"
      },
      "source": [
        "7. How many cars were sold in Q34 but not in Q12?"
      ]
    },
    {
      "cell_type": "code",
      "execution_count": 306,
      "metadata": {
        "id": "stRzG8THvyeA",
        "colab": {
          "base_uri": "https://localhost:8080/"
        },
        "outputId": "114822f0-d58e-4704-f256-e3bb43d5ed0b"
      },
      "outputs": [
        {
          "output_type": "execute_result",
          "data": {
            "text/plain": [
              "14"
            ]
          },
          "metadata": {},
          "execution_count": 306
        }
      ],
      "source": [
        "Q34only = y_test.shape[0] - bothQuarters\n",
        "Q34only"
      ]
    },
    {
      "cell_type": "markdown",
      "metadata": {
        "id": "3qn6SNBNdnNb"
      },
      "source": [
        "## Task 3: Visualize the training and test targets"
      ]
    },
    {
      "cell_type": "markdown",
      "metadata": {
        "id": "OzsF0PfoyoyS"
      },
      "source": [
        "This is open-ended and we're not expecting a particular visualization, just show us what comes comes to your mind!"
      ]
    },
    {
      "cell_type": "code",
      "execution_count": 307,
      "metadata": {
        "id": "oFVGTPYV2jrF",
        "colab": {
          "base_uri": "https://localhost:8080/",
          "height": 442
        },
        "outputId": "e150fe5f-087f-416c-d67f-90349832df66"
      },
      "outputs": [
        {
          "output_type": "display_data",
          "data": {
            "image/png": "[encoded data removed]",
            "text/plain": [
              "<Figure size 864x504 with 2 Axes>"
            ]
          },
          "metadata": {
            "needs_background": "light"
          }
        }
      ],
      "source": [
        "import seaborn as sns\n",
        "\n",
        "fig, (ax1, ax2) = plt.subplots(1,2, figsize=(12,7))\n",
        "sns.histplot(x=y_train, ax=ax1)\n",
        "sns.histplot(x=y_test,ax=ax2)\n",
        "ax1.set(xlabel='Training Data')\n",
        "ax2.set(xlabel='Test Data')\n",
        "plt.show()"
      ]
    },
    {
      "cell_type": "markdown",
      "metadata": {
        "id": "9g-2fwgydnNh"
      },
      "source": [
        "## Task 4: Fit a linear model with gradient descent"
      ]
    },
    {
      "cell_type": "markdown",
      "metadata": {
        "id": "oriL0PcVOlw-"
      },
      "source": [
        "1. Set hyperparameters for learning rate and maximum number of iterations through the training data."
      ]
    },
    {
      "cell_type": "code",
      "execution_count": 308,
      "metadata": {
        "id": "QKIv3936OfVk"
      },
      "outputs": [],
      "source": [
        "# these are good starting values, though you can play around with them\n",
        "s_learning_rate = 0.001\n",
        "s_max_iteration = 1000"
      ]
    },
    {
      "cell_type": "markdown",
      "metadata": {
        "id": "Lx-wS125dnNk"
      },
      "source": [
        "### Hypothesis Function\n",
        "\n",
        "2. Define your hypothesis function $h(\\cdot)$ (which you use to make predictions $\\hat{\\mathbf{Y}}$ as the matrix product of your feature data $\\mathbf{X}$ and parameters $\\boldsymbol{\\theta}$. $\\boldsymbol{\\theta}$, which you'll initialize in the training loop (below) is a column vector with a value for each feature in the training data, plus one for bias.\n",
        "\n",
        "    Note: We'll deal with adding the column of 1's to $\\mathbf{X}$ below in the gradient descent function, so don't worry about it now."
      ]
    },
    {
      "cell_type": "code",
      "execution_count": 309,
      "metadata": {
        "id": "SI8oTUQsdnNk"
      },
      "outputs": [],
      "source": [
        "def h(theta, X):\n",
        "    return np.dot(X, theta)"
      ]
    },
    {
      "cell_type": "markdown",
      "metadata": {
        "id": "7LW5F5uhdnNm"
      },
      "source": [
        "3. Define your loss function as the MSE (mean squared error) between your actual and predicted $\\mathbf{Y}$ values. \n",
        "\n",
        "    Recall that the predicted $\\mathbf{Y}$ values, $\\hat{\\mathbf{Y}}$, are a function of $\\boldsymbol{\\theta}$ and $\\mathbf{X}$.\n"
      ]
    },
    {
      "cell_type": "code",
      "execution_count": 310,
      "metadata": {
        "id": "KzRpZec4dnNm"
      },
      "outputs": [],
      "source": [
        "def loss(theta, X, y):\n",
        "    return np.sum(np.square(y - h(theta, X))) / len(X)"
      ]
    },
    {
      "cell_type": "markdown",
      "metadata": {
        "id": "PCLgRXivdnNp"
      },
      "source": [
        "### Gradient of Hypothesis Function\n",
        "\n",
        "One can verify through straightforward (if somewhat tedious) multivariable calculus that the gradient of the loss function $J$ with respect to the parameters $\\theta$ is \n",
        "\n",
        "$$ \\frac{\\partial J}{\\partial \\boldsymbol{\\theta}} = - \\frac{1}{m} X^T \\cdot (Y - \\hat{Y})$$\n",
        "\n",
        "Where $m$ is the number of data samples, the number of rows in $\\mathbf{X}$ and $\\mathbf{Y}$.\n",
        "\n",
        "Note that the $\\mathbf{X}$ here is the one that has been augmented with a bias column. \n",
        "\n",
        "4. Write the `gradient()` function to compute this gradient."
      ]
    },
    {
      "cell_type": "code",
      "execution_count": 311,
      "metadata": {
        "id": "3zYnvBa1dnNp"
      },
      "outputs": [],
      "source": [
        "def gradient(theta, X, y):\n",
        "    return -np.dot(X.T, y - h(theta, X)) / len(X)"
      ]
    },
    {
      "cell_type": "markdown",
      "metadata": {
        "id": "fo-NxmSLdnNr"
      },
      "source": [
        "### Gradient Descent\n",
        "\n",
        "5. Complete the `stochastic_gradient_descent()` function to train your linear regression model with gradient descent, i.e. calculate $\\frac{\\partial J}{\\partial \\theta}$ and update $\\theta$. Recall that the general gradient descent update formula is $\\theta := \\theta - \\alpha \\frac{\\partial J}{\\partial \\theta}$, with $\\alpha$ the stepsize. We've provided the skeleton of a stochastic gradient descent function, but you're welcome to experiment with batch and/or minibatch gradient descent. Also recall that the aforementioned gradient descent methods differ in how frequently they calculate $\\frac{\\partial J}{\\partial \\theta}$ and update $\\theta$. Notice in the first step we initialize $\\boldsymbol{\\theta}$ to all zeros and we temporarily prepend a column of $1$'s to the features, which corresponds to the bias parameter.\n",
        "\n",
        "    Hint: Be mindful of the shapes of the arrays that you pass into the `gradient()` function. It should be two 2D arrays."
      ]
    },
    {
      "cell_type": "code",
      "execution_count": 312,
      "metadata": {
        "id": "g6hbmDgkdnNs"
      },
      "outputs": [],
      "source": [
        "def stochastic_gradient_descent(X, y, learning_rate, max_iteration, print_interval):\n",
        "    theta = np.zeros((X.shape[1] + 1, 1))\n",
        "    X_with_ones = np.hstack([np.ones([X.shape[0], 1]), X])  # prepend a column of 1's\n",
        "    cost = np.zeros(max_iteration)  # initialize cost as array of zeros\n",
        "    for i in range(max_iteration):\n",
        "        for j in range(X.shape[0]):\n",
        "            d_theta = gradient (theta, X_with_ones[j : j + 1, :], y[j : j + 1])\n",
        "            theta = theta - learning_rate * d_theta\n",
        "        cost[i] = loss(theta, X_with_ones, y) # Update the cost array for the current iteration\n",
        "    if i % print_interval == 0 :\n",
        "        print('iteration : ', i, ' loss : ', loss(theta, X_with_ones, y))\n",
        "    return theta, cost"
      ]
    },
    {
      "cell_type": "markdown",
      "metadata": {
        "id": "a5UzSHmxjPOa"
      },
      "source": [
        "6. Now we can run the `stochastic_gradient_descent()` function to find the optimal theta."
      ]
    },
    {
      "cell_type": "code",
      "execution_count": 313,
      "metadata": {
        "id": "O084UJ8UdnNt"
      },
      "outputs": [],
      "source": [
        "s_theta, s_cost = stochastic_gradient_descent(X_train, y_train, s_learning_rate, s_max_iteration, 100)"
      ]
    },
    {
      "cell_type": "code",
      "execution_count": 314,
      "metadata": {
        "id": "aoRR-pP8P2C2",
        "colab": {
          "base_uri": "https://localhost:8080/",
          "height": 337
        },
        "outputId": "0621e0af-e927-4716-b66f-135c84449138"
      },
      "outputs": [
        {
          "output_type": "stream",
          "name": "stderr",
          "text": [
            "/usr/local/lib/python3.7/dist-packages/ipykernel_launcher.py:1: UserWarning: In Matplotlib 3.3 individual lines on a stem plot will be added as a LineCollection instead of individual lines. This significantly improves the performance of a stem plot. To remove this warning and switch to the new behaviour, set the \"use_line_collection\" keyword argument to True.\n",
            "  \"\"\"Entry point for launching an IPython kernel.\n"
          ]
        },
        {
          "output_type": "execute_result",
          "data": {
            "text/plain": [
              "<StemContainer object of 3 artists>"
            ]
          },
          "metadata": {},
          "execution_count": 314
        },
        {
          "output_type": "display_data",
          "data": {
            "image/png": "[encoded data removed]",
            "text/plain": [
              "<Figure size 432x288 with 1 Axes>"
            ]
          },
          "metadata": {
            "needs_background": "light"
          }
        }
      ],
      "source": [
        "plt.stem(np.squeeze(s_theta))"
      ]
    },
    {
      "cell_type": "markdown",
      "metadata": {
        "id": "B6D2kqejdnNv"
      },
      "source": [
        "### Generate Predictions from Test Data\n",
        "\n",
        "7. Use `s_theta` to make predictions on the test set (`X_test`).\n",
        "\n",
        "    Hint: Make sure to prepend the column of 1's onto `X_test` (just like it's done in the `stochastic_gradient_descent()` function)."
      ]
    },
    {
      "cell_type": "code",
      "execution_count": 315,
      "metadata": {
        "id": "m-u3iTbNdnNw"
      },
      "outputs": [],
      "source": [
        "y_pred_GD = h(s_theta, np.hstack([np.ones([len(X_test), 1]), X_test]))\n",
        "\n",
        "# Since our target is non-negative, we set any negative predictions to 0.\n",
        "y_pred_GD[y_pred_GD < 0] = 0"
      ]
    },
    {
      "cell_type": "markdown",
      "metadata": {
        "id": "rceOxMsTjPOa"
      },
      "source": [
        "8. Calculate the MSE and R^2 score."
      ]
    },
    {
      "cell_type": "code",
      "execution_count": 316,
      "metadata": {
        "id": "Ljk24gJ4dnNy",
        "colab": {
          "base_uri": "https://localhost:8080/"
        },
        "outputId": "0eecd3cb-3596-4b6b-ce62-9a01eb16b574"
      },
      "outputs": [
        {
          "output_type": "stream",
          "name": "stdout",
          "text": [
            "GD Mean Squared Error:  5702.208265828383\n",
            "GD R^2 Score:  0.6300187885391408\n"
          ]
        }
      ],
      "source": [
        "from sklearn.metrics import mean_squared_error as MSE\n",
        "from sklearn.metrics import r2_score\n",
        "\n",
        "print('GD Mean Squared Error: ', MSE(y_test, y_pred_GD))\n",
        "print('GD R^2 Score: ', r2_score(y_test, y_pred_GD))"
      ]
    },
    {
      "cell_type": "markdown",
      "metadata": {
        "id": "2ImYOho6dnNy"
      },
      "source": [
        "### Visualize the predicted and actual test labels\n",
        "\n",
        "9. Make a plot showing both the true values (`y_test`) and the predicted values (`y_pred_GD`)."
      ]
    },
    {
      "cell_type": "code",
      "execution_count": 317,
      "metadata": {
        "id": "o3t83fxcr6dd",
        "colab": {
          "base_uri": "https://localhost:8080/",
          "height": 404
        },
        "outputId": "402e40d2-a57d-41de-afc8-975e2d7697d3"
      },
      "outputs": [
        {
          "output_type": "display_data",
          "data": {
            "image/png": "[encoded data removed]",
            "text/plain": [
              "<Figure size 720x432 with 1 Axes>"
            ]
          },
          "metadata": {
            "needs_background": "light"
          }
        }
      ],
      "source": [
        " plt.figure(figsize=(10,6)) \n",
        " plt.scatter(y_test, y_pred_GD)\n",
        " plt.xlabel('Actual Values ')\n",
        " plt.ylabel('Predicted Values')\n",
        " plt.title('Gradient Descent')\n",
        " plt.show();"
      ]
    },
    {
      "cell_type": "markdown",
      "metadata": {
        "id": "QNFkAA7gdnN0"
      },
      "source": [
        "## Task 5: Normal Equations\n",
        "\n",
        "Gradient Descent is an iterative method for converging on the solution, though we can also compute the solution directly using the normal equation. Gradient Descent is generally preferred because it can converge quickly even with a large dataset, but since our training dataset isn't very large, we can use the normal equation.\n",
        "\n",
        "$$\\boldsymbol{\\theta} = (X^T \\cdot X)^{-1} \\cdot X^T \\cdot Y$$ \n",
        "$$\\hat{Y} = X \\cdot \\boldsymbol{\\theta}$$\n",
        "\n",
        "We'll compare our predictions with the ones we obtained using gradient descent.\n",
        "\n",
        "Remember we still have a bias term, so $\\boldsymbol{\\theta}$ is of size 74x1 (73 for the unique ID features, 1 for the bias).\n",
        "\n",
        "1. Complete the `normal_equations_solution()` function below.\n",
        "\n",
        "    Hint: numpy's `linalg.pinv` efficiently computes the matrix $(X^T \\cdot X)^{-1} \\cdot X^T$."
      ]
    },
    {
      "cell_type": "code",
      "execution_count": 318,
      "metadata": {
        "id": "ez7XC2qQdnN1"
      },
      "outputs": [],
      "source": [
        "def normal_equations_solution(X, y):\n",
        "    X_with_ones = np.hstack([np.ones([X.shape[0], 1]), X])\n",
        "    return np.dot(np.linalg.pinv(X_with_ones), y)"
      ]
    },
    {
      "cell_type": "markdown",
      "metadata": {
        "id": "Gde-qJbljPOb"
      },
      "source": [
        "2. Use the `normal_equations_solution()` function to compute `y_pred_NE`.\n",
        "\n",
        "    The code should be the same as above, just use `n_theta` instead of `s_theta`."
      ]
    },
    {
      "cell_type": "code",
      "execution_count": 319,
      "metadata": {
        "id": "cAhtVznMZGtB"
      },
      "outputs": [],
      "source": [
        "n_theta = normal_equations_solution(X_train, y_train)\n",
        "y_pred_NE = h(n_theta, np.hstack([np.ones([len(X_test), 1]), X_test]))\n",
        "\n",
        "# Set any negative predictions to 0\n",
        "y_pred_NE[y_pred_NE < 0] = 0"
      ]
    },
    {
      "cell_type": "markdown",
      "metadata": {
        "id": "dwy8Nvp5jPOb"
      },
      "source": [
        "3. Calculate the MSE and R^2 score."
      ]
    },
    {
      "cell_type": "code",
      "execution_count": 320,
      "metadata": {
        "id": "3VuW8B1WjPOb",
        "colab": {
          "base_uri": "https://localhost:8080/"
        },
        "outputId": "07d69c85-ff91-4d67-a679-6fda2605ae8b"
      },
      "outputs": [
        {
          "output_type": "stream",
          "name": "stdout",
          "text": [
            "NE Mean Squared Error:  6199.3036644195145\n",
            "NE R^2 Score:  0.5977653265103127\n"
          ]
        }
      ],
      "source": [
        "from sklearn.metrics import mean_squared_error\n",
        "from sklearn.metrics import r2_score\n",
        "\n",
        "print('NE Mean Squared Error: ', mean_squared_error(y_test, y_pred_NE))\n",
        "print('NE R^2 Score: ', r2_score(y_test, y_pred_NE))"
      ]
    },
    {
      "cell_type": "markdown",
      "metadata": {
        "id": "hLfxrcJyjPOb"
      },
      "source": [
        "4. Make a plot showing both the true values (`y_test`) and the predicted values (`y_pred_NE`)."
      ]
    },
    {
      "cell_type": "code",
      "execution_count": 321,
      "metadata": {
        "id": "GVs94qY2jPOb",
        "colab": {
          "base_uri": "https://localhost:8080/",
          "height": 404
        },
        "outputId": "4787fa50-379c-431c-df34-d82fc082460c"
      },
      "outputs": [
        {
          "output_type": "display_data",
          "data": {
            "image/png": "[encoded data removed]",
            "text/plain": [
              "<Figure size 720x432 with 1 Axes>"
            ]
          },
          "metadata": {
            "needs_background": "light"
          }
        }
      ],
      "source": [
        " plt.figure(figsize=(10,6)) \n",
        " plt.scatter(y_test, y_pred_NE)\n",
        " plt.xlabel('Actual Values ')\n",
        " plt.ylabel('Predicted Values')\n",
        " plt.title('Normal Equation')\n",
        " plt.show();"
      ]
    },
    {
      "cell_type": "markdown",
      "metadata": {
        "id": "i3ofJxdUdnN6"
      },
      "source": [
        "### Regularized Normal Equations\n",
        "\n",
        "Recall that our training features array `X_train` has 66 rows and 73 columns, thus wider than it is tall. This suggests the regularized normal equations might perform better.\n",
        "\n",
        "$$\\boldsymbol{\\theta} = (X^T \\cdot X + \\lambda m I)^{-1} \\cdot X^T \\cdot Y$$\n",
        "\n",
        "Here, $\\lambda$ is the regularization parameter and $m$ is the number of rows in $X$.\n",
        "\n",
        "5. Complete the `regularized_normal_equations_solution()` equation."
      ]
    },
    {
      "cell_type": "code",
      "execution_count": 322,
      "metadata": {
        "id": "nFY5YO-IZ2e7"
      },
      "outputs": [],
      "source": [
        "def regularized_normal_equations_solution(X, y, regularization_param):\n",
        "    X_with_ones = np.hstack([np.ones([len(X), 1]), X])\n",
        "    return np.dot(\n",
        "        np.linalg.inv(np.dot(X_with_ones.T, X_with_ones) + regularization_param * len(X) * np.identity(X_with_ones.shape[1])), np.dot(X_with_ones.T, y))"
      ]
    },
    {
      "cell_type": "markdown",
      "metadata": {
        "id": "ZakKwXBMjPOc"
      },
      "source": [
        "6. Complete the code snippet below to calculate the MSE and R^2 values for each of the potential regularization parameters to determine the optimal.\n",
        "\n",
        "    Does it outperform the standard normal equation?"
      ]
    },
    {
      "cell_type": "code",
      "execution_count": 323,
      "metadata": {
        "id": "bIrbJkOydnN9",
        "colab": {
          "base_uri": "https://localhost:8080/"
        },
        "outputId": "d19abea7-b31b-4bdf-f432-a8e5db1e771d"
      },
      "outputs": [
        {
          "output_type": "stream",
          "name": "stdout",
          "text": [
            "For regularization parameter 0.001\n",
            "RNE Mean Squared Error:  5920.159564029449\n",
            "RNE R^2 Score:  0.6158772697470027\n",
            "For regularization parameter 0.002\n",
            "RNE Mean Squared Error:  5789.114544987607\n",
            "RNE R^2 Score:  0.6243799747764847\n",
            "For regularization parameter 0.003\n",
            "RNE Mean Squared Error:  5715.482554459258\n",
            "RNE R^2 Score:  0.6291575016201127\n",
            "For regularization parameter 0.004\n",
            "RNE Mean Squared Error:  5682.2396324633555\n",
            "RNE R^2 Score:  0.6313144303009272\n",
            "For regularization parameter 0.005\n",
            "RNE Mean Squared Error:  5674.866662818309\n",
            "RNE R^2 Score:  0.6317928169389049\n",
            "For regularization parameter 0.006\n",
            "RNE Mean Squared Error:  5682.3563700743225\n",
            "RNE R^2 Score:  0.6313068559155811\n",
            "For regularization parameter 0.007\n",
            "RNE Mean Squared Error:  5698.57797773518\n",
            "RNE R^2 Score:  0.6302543355981152\n",
            "For regularization parameter 0.008\n",
            "RNE Mean Squared Error:  5719.786363627019\n",
            "RNE R^2 Score:  0.6288782539224571\n",
            "For regularization parameter 0.009000000000000001\n",
            "RNE Mean Squared Error:  5745.2324440993625\n",
            "RNE R^2 Score:  0.62722721431794\n",
            "For regularization parameter 0.01\n",
            "RNE Mean Squared Error:  5773.615608227457\n",
            "RNE R^2 Score:  0.6253856054254455\n"
          ]
        }
      ],
      "source": [
        "regularization_params = np.linspace(0.001, 0.01, 10)\n",
        "\n",
        "for regularization_param in regularization_params:\n",
        "    theta_temp = regularized_normal_equations_solution(X_train, y_train, regularization_param)\n",
        "    y_pred_N_reg = h(theta_temp, np.hstack([np.ones([len(X_test), 1]), X_test]))\n",
        "    y_pred_N_reg[y_pred_N_reg < 0] = 0\n",
        "    print('For regularization parameter', regularization_param)\n",
        "    # Print the MSE and R^2 value\n",
        "    print('RNE Mean Squared Error: ', mean_squared_error(y_test, y_pred_N_reg))\n",
        "    print('RNE R^2 Score: ', r2_score(y_test, y_pred_N_reg))"
      ]
    },
    {
      "cell_type": "markdown",
      "metadata": {
        "id": "o5uD0DVidnN_"
      },
      "source": [
        "## Task 6: Non-linear Regression Models (GLM, DT) "
      ]
    },
    {
      "cell_type": "markdown",
      "metadata": {
        "id": "Yk0Be7SQdnN_"
      },
      "source": [
        "### Generalized Linear Models\n",
        "\n",
        "Statsmodels has a `GLM` class for Generalized Linear Models. Here we import and build the model.\n",
        "\n",
        "The `GLM` class takes the training labels, training features, and family, which is the family of distributions to which we assume our prediciton errors belong. Some potentially good choices for family include Gaussian, Gamma, and Logit.\n",
        "\n",
        "1. Run the code below and review the results."
      ]
    },
    {
      "cell_type": "code",
      "execution_count": 324,
      "metadata": {
        "id": "cxUdD_LhdnN_",
        "colab": {
          "base_uri": "https://localhost:8080/"
        },
        "outputId": "94be38c6-0522-4f93-c634-c83fceaa1587"
      },
      "outputs": [
        {
          "output_type": "stream",
          "name": "stdout",
          "text": [
            "                 Generalized Linear Model Regression Results                  \n",
            "==============================================================================\n",
            "Dep. Variable:                      y   No. Observations:                   66\n",
            "Model:                            GLM   Df Residuals:                       35\n",
            "Model Family:                Gaussian   Df Model:                           30\n",
            "Link Function:               identity   Scale:                          17311.\n",
            "Method:                          IRLS   Log-Likelihood:                -394.77\n",
            "Date:                Wed, 09 Feb 2022   Deviance:                   6.0590e+05\n",
            "Time:                        21:02:07   Pearson chi2:                 6.06e+05\n",
            "No. Iterations:                     3                                         \n",
            "Covariance Type:            nonrobust                                         \n",
            "==============================================================================\n",
            "                 coef    std err          z      P>|z|      [0.025      0.975]\n",
            "------------------------------------------------------------------------------\n",
            "const         85.6077     49.748      1.721      0.085     -11.897     183.113\n",
            "x1         -8.167e-14   9.44e-14     -0.865      0.387   -2.67e-13    1.03e-13\n",
            "x2         -7.593e-14   1.06e-13     -0.714      0.476   -2.85e-13    1.33e-13\n",
            "x3             7.0000    186.072      0.038      0.970    -357.694     371.694\n",
            "x4             7.0000    263.146      0.027      0.979    -508.756     522.756\n",
            "x5           -19.1519     79.194     -0.242      0.809    -174.368     136.065\n",
            "x6            99.2903     55.613      1.785      0.074      -9.710     208.290\n",
            "x7           -31.3196     64.446     -0.486      0.627    -157.632      94.993\n",
            "x8         -2.601e-13    1.5e-13     -1.734      0.083   -5.54e-13     3.4e-14\n",
            "x9           -56.8655    132.073     -0.431      0.667    -315.723     201.992\n",
            "x10          -16.4954     70.523     -0.234      0.815    -154.718     121.727\n",
            "x11           -6.8808     90.627     -0.076      0.939    -184.506     170.745\n",
            "x12            4.2553     72.879      0.058      0.953    -138.584     147.095\n",
            "x13          155.3578     52.741      2.946      0.003      51.988     258.727\n",
            "x14           -8.3761    120.323     -0.070      0.945    -244.204     227.452\n",
            "x15        -4.971e-14   6.71e-14     -0.740      0.459   -1.81e-13    8.19e-14\n",
            "x16         4.659e-14    7.6e-14      0.613      0.540   -1.02e-13    1.96e-13\n",
            "x17           89.1291     41.959      2.124      0.034       6.890     171.368\n",
            "x18          163.5645     57.666      2.836      0.005      50.541     276.588\n",
            "x19         3.544e-15   3.73e-14      0.095      0.924   -6.95e-14    7.66e-14\n",
            "x20        -3.363e-14   8.17e-14     -0.412      0.681   -1.94e-13    1.27e-13\n",
            "x21        -8.699e-15   3.58e-14     -0.243      0.808   -7.89e-14    6.15e-14\n",
            "x22          -54.3798     76.073     -0.715      0.475    -203.480      94.720\n",
            "x23        -4.402e-14   2.01e-13     -0.219      0.827   -4.38e-13     3.5e-13\n",
            "x24          -45.8038    101.623     -0.451      0.652    -244.980     153.373\n",
            "x25          1.34e-14   7.31e-14      0.183      0.855    -1.3e-13    1.57e-13\n",
            "x26        -2.643e-15   2.89e-15     -0.913      0.361   -8.32e-15    3.03e-15\n",
            "x27         3.415e-15   4.09e-15      0.836      0.403   -4.59e-15    1.14e-14\n",
            "x28        -9.391e-17   2.81e-15     -0.033      0.973   -5.61e-15    5.42e-15\n",
            "x29         8.732e-16   3.83e-15      0.228      0.820   -6.63e-15    8.38e-15\n",
            "x30        -1.655e-18   3.66e-18     -0.452      0.651   -8.83e-18    5.52e-18\n",
            "x31            7.0978    152.114      0.047      0.963    -291.039     305.235\n",
            "x32          -42.0268    118.975     -0.353      0.724    -275.213     191.159\n",
            "x33          -42.3038     57.524     -0.735      0.462    -155.049      70.441\n",
            "x34           -7.7814     48.018     -0.162      0.871    -101.895      86.332\n",
            "x35                 0          0        nan        nan           0           0\n",
            "x36                 0          0        nan        nan           0           0\n",
            "x37                 0          0        nan        nan           0           0\n",
            "x38          -74.4355     57.666     -1.291      0.197    -187.459      38.588\n",
            "x39                 0          0        nan        nan           0           0\n",
            "x40                 0          0        nan        nan           0           0\n",
            "x41          -44.1514    154.418     -0.286      0.775    -346.805     258.502\n",
            "x42                 0          0        nan        nan           0           0\n",
            "x43         -148.5443     57.905     -2.565      0.010    -262.037     -35.052\n",
            "x44         -111.8025    101.604     -1.100      0.271    -310.943      87.338\n",
            "x45                 0          0        nan        nan           0           0\n",
            "x46           -8.0760    101.112     -0.080      0.936    -206.252     190.100\n",
            "x47          -11.0760    101.112     -0.110      0.913    -209.252     187.100\n",
            "x48          -35.2279    135.280     -0.260      0.795    -300.372     229.917\n",
            "x49                 0          0        nan        nan           0           0\n",
            "x50          -82.8025    101.604     -0.815      0.415    -281.943     116.338\n",
            "x51          -19.9608     60.531     -0.330      0.742    -138.599      98.678\n",
            "x52          -42.7115     57.374     -0.744      0.457    -155.162      69.739\n",
            "x53          309.2103    126.686      2.441      0.015      60.910     557.511\n",
            "x54          374.9313    139.085      2.696      0.007     102.330     647.533\n",
            "x55                 0          0        nan        nan           0           0\n",
            "x56                 0          0        nan        nan           0           0\n",
            "x57                 0          0        nan        nan           0           0\n",
            "x58                 0          0        nan        nan           0           0\n",
            "x59                 0          0        nan        nan           0           0\n",
            "x60          -62.9454    155.758     -0.404      0.686    -368.226     242.335\n",
            "x61                 0          0        nan        nan           0           0\n",
            "x62                 0          0        nan        nan           0           0\n",
            "x63                 0          0        nan        nan           0           0\n",
            "x64          -42.3038     57.524     -0.735      0.462    -155.049      70.441\n",
            "x65                 0          0        nan        nan           0           0\n",
            "x66                 0          0        nan        nan           0           0\n",
            "x67          -72.2316     54.034     -1.337      0.181    -178.137      33.674\n",
            "x68           80.2103    126.686      0.633      0.527    -168.090     328.511\n",
            "x69          -45.8038    101.623     -0.451      0.652    -244.980     153.373\n",
            "x70                 0          0        nan        nan           0           0\n",
            "x71         -143.8025    101.604     -1.415      0.157    -342.943      55.338\n",
            "x72                 0          0        nan        nan           0           0\n",
            "x73                 0          0        nan        nan           0           0\n",
            "==============================================================================\n"
          ]
        },
        {
          "output_type": "stream",
          "name": "stderr",
          "text": [
            "/usr/local/lib/python3.7/dist-packages/statsmodels/base/model.py:1294: RuntimeWarning: invalid value encountered in true_divide\n",
            "  return self.params / self.bse\n"
          ]
        }
      ],
      "source": [
        "import statsmodels.api as sm\n",
        "X_train_with_ones = sm.add_constant(X_train)\n",
        "glm = sm.GLM(y_train, X_train_with_ones, family=sm.families.Gaussian())\n",
        "glm_results = glm.fit()\n",
        "print(glm_results.summary())"
      ]
    },
    {
      "cell_type": "markdown",
      "metadata": {
        "id": "7IAchWHodnOB"
      },
      "source": [
        "2. Use the model created above to generate predictions."
      ]
    },
    {
      "cell_type": "code",
      "execution_count": 325,
      "metadata": {
        "id": "XLTsITX7dnOC"
      },
      "outputs": [],
      "source": [
        "#X_test_with_ones = sm.add_constant(X_test)\n",
        "y_pred_GLM = glm_results.predict(X_test_with_ones)\n",
        "y_pred_GLM[y_pred_GLM < 0] = 0"
      ]
    },
    {
      "cell_type": "markdown",
      "metadata": {
        "id": "qobX3rX1jPOc"
      },
      "source": [
        "3. Calculate the MSE and R^2 score."
      ]
    },
    {
      "cell_type": "code",
      "execution_count": 326,
      "metadata": {
        "id": "FeWmCg9kjPOc",
        "colab": {
          "base_uri": "https://localhost:8080/"
        },
        "outputId": "4466654b-be07-4660-e25d-6985930eb11a"
      },
      "outputs": [
        {
          "output_type": "stream",
          "name": "stdout",
          "text": [
            "GLM Mean Squared Error:  6199.3036644195145\n",
            "GLM R^2 Score:  0.5977653265103127\n"
          ]
        }
      ],
      "source": [
        "print('GLM Mean Squared Error: ', mean_squared_error(y_test, y_pred_GLM))\n",
        "print('GLM R^2 Score: ', r2_score(y_test, y_pred_GLM))"
      ]
    },
    {
      "cell_type": "markdown",
      "metadata": {
        "id": "nE7zL6nyjPOd"
      },
      "source": [
        "4. Make a plot showing both the true values (`y_test`) and the predicted values (`y_pred_GLM`)."
      ]
    },
    {
      "cell_type": "code",
      "execution_count": 327,
      "metadata": {
        "id": "cdi8RdcGjPOd",
        "colab": {
          "base_uri": "https://localhost:8080/",
          "height": 404
        },
        "outputId": "fe76dba1-326b-4906-d308-3516b3540156"
      },
      "outputs": [
        {
          "output_type": "display_data",
          "data": {
            "image/png": "[encoded data removed]",
            "text/plain": [
              "<Figure size 720x432 with 1 Axes>"
            ]
          },
          "metadata": {
            "needs_background": "light"
          }
        }
      ],
      "source": [
        " plt.figure(figsize=(10,6)) \n",
        " plt.scatter(y_test, y_pred_GLM)\n",
        " plt.xlabel('Actual Values ')\n",
        " plt.ylabel('Predicted Values')\n",
        " plt.title('GLM')\n",
        " plt.show();"
      ]
    },
    {
      "cell_type": "markdown",
      "metadata": {
        "id": "Vld0rNUcdnOG"
      },
      "source": [
        "### Random Forest Regression\n",
        "\n",
        "5. Use the `RandomForestRegressor` from scikit-learn to train a model.\n",
        "\n",
        "    The relevant parameters are the `max_depth` of the trees and the `random_state` (used so your code will always yield the same results).\n",
        "    \n",
        "    Note: we don't need to add a column of ones for non-linear models like Random Forests."
      ]
    },
    {
      "cell_type": "code",
      "execution_count": 328,
      "metadata": {
        "id": "EbxRUm3UdnOG",
        "colab": {
          "base_uri": "https://localhost:8080/"
        },
        "outputId": "cb90f125-ad37-4107-a799-99a227607b8d"
      },
      "outputs": [
        {
          "output_type": "execute_result",
          "data": {
            "text/plain": [
              "RandomForestRegressor(max_depth=5, random_state=0)"
            ]
          },
          "metadata": {},
          "execution_count": 328
        }
      ],
      "source": [
        "from sklearn.ensemble import RandomForestRegressor\n",
        "regr = RandomForestRegressor(max_depth=5, random_state=0)\n",
        "regr.fit(X_train, y_train)"
      ]
    },
    {
      "cell_type": "markdown",
      "metadata": {
        "id": "txWsxyxljPOd"
      },
      "source": [
        "6. Use the model created above to generate predictions."
      ]
    },
    {
      "cell_type": "code",
      "execution_count": 329,
      "metadata": {
        "id": "JQtwS7x5jPOd"
      },
      "outputs": [],
      "source": [
        "y_pred_RF = regr.predict(X_test)\n",
        "y_pred_RF[y_pred_RF < 0] = 0"
      ]
    },
    {
      "cell_type": "markdown",
      "metadata": {
        "id": "y6XVM7R3jPOd"
      },
      "source": [
        "7. Calculate the MSE and R^2 score."
      ]
    },
    {
      "cell_type": "code",
      "execution_count": 330,
      "metadata": {
        "id": "wP_z0WHUjPOd",
        "colab": {
          "base_uri": "https://localhost:8080/"
        },
        "outputId": "3e935dd5-20e2-4fbe-b1da-0e9297c7584b"
      },
      "outputs": [
        {
          "output_type": "stream",
          "name": "stdout",
          "text": [
            "RF Mean Squared Error:  4308.133720398956\n",
            "RF R^2 Score:  0.720471708730718\n"
          ]
        }
      ],
      "source": [
        "print('RF Mean Squared Error: ', mean_squared_error(y_test, y_pred_RF))\n",
        "print('RF R^2 Score: ', r2_score(y_test, y_pred_RF))"
      ]
    },
    {
      "cell_type": "markdown",
      "metadata": {
        "id": "taDUaqsMjPOd"
      },
      "source": [
        "8. Make a plot showing both the true values (`y_test`) and the predicted values (`y_pred_GLM`)."
      ]
    },
    {
      "cell_type": "code",
      "execution_count": 331,
      "metadata": {
        "id": "AxeIYjJmjPOf",
        "colab": {
          "base_uri": "https://localhost:8080/",
          "height": 404
        },
        "outputId": "e73e28b6-3868-4ac2-b4bc-c048e6a11560"
      },
      "outputs": [
        {
          "output_type": "display_data",
          "data": {
            "image/png": "[encoded data removed]",
            "text/plain": [
              "<Figure size 720x432 with 1 Axes>"
            ]
          },
          "metadata": {
            "needs_background": "light"
          }
        }
      ],
      "source": [
        " plt.figure(figsize=(10,6)) \n",
        " plt.scatter(y_test, y_pred_RF)\n",
        " plt.xlabel('Actual Values ')\n",
        " plt.ylabel('Predicted Values')\n",
        " plt.title('Random Forest')\n",
        " plt.show();"
      ]
    },
    {
      "cell_type": "markdown",
      "metadata": {
        "id": "bxx1JrikdnON"
      },
      "source": [
        "\n",
        "## Task 7: Compare the Models\n",
        "\n",
        "1. Populate the table below with the results of your experiments above. Which models performed best?"
      ]
    },
    {
      "cell_type": "markdown",
      "metadata": {
        "id": "44MPnft4dnON"
      },
      "source": [
        "|Method      |RMSE             |R2               |\n",
        "|------------|-----------------|-----------------|\n",
        "| Gradient Descent | 5702.2 | 0.630 |\n",
        "| Normal Equations | 6199.3 | 0.598 |\n",
        "| Regularized Normal Equations | 5674.9 | 0.632 |\n",
        "| Generalized Linear Model (GLM) | 6199.3 | 0.598 |\n",
        "| Random Forests | 4308.1 | 0.720 |\n"
      ]
    }
  ],
  "metadata": {
    "colab": {
      "collapsed_sections": [],
      "name": "week1_liveassignment.ipynb",
      "provenance": []
    },
    "kernelspec": {
      "display_name": "Python 3",
      "language": "python",
      "name": "python3"
    },
    "language_info": {
      "codemirror_mode": {
        "name": "ipython",
        "version": 3
      },
      "file_extension": ".py",
      "mimetype": "text/x-python",
      "name": "python",
      "nbconvert_exporter": "python",
      "pygments_lexer": "ipython3",
      "version": "3.8.5"
    }
  },
  "nbformat": 4,
  "nbformat_minor": 0
}
