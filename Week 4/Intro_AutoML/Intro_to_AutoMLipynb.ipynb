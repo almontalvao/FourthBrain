{
  "nbformat": 4,
  "nbformat_minor": 0,
  "metadata": {
    "colab": {
      "name": "Intro_to_AutoMLipynb.ipynb",
      "provenance": [],
      "collapsed_sections": []
    },
    "kernelspec": {
      "display_name": "Python 3",
      "name": "python3"
    },
    "widgets": {
      "application/vnd.jupyter.widget-state+json": {
        "7cf4f5ec4ef24574937620ffd4ec3e6e": {
          "model_module": "@jupyter-widgets/controls",
          "model_name": "HBoxModel",
          "state": {
            "_view_name": "HBoxView",
            "_dom_classes": [],
            "_model_name": "HBoxModel",
            "_view_module": "@jupyter-widgets/controls",
            "_model_module_version": "1.5.0",
            "_view_count": null,
            "_view_module_version": "1.5.0",
            "box_style": "",
            "layout": "IPY_MODEL_4e3aa4985dae4a7c8c79731b842fd376",
            "_model_module": "@jupyter-widgets/controls",
            "children": [
              "IPY_MODEL_60d35719245046e7b20e4054465e32f7",
              "IPY_MODEL_a8c6c40b9fe4426ea11c29503a81b27f"
            ]
          },
          "model_module_version": "1.5.0"
        },
        "4e3aa4985dae4a7c8c79731b842fd376": {
          "model_module": "@jupyter-widgets/base",
          "model_name": "LayoutModel",
          "state": {
            "_view_name": "LayoutView",
            "grid_template_rows": null,
            "right": null,
            "justify_content": null,
            "_view_module": "@jupyter-widgets/base",
            "overflow": null,
            "_model_module_version": "1.2.0",
            "_view_count": null,
            "flex_flow": null,
            "width": null,
            "min_width": null,
            "border": null,
            "align_items": null,
            "bottom": null,
            "_model_module": "@jupyter-widgets/base",
            "top": null,
            "grid_column": null,
            "overflow_y": null,
            "overflow_x": null,
            "grid_auto_flow": null,
            "grid_area": null,
            "grid_template_columns": null,
            "flex": null,
            "_model_name": "LayoutModel",
            "justify_items": null,
            "grid_row": null,
            "max_height": null,
            "align_content": null,
            "visibility": null,
            "align_self": null,
            "height": null,
            "min_height": null,
            "padding": null,
            "grid_auto_rows": null,
            "grid_gap": null,
            "max_width": null,
            "order": null,
            "_view_module_version": "1.2.0",
            "grid_template_areas": null,
            "object_position": null,
            "object_fit": null,
            "grid_auto_columns": null,
            "margin": null,
            "display": null,
            "left": null
          },
          "model_module_version": "1.2.0"
        },
        "60d35719245046e7b20e4054465e32f7": {
          "model_module": "@jupyter-widgets/controls",
          "model_name": "FloatProgressModel",
          "state": {
            "_view_name": "ProgressView",
            "style": "IPY_MODEL_1adb26590ea04f39b50a0cde10ee2c24",
            "_dom_classes": [],
            "description": "Optimization Progress: ",
            "_model_name": "FloatProgressModel",
            "bar_style": "",
            "max": 300,
            "_view_module": "@jupyter-widgets/controls",
            "_model_module_version": "1.5.0",
            "value": 300,
            "_view_count": null,
            "_view_module_version": "1.5.0",
            "orientation": "horizontal",
            "min": 0,
            "description_tooltip": null,
            "_model_module": "@jupyter-widgets/controls",
            "layout": "IPY_MODEL_77cf8489a85346b7aaffdb40ea86517e"
          },
          "model_module_version": "1.5.0"
        },
        "a8c6c40b9fe4426ea11c29503a81b27f": {
          "model_module": "@jupyter-widgets/controls",
          "model_name": "HTMLModel",
          "state": {
            "_view_name": "HTMLView",
            "style": "IPY_MODEL_9767b003bb954ae687b7577518346c2d",
            "_dom_classes": [],
            "description": "",
            "_model_name": "HTMLModel",
            "placeholder": "​",
            "_view_module": "@jupyter-widgets/controls",
            "_model_module_version": "1.5.0",
            "value": " 301/? [1:27:19&lt;00:00, 12.31s/pipeline]",
            "_view_count": null,
            "_view_module_version": "1.5.0",
            "description_tooltip": null,
            "_model_module": "@jupyter-widgets/controls",
            "layout": "IPY_MODEL_ffed6a95a57547c6bc76d619484517eb"
          },
          "model_module_version": "1.5.0"
        },
        "1adb26590ea04f39b50a0cde10ee2c24": {
          "model_module": "@jupyter-widgets/controls",
          "model_name": "ProgressStyleModel",
          "state": {
            "_view_name": "StyleView",
            "_model_name": "ProgressStyleModel",
            "description_width": "initial",
            "_view_module": "@jupyter-widgets/base",
            "_model_module_version": "1.5.0",
            "_view_count": null,
            "_view_module_version": "1.2.0",
            "bar_color": null,
            "_model_module": "@jupyter-widgets/controls"
          },
          "model_module_version": "1.5.0"
        },
        "77cf8489a85346b7aaffdb40ea86517e": {
          "model_module": "@jupyter-widgets/base",
          "model_name": "LayoutModel",
          "state": {
            "_view_name": "LayoutView",
            "grid_template_rows": null,
            "right": null,
            "justify_content": null,
            "_view_module": "@jupyter-widgets/base",
            "overflow": null,
            "_model_module_version": "1.2.0",
            "_view_count": null,
            "flex_flow": null,
            "width": null,
            "min_width": null,
            "border": null,
            "align_items": null,
            "bottom": null,
            "_model_module": "@jupyter-widgets/base",
            "top": null,
            "grid_column": null,
            "overflow_y": null,
            "overflow_x": null,
            "grid_auto_flow": null,
            "grid_area": null,
            "grid_template_columns": null,
            "flex": null,
            "_model_name": "LayoutModel",
            "justify_items": null,
            "grid_row": null,
            "max_height": null,
            "align_content": null,
            "visibility": null,
            "align_self": null,
            "height": null,
            "min_height": null,
            "padding": null,
            "grid_auto_rows": null,
            "grid_gap": null,
            "max_width": null,
            "order": null,
            "_view_module_version": "1.2.0",
            "grid_template_areas": null,
            "object_position": null,
            "object_fit": null,
            "grid_auto_columns": null,
            "margin": null,
            "display": null,
            "left": null
          },
          "model_module_version": "1.2.0"
        },
        "9767b003bb954ae687b7577518346c2d": {
          "model_module": "@jupyter-widgets/controls",
          "model_name": "DescriptionStyleModel",
          "state": {
            "_view_name": "StyleView",
            "_model_name": "DescriptionStyleModel",
            "description_width": "",
            "_view_module": "@jupyter-widgets/base",
            "_model_module_version": "1.5.0",
            "_view_count": null,
            "_view_module_version": "1.2.0",
            "_model_module": "@jupyter-widgets/controls"
          },
          "model_module_version": "1.5.0"
        },
        "ffed6a95a57547c6bc76d619484517eb": {
          "model_module": "@jupyter-widgets/base",
          "model_name": "LayoutModel",
          "state": {
            "_view_name": "LayoutView",
            "grid_template_rows": null,
            "right": null,
            "justify_content": null,
            "_view_module": "@jupyter-widgets/base",
            "overflow": null,
            "_model_module_version": "1.2.0",
            "_view_count": null,
            "flex_flow": null,
            "width": null,
            "min_width": null,
            "border": null,
            "align_items": null,
            "bottom": null,
            "_model_module": "@jupyter-widgets/base",
            "top": null,
            "grid_column": null,
            "overflow_y": null,
            "overflow_x": null,
            "grid_auto_flow": null,
            "grid_area": null,
            "grid_template_columns": null,
            "flex": null,
            "_model_name": "LayoutModel",
            "justify_items": null,
            "grid_row": null,
            "max_height": null,
            "align_content": null,
            "visibility": null,
            "align_self": null,
            "height": null,
            "min_height": null,
            "padding": null,
            "grid_auto_rows": null,
            "grid_gap": null,
            "max_width": null,
            "order": null,
            "_view_module_version": "1.2.0",
            "grid_template_areas": null,
            "object_position": null,
            "object_fit": null,
            "grid_auto_columns": null,
            "margin": null,
            "display": null,
            "left": null
          },
          "model_module_version": "1.2.0"
        },
        "87fb9fbd350a45e0b8fb260d1968cde1": {
          "model_module": "@jupyter-widgets/controls",
          "model_name": "HBoxModel",
          "model_module_version": "1.5.0",
          "state": {
            "_view_name": "HBoxView",
            "_dom_classes": [],
            "_model_name": "HBoxModel",
            "_view_module": "@jupyter-widgets/controls",
            "_model_module_version": "1.5.0",
            "_view_count": null,
            "_view_module_version": "1.5.0",
            "box_style": "",
            "layout": "IPY_MODEL_0f4828080b464d9381e363c4e5842f1e",
            "_model_module": "@jupyter-widgets/controls",
            "children": [
              "IPY_MODEL_e5598b1a7ac943b78df67b6df17d7b4f",
              "IPY_MODEL_f22ed77f8eda492e8e6c9e7015408555",
              "IPY_MODEL_34c8445e8c554aa5a7e662d6b1ab98d5"
            ]
          }
        },
        "0f4828080b464d9381e363c4e5842f1e": {
          "model_module": "@jupyter-widgets/base",
          "model_name": "LayoutModel",
          "model_module_version": "1.2.0",
          "state": {
            "_view_name": "LayoutView",
            "grid_template_rows": null,
            "right": null,
            "justify_content": null,
            "_view_module": "@jupyter-widgets/base",
            "overflow": null,
            "_model_module_version": "1.2.0",
            "_view_count": null,
            "flex_flow": null,
            "width": null,
            "min_width": null,
            "border": null,
            "align_items": null,
            "bottom": null,
            "_model_module": "@jupyter-widgets/base",
            "top": null,
            "grid_column": null,
            "overflow_y": null,
            "overflow_x": null,
            "grid_auto_flow": null,
            "grid_area": null,
            "grid_template_columns": null,
            "flex": null,
            "_model_name": "LayoutModel",
            "justify_items": null,
            "grid_row": null,
            "max_height": null,
            "align_content": null,
            "visibility": null,
            "align_self": null,
            "height": null,
            "min_height": null,
            "padding": null,
            "grid_auto_rows": null,
            "grid_gap": null,
            "max_width": null,
            "order": null,
            "_view_module_version": "1.2.0",
            "grid_template_areas": null,
            "object_position": null,
            "object_fit": null,
            "grid_auto_columns": null,
            "margin": null,
            "display": null,
            "left": null
          }
        },
        "e5598b1a7ac943b78df67b6df17d7b4f": {
          "model_module": "@jupyter-widgets/controls",
          "model_name": "HTMLModel",
          "model_module_version": "1.5.0",
          "state": {
            "_view_name": "HTMLView",
            "style": "IPY_MODEL_bcdb200911df4383b2dec31ce24829f5",
            "_dom_classes": [],
            "description": "",
            "_model_name": "HTMLModel",
            "placeholder": "​",
            "_view_module": "@jupyter-widgets/controls",
            "_model_module_version": "1.5.0",
            "value": "Optimization Progress: ",
            "_view_count": null,
            "_view_module_version": "1.5.0",
            "description_tooltip": null,
            "_model_module": "@jupyter-widgets/controls",
            "layout": "IPY_MODEL_be7b2849ef0a486890b6f5bc06967503"
          }
        },
        "f22ed77f8eda492e8e6c9e7015408555": {
          "model_module": "@jupyter-widgets/controls",
          "model_name": "FloatProgressModel",
          "model_module_version": "1.5.0",
          "state": {
            "_view_name": "ProgressView",
            "style": "IPY_MODEL_4f437d5340f54a8eabdf9581a1779031",
            "_dom_classes": [],
            "description": "",
            "_model_name": "FloatProgressModel",
            "bar_style": "",
            "max": 300,
            "_view_module": "@jupyter-widgets/controls",
            "_model_module_version": "1.5.0",
            "value": 300,
            "_view_count": null,
            "_view_module_version": "1.5.0",
            "orientation": "horizontal",
            "min": 0,
            "description_tooltip": null,
            "_model_module": "@jupyter-widgets/controls",
            "layout": "IPY_MODEL_508c8099087840eeb6501ad6f3e7740c"
          }
        },
        "34c8445e8c554aa5a7e662d6b1ab98d5": {
          "model_module": "@jupyter-widgets/controls",
          "model_name": "HTMLModel",
          "model_module_version": "1.5.0",
          "state": {
            "_view_name": "HTMLView",
            "style": "IPY_MODEL_ed6e528e98d14351b7d35077ea61e6e6",
            "_dom_classes": [],
            "description": "",
            "_model_name": "HTMLModel",
            "placeholder": "​",
            "_view_module": "@jupyter-widgets/controls",
            "_model_module_version": "1.5.0",
            "value": " 301/? [1:05:50&lt;00:00, 14.46s/pipeline]",
            "_view_count": null,
            "_view_module_version": "1.5.0",
            "description_tooltip": null,
            "_model_module": "@jupyter-widgets/controls",
            "layout": "IPY_MODEL_df0fa54360734bf5b7834f5ddf033ac5"
          }
        },
        "bcdb200911df4383b2dec31ce24829f5": {
          "model_module": "@jupyter-widgets/controls",
          "model_name": "DescriptionStyleModel",
          "model_module_version": "1.5.0",
          "state": {
            "_view_name": "StyleView",
            "_model_name": "DescriptionStyleModel",
            "description_width": "",
            "_view_module": "@jupyter-widgets/base",
            "_model_module_version": "1.5.0",
            "_view_count": null,
            "_view_module_version": "1.2.0",
            "_model_module": "@jupyter-widgets/controls"
          }
        },
        "be7b2849ef0a486890b6f5bc06967503": {
          "model_module": "@jupyter-widgets/base",
          "model_name": "LayoutModel",
          "model_module_version": "1.2.0",
          "state": {
            "_view_name": "LayoutView",
            "grid_template_rows": null,
            "right": null,
            "justify_content": null,
            "_view_module": "@jupyter-widgets/base",
            "overflow": null,
            "_model_module_version": "1.2.0",
            "_view_count": null,
            "flex_flow": null,
            "width": null,
            "min_width": null,
            "border": null,
            "align_items": null,
            "bottom": null,
            "_model_module": "@jupyter-widgets/base",
            "top": null,
            "grid_column": null,
            "overflow_y": null,
            "overflow_x": null,
            "grid_auto_flow": null,
            "grid_area": null,
            "grid_template_columns": null,
            "flex": null,
            "_model_name": "LayoutModel",
            "justify_items": null,
            "grid_row": null,
            "max_height": null,
            "align_content": null,
            "visibility": null,
            "align_self": null,
            "height": null,
            "min_height": null,
            "padding": null,
            "grid_auto_rows": null,
            "grid_gap": null,
            "max_width": null,
            "order": null,
            "_view_module_version": "1.2.0",
            "grid_template_areas": null,
            "object_position": null,
            "object_fit": null,
            "grid_auto_columns": null,
            "margin": null,
            "display": null,
            "left": null
          }
        },
        "4f437d5340f54a8eabdf9581a1779031": {
          "model_module": "@jupyter-widgets/controls",
          "model_name": "ProgressStyleModel",
          "model_module_version": "1.5.0",
          "state": {
            "_view_name": "StyleView",
            "_model_name": "ProgressStyleModel",
            "description_width": "",
            "_view_module": "@jupyter-widgets/base",
            "_model_module_version": "1.5.0",
            "_view_count": null,
            "_view_module_version": "1.2.0",
            "bar_color": null,
            "_model_module": "@jupyter-widgets/controls"
          }
        },
        "508c8099087840eeb6501ad6f3e7740c": {
          "model_module": "@jupyter-widgets/base",
          "model_name": "LayoutModel",
          "model_module_version": "1.2.0",
          "state": {
            "_view_name": "LayoutView",
            "grid_template_rows": null,
            "right": null,
            "justify_content": null,
            "_view_module": "@jupyter-widgets/base",
            "overflow": null,
            "_model_module_version": "1.2.0",
            "_view_count": null,
            "flex_flow": null,
            "width": null,
            "min_width": null,
            "border": null,
            "align_items": null,
            "bottom": null,
            "_model_module": "@jupyter-widgets/base",
            "top": null,
            "grid_column": null,
            "overflow_y": null,
            "overflow_x": null,
            "grid_auto_flow": null,
            "grid_area": null,
            "grid_template_columns": null,
            "flex": null,
            "_model_name": "LayoutModel",
            "justify_items": null,
            "grid_row": null,
            "max_height": null,
            "align_content": null,
            "visibility": null,
            "align_self": null,
            "height": null,
            "min_height": null,
            "padding": null,
            "grid_auto_rows": null,
            "grid_gap": null,
            "max_width": null,
            "order": null,
            "_view_module_version": "1.2.0",
            "grid_template_areas": null,
            "object_position": null,
            "object_fit": null,
            "grid_auto_columns": null,
            "margin": null,
            "display": null,
            "left": null
          }
        },
        "ed6e528e98d14351b7d35077ea61e6e6": {
          "model_module": "@jupyter-widgets/controls",
          "model_name": "DescriptionStyleModel",
          "model_module_version": "1.5.0",
          "state": {
            "_view_name": "StyleView",
            "_model_name": "DescriptionStyleModel",
            "description_width": "",
            "_view_module": "@jupyter-widgets/base",
            "_model_module_version": "1.5.0",
            "_view_count": null,
            "_view_module_version": "1.2.0",
            "_model_module": "@jupyter-widgets/controls"
          }
        },
        "df0fa54360734bf5b7834f5ddf033ac5": {
          "model_module": "@jupyter-widgets/base",
          "model_name": "LayoutModel",
          "model_module_version": "1.2.0",
          "state": {
            "_view_name": "LayoutView",
            "grid_template_rows": null,
            "right": null,
            "justify_content": null,
            "_view_module": "@jupyter-widgets/base",
            "overflow": null,
            "_model_module_version": "1.2.0",
            "_view_count": null,
            "flex_flow": null,
            "width": null,
            "min_width": null,
            "border": null,
            "align_items": null,
            "bottom": null,
            "_model_module": "@jupyter-widgets/base",
            "top": null,
            "grid_column": null,
            "overflow_y": null,
            "overflow_x": null,
            "grid_auto_flow": null,
            "grid_area": null,
            "grid_template_columns": null,
            "flex": null,
            "_model_name": "LayoutModel",
            "justify_items": null,
            "grid_row": null,
            "max_height": null,
            "align_content": null,
            "visibility": null,
            "align_self": null,
            "height": null,
            "min_height": null,
            "padding": null,
            "grid_auto_rows": null,
            "grid_gap": null,
            "max_width": null,
            "order": null,
            "_view_module_version": "1.2.0",
            "grid_template_areas": null,
            "object_position": null,
            "object_fit": null,
            "grid_auto_columns": null,
            "margin": null,
            "display": null,
            "left": null
          }
        }
      }
    }
  },
  "cells": [
    {
      "cell_type": "markdown",
      "metadata": {
        "id": "9F_yqSWA6eDE"
      },
      "source": [
        "# AutoML can be a strong tool to ensure optimal data models while scaling applications and to maintain repeatability.\n",
        "## In this session we explore the capabilities of AutoML through TPOT with possible extensions to autosklearn libraries.\n",
        "\n",
        "## The data set is a subsection of the data we worked on for the Live In class assignment for Classification (Machine Learning Engineer@Walmart Labs). We use 25k random samples from train and test data, respectively for this exercise (to demonstrate AutoML libraries).\n",
        "\n",
        "### Created by Sohini Roychowdhury for FourthBrain.ai"
      ]
    },
    {
      "cell_type": "markdown",
      "metadata": {
        "id": "ToenLVdS66oN"
      },
      "source": [
        "## Task 1, Data Loading: Load the data and create Training and Test data sets.\n",
        "We look first 25k samples from the training and test data sets from the Week 2 Live assignment. The data is pre-wrangled and one-hot encoded already."
      ]
    },
    {
      "cell_type": "code",
      "metadata": {
        "id": "-dqXIOAc64vU"
      },
      "source": [
        "## Importing required Libraries\n",
        "import os\n",
        "import tensorflow as tf\n",
        "import numpy as np\n",
        "import pandas as pd\n",
        "import seaborn as sns"
      ],
      "execution_count": null,
      "outputs": []
    },
    {
      "cell_type": "code",
      "metadata": {
        "id": "22SLxFTh7JIS",
        "outputId": "bfaf0a0c-bbcb-4849-c795-f8a26da8260b",
        "colab": {
          "base_uri": "https://localhost:8080/",
          "height": 270
        }
      },
      "source": [
        "#Read the training data\n",
        "url = 'https://raw.githubusercontent.com/FourthBrain/AutoMLA/main/Train_data.csv'\n",
        "df = pd.read_csv(url, error_bad_lines=False)\n",
        "df.head()"
      ],
      "execution_count": null,
      "outputs": [
        {
          "output_type": "execute_result",
          "data": {
            "text/html": [
              "\n",
              "  <div id=\"df-f3006d9b-80d5-49a0-8820-8a6955c403c4\">\n",
              "    <div class=\"colab-df-container\">\n",
              "      <div>\n",
              "<style scoped>\n",
              "    .dataframe tbody tr th:only-of-type {\n",
              "        vertical-align: middle;\n",
              "    }\n",
              "\n",
              "    .dataframe tbody tr th {\n",
              "        vertical-align: top;\n",
              "    }\n",
              "\n",
              "    .dataframe thead th {\n",
              "        text-align: right;\n",
              "    }\n",
              "</style>\n",
              "<table border=\"1\" class=\"dataframe\">\n",
              "  <thead>\n",
              "    <tr style=\"text-align: right;\">\n",
              "      <th></th>\n",
              "      <th>NumOfEventsInJourney</th>\n",
              "      <th>NumSessions</th>\n",
              "      <th>interactionTime</th>\n",
              "      <th>maxPrice</th>\n",
              "      <th>minPrice</th>\n",
              "      <th>NumCart</th>\n",
              "      <th>NumView</th>\n",
              "      <th>InsessionCart</th>\n",
              "      <th>InsessionView</th>\n",
              "      <th>year</th>\n",
              "      <th>month</th>\n",
              "      <th>weekday</th>\n",
              "      <th>timeOfDay</th>\n",
              "      <th>Weekend</th>\n",
              "      <th>Purchase</th>\n",
              "    </tr>\n",
              "  </thead>\n",
              "  <tbody>\n",
              "    <tr>\n",
              "      <th>0</th>\n",
              "      <td>1</td>\n",
              "      <td>1</td>\n",
              "      <td>0</td>\n",
              "      <td>50.63</td>\n",
              "      <td>50.63</td>\n",
              "      <td>0</td>\n",
              "      <td>0</td>\n",
              "      <td>0</td>\n",
              "      <td>0</td>\n",
              "      <td>2019</td>\n",
              "      <td>11</td>\n",
              "      <td>7</td>\n",
              "      <td>2</td>\n",
              "      <td>0</td>\n",
              "      <td>1</td>\n",
              "    </tr>\n",
              "    <tr>\n",
              "      <th>1</th>\n",
              "      <td>1</td>\n",
              "      <td>1</td>\n",
              "      <td>0</td>\n",
              "      <td>126.00</td>\n",
              "      <td>126.00</td>\n",
              "      <td>0</td>\n",
              "      <td>1</td>\n",
              "      <td>0</td>\n",
              "      <td>1</td>\n",
              "      <td>2019</td>\n",
              "      <td>11</td>\n",
              "      <td>5</td>\n",
              "      <td>1</td>\n",
              "      <td>0</td>\n",
              "      <td>0</td>\n",
              "    </tr>\n",
              "    <tr>\n",
              "      <th>2</th>\n",
              "      <td>1</td>\n",
              "      <td>1</td>\n",
              "      <td>0</td>\n",
              "      <td>334.60</td>\n",
              "      <td>334.60</td>\n",
              "      <td>0</td>\n",
              "      <td>1</td>\n",
              "      <td>0</td>\n",
              "      <td>1</td>\n",
              "      <td>2019</td>\n",
              "      <td>11</td>\n",
              "      <td>2</td>\n",
              "      <td>1</td>\n",
              "      <td>0</td>\n",
              "      <td>0</td>\n",
              "    </tr>\n",
              "    <tr>\n",
              "      <th>3</th>\n",
              "      <td>1</td>\n",
              "      <td>1</td>\n",
              "      <td>0</td>\n",
              "      <td>43.24</td>\n",
              "      <td>43.24</td>\n",
              "      <td>0</td>\n",
              "      <td>1</td>\n",
              "      <td>0</td>\n",
              "      <td>1</td>\n",
              "      <td>2019</td>\n",
              "      <td>11</td>\n",
              "      <td>3</td>\n",
              "      <td>5</td>\n",
              "      <td>0</td>\n",
              "      <td>0</td>\n",
              "    </tr>\n",
              "    <tr>\n",
              "      <th>4</th>\n",
              "      <td>1</td>\n",
              "      <td>1</td>\n",
              "      <td>0</td>\n",
              "      <td>421.38</td>\n",
              "      <td>421.38</td>\n",
              "      <td>0</td>\n",
              "      <td>1</td>\n",
              "      <td>0</td>\n",
              "      <td>2</td>\n",
              "      <td>2019</td>\n",
              "      <td>11</td>\n",
              "      <td>7</td>\n",
              "      <td>2</td>\n",
              "      <td>0</td>\n",
              "      <td>0</td>\n",
              "    </tr>\n",
              "  </tbody>\n",
              "</table>\n",
              "</div>\n",
              "      <button class=\"colab-df-convert\" onclick=\"convertToInteractive('df-f3006d9b-80d5-49a0-8820-8a6955c403c4')\"\n",
              "              title=\"Convert this dataframe to an interactive table.\"\n",
              "              style=\"display:none;\">\n",
              "        \n",
              "  <svg xmlns=\"http://www.w3.org/2000/svg\" height=\"24px\"viewBox=\"0 0 24 24\"\n",
              "       width=\"24px\">\n",
              "    <path d=\"M0 0h24v24H0V0z\" fill=\"none\"/>\n",
              "    <path d=\"M18.56 5.44l.94 2.06.94-2.06 2.06-.94-2.06-.94-.94-2.06-.94 2.06-2.06.94zm-11 1L8.5 8.5l.94-2.06 2.06-.94-2.06-.94L8.5 2.5l-.94 2.06-2.06.94zm10 10l.94 2.06.94-2.06 2.06-.94-2.06-.94-.94-2.06-.94 2.06-2.06.94z\"/><path d=\"M17.41 7.96l-1.37-1.37c-.4-.4-.92-.59-1.43-.59-.52 0-1.04.2-1.43.59L10.3 9.45l-7.72 7.72c-.78.78-.78 2.05 0 2.83L4 21.41c.39.39.9.59 1.41.59.51 0 1.02-.2 1.41-.59l7.78-7.78 2.81-2.81c.8-.78.8-2.07 0-2.86zM5.41 20L4 18.59l7.72-7.72 1.47 1.35L5.41 20z\"/>\n",
              "  </svg>\n",
              "      </button>\n",
              "      \n",
              "  <style>\n",
              "    .colab-df-container {\n",
              "      display:flex;\n",
              "      flex-wrap:wrap;\n",
              "      gap: 12px;\n",
              "    }\n",
              "\n",
              "    .colab-df-convert {\n",
              "      background-color: #E8F0FE;\n",
              "      border: none;\n",
              "      border-radius: 50%;\n",
              "      cursor: pointer;\n",
              "      display: none;\n",
              "      fill: #1967D2;\n",
              "      height: 32px;\n",
              "      padding: 0 0 0 0;\n",
              "      width: 32px;\n",
              "    }\n",
              "\n",
              "    .colab-df-convert:hover {\n",
              "      background-color: #E2EBFA;\n",
              "      box-shadow: 0px 1px 2px rgba(60, 64, 67, 0.3), 0px 1px 3px 1px rgba(60, 64, 67, 0.15);\n",
              "      fill: #174EA6;\n",
              "    }\n",
              "\n",
              "    [theme=dark] .colab-df-convert {\n",
              "      background-color: #3B4455;\n",
              "      fill: #D2E3FC;\n",
              "    }\n",
              "\n",
              "    [theme=dark] .colab-df-convert:hover {\n",
              "      background-color: #434B5C;\n",
              "      box-shadow: 0px 1px 3px 1px rgba(0, 0, 0, 0.15);\n",
              "      filter: drop-shadow(0px 1px 2px rgba(0, 0, 0, 0.3));\n",
              "      fill: #FFFFFF;\n",
              "    }\n",
              "  </style>\n",
              "\n",
              "      <script>\n",
              "        const buttonEl =\n",
              "          document.querySelector('#df-f3006d9b-80d5-49a0-8820-8a6955c403c4 button.colab-df-convert');\n",
              "        buttonEl.style.display =\n",
              "          google.colab.kernel.accessAllowed ? 'block' : 'none';\n",
              "\n",
              "        async function convertToInteractive(key) {\n",
              "          const element = document.querySelector('#df-f3006d9b-80d5-49a0-8820-8a6955c403c4');\n",
              "          const dataTable =\n",
              "            await google.colab.kernel.invokeFunction('convertToInteractive',\n",
              "                                                     [key], {});\n",
              "          if (!dataTable) return;\n",
              "\n",
              "          const docLinkHtml = 'Like what you see? Visit the ' +\n",
              "            '<a target=\"_blank\" href=https://colab.research.google.com/notebooks/data_table.ipynb>data table notebook</a>'\n",
              "            + ' to learn more about interactive tables.';\n",
              "          element.innerHTML = '';\n",
              "          dataTable['output_type'] = 'display_data';\n",
              "          await google.colab.output.renderOutput(dataTable, element);\n",
              "          const docLink = document.createElement('div');\n",
              "          docLink.innerHTML = docLinkHtml;\n",
              "          element.appendChild(docLink);\n",
              "        }\n",
              "      </script>\n",
              "    </div>\n",
              "  </div>\n",
              "  "
            ],
            "text/plain": [
              "   NumOfEventsInJourney  NumSessions  ...  Weekend  Purchase\n",
              "0                     1            1  ...        0         1\n",
              "1                     1            1  ...        0         0\n",
              "2                     1            1  ...        0         0\n",
              "3                     1            1  ...        0         0\n",
              "4                     1            1  ...        0         0\n",
              "\n",
              "[5 rows x 15 columns]"
            ]
          },
          "metadata": {},
          "execution_count": 13
        }
      ]
    },
    {
      "cell_type": "code",
      "metadata": {
        "id": "sztUukLE7fgS",
        "outputId": "47a83ec1-bec7-40b8-dd02-b72a77b688cd",
        "colab": {
          "base_uri": "https://localhost:8080/"
        }
      },
      "source": [
        "X_train=df.iloc[:,:-1].values\n",
        "y_train=df.iloc[:,-1].values\n",
        "print(X_train.shape)"
      ],
      "execution_count": null,
      "outputs": [
        {
          "output_type": "stream",
          "name": "stdout",
          "text": [
            "(25000, 14)\n"
          ]
        }
      ]
    },
    {
      "cell_type": "code",
      "metadata": {
        "id": "2xG-LUZZ7s-5",
        "outputId": "9c60d463-0924-48bc-e62a-590420dbbf45",
        "colab": {
          "base_uri": "https://localhost:8080/",
          "height": 287
        }
      },
      "source": [
        "#Now read and create test data\n",
        "url_t = 'https://raw.githubusercontent.com/FourthBrain/AutoMLA/main/Test_data.csv'\n",
        "df_test = pd.read_csv(url_t, error_bad_lines=False)\n",
        "X_test=df_test.iloc[:,:-1].values\n",
        "y_test=df_test.iloc[:,-1].values\n",
        "print(X_test.shape)\n",
        "df_test.head()"
      ],
      "execution_count": null,
      "outputs": [
        {
          "output_type": "stream",
          "name": "stdout",
          "text": [
            "(25000, 14)\n"
          ]
        },
        {
          "output_type": "execute_result",
          "data": {
            "text/html": [
              "\n",
              "  <div id=\"df-b31272c2-67dc-461a-8407-b5a38f5285f6\">\n",
              "    <div class=\"colab-df-container\">\n",
              "      <div>\n",
              "<style scoped>\n",
              "    .dataframe tbody tr th:only-of-type {\n",
              "        vertical-align: middle;\n",
              "    }\n",
              "\n",
              "    .dataframe tbody tr th {\n",
              "        vertical-align: top;\n",
              "    }\n",
              "\n",
              "    .dataframe thead th {\n",
              "        text-align: right;\n",
              "    }\n",
              "</style>\n",
              "<table border=\"1\" class=\"dataframe\">\n",
              "  <thead>\n",
              "    <tr style=\"text-align: right;\">\n",
              "      <th></th>\n",
              "      <th>NumOfEventsInJourney</th>\n",
              "      <th>NumSessions</th>\n",
              "      <th>interactionTime</th>\n",
              "      <th>maxPrice</th>\n",
              "      <th>minPrice</th>\n",
              "      <th>NumCart</th>\n",
              "      <th>NumView</th>\n",
              "      <th>InsessionCart</th>\n",
              "      <th>InsessionView</th>\n",
              "      <th>year</th>\n",
              "      <th>month</th>\n",
              "      <th>weekday</th>\n",
              "      <th>timeOfDay</th>\n",
              "      <th>Weekend</th>\n",
              "      <th>Purchase</th>\n",
              "    </tr>\n",
              "  </thead>\n",
              "  <tbody>\n",
              "    <tr>\n",
              "      <th>0</th>\n",
              "      <td>2</td>\n",
              "      <td>1</td>\n",
              "      <td>30</td>\n",
              "      <td>242.99</td>\n",
              "      <td>242.99</td>\n",
              "      <td>0</td>\n",
              "      <td>2</td>\n",
              "      <td>0</td>\n",
              "      <td>4</td>\n",
              "      <td>2019</td>\n",
              "      <td>11</td>\n",
              "      <td>5</td>\n",
              "      <td>4</td>\n",
              "      <td>0</td>\n",
              "      <td>0</td>\n",
              "    </tr>\n",
              "    <tr>\n",
              "      <th>1</th>\n",
              "      <td>1</td>\n",
              "      <td>1</td>\n",
              "      <td>0</td>\n",
              "      <td>869.11</td>\n",
              "      <td>869.11</td>\n",
              "      <td>0</td>\n",
              "      <td>1</td>\n",
              "      <td>0</td>\n",
              "      <td>1</td>\n",
              "      <td>2019</td>\n",
              "      <td>11</td>\n",
              "      <td>6</td>\n",
              "      <td>3</td>\n",
              "      <td>0</td>\n",
              "      <td>0</td>\n",
              "    </tr>\n",
              "    <tr>\n",
              "      <th>2</th>\n",
              "      <td>1</td>\n",
              "      <td>1</td>\n",
              "      <td>0</td>\n",
              "      <td>715.33</td>\n",
              "      <td>715.33</td>\n",
              "      <td>1</td>\n",
              "      <td>0</td>\n",
              "      <td>1</td>\n",
              "      <td>0</td>\n",
              "      <td>2019</td>\n",
              "      <td>11</td>\n",
              "      <td>5</td>\n",
              "      <td>6</td>\n",
              "      <td>0</td>\n",
              "      <td>0</td>\n",
              "    </tr>\n",
              "    <tr>\n",
              "      <th>3</th>\n",
              "      <td>1</td>\n",
              "      <td>1</td>\n",
              "      <td>0</td>\n",
              "      <td>771.27</td>\n",
              "      <td>771.27</td>\n",
              "      <td>0</td>\n",
              "      <td>1</td>\n",
              "      <td>0</td>\n",
              "      <td>1</td>\n",
              "      <td>2019</td>\n",
              "      <td>11</td>\n",
              "      <td>5</td>\n",
              "      <td>3</td>\n",
              "      <td>0</td>\n",
              "      <td>0</td>\n",
              "    </tr>\n",
              "    <tr>\n",
              "      <th>4</th>\n",
              "      <td>1</td>\n",
              "      <td>1</td>\n",
              "      <td>0</td>\n",
              "      <td>15.42</td>\n",
              "      <td>15.42</td>\n",
              "      <td>0</td>\n",
              "      <td>1</td>\n",
              "      <td>0</td>\n",
              "      <td>1</td>\n",
              "      <td>2019</td>\n",
              "      <td>11</td>\n",
              "      <td>1</td>\n",
              "      <td>5</td>\n",
              "      <td>0</td>\n",
              "      <td>0</td>\n",
              "    </tr>\n",
              "  </tbody>\n",
              "</table>\n",
              "</div>\n",
              "      <button class=\"colab-df-convert\" onclick=\"convertToInteractive('df-b31272c2-67dc-461a-8407-b5a38f5285f6')\"\n",
              "              title=\"Convert this dataframe to an interactive table.\"\n",
              "              style=\"display:none;\">\n",
              "        \n",
              "  <svg xmlns=\"http://www.w3.org/2000/svg\" height=\"24px\"viewBox=\"0 0 24 24\"\n",
              "       width=\"24px\">\n",
              "    <path d=\"M0 0h24v24H0V0z\" fill=\"none\"/>\n",
              "    <path d=\"M18.56 5.44l.94 2.06.94-2.06 2.06-.94-2.06-.94-.94-2.06-.94 2.06-2.06.94zm-11 1L8.5 8.5l.94-2.06 2.06-.94-2.06-.94L8.5 2.5l-.94 2.06-2.06.94zm10 10l.94 2.06.94-2.06 2.06-.94-2.06-.94-.94-2.06-.94 2.06-2.06.94z\"/><path d=\"M17.41 7.96l-1.37-1.37c-.4-.4-.92-.59-1.43-.59-.52 0-1.04.2-1.43.59L10.3 9.45l-7.72 7.72c-.78.78-.78 2.05 0 2.83L4 21.41c.39.39.9.59 1.41.59.51 0 1.02-.2 1.41-.59l7.78-7.78 2.81-2.81c.8-.78.8-2.07 0-2.86zM5.41 20L4 18.59l7.72-7.72 1.47 1.35L5.41 20z\"/>\n",
              "  </svg>\n",
              "      </button>\n",
              "      \n",
              "  <style>\n",
              "    .colab-df-container {\n",
              "      display:flex;\n",
              "      flex-wrap:wrap;\n",
              "      gap: 12px;\n",
              "    }\n",
              "\n",
              "    .colab-df-convert {\n",
              "      background-color: #E8F0FE;\n",
              "      border: none;\n",
              "      border-radius: 50%;\n",
              "      cursor: pointer;\n",
              "      display: none;\n",
              "      fill: #1967D2;\n",
              "      height: 32px;\n",
              "      padding: 0 0 0 0;\n",
              "      width: 32px;\n",
              "    }\n",
              "\n",
              "    .colab-df-convert:hover {\n",
              "      background-color: #E2EBFA;\n",
              "      box-shadow: 0px 1px 2px rgba(60, 64, 67, 0.3), 0px 1px 3px 1px rgba(60, 64, 67, 0.15);\n",
              "      fill: #174EA6;\n",
              "    }\n",
              "\n",
              "    [theme=dark] .colab-df-convert {\n",
              "      background-color: #3B4455;\n",
              "      fill: #D2E3FC;\n",
              "    }\n",
              "\n",
              "    [theme=dark] .colab-df-convert:hover {\n",
              "      background-color: #434B5C;\n",
              "      box-shadow: 0px 1px 3px 1px rgba(0, 0, 0, 0.15);\n",
              "      filter: drop-shadow(0px 1px 2px rgba(0, 0, 0, 0.3));\n",
              "      fill: #FFFFFF;\n",
              "    }\n",
              "  </style>\n",
              "\n",
              "      <script>\n",
              "        const buttonEl =\n",
              "          document.querySelector('#df-b31272c2-67dc-461a-8407-b5a38f5285f6 button.colab-df-convert');\n",
              "        buttonEl.style.display =\n",
              "          google.colab.kernel.accessAllowed ? 'block' : 'none';\n",
              "\n",
              "        async function convertToInteractive(key) {\n",
              "          const element = document.querySelector('#df-b31272c2-67dc-461a-8407-b5a38f5285f6');\n",
              "          const dataTable =\n",
              "            await google.colab.kernel.invokeFunction('convertToInteractive',\n",
              "                                                     [key], {});\n",
              "          if (!dataTable) return;\n",
              "\n",
              "          const docLinkHtml = 'Like what you see? Visit the ' +\n",
              "            '<a target=\"_blank\" href=https://colab.research.google.com/notebooks/data_table.ipynb>data table notebook</a>'\n",
              "            + ' to learn more about interactive tables.';\n",
              "          element.innerHTML = '';\n",
              "          dataTable['output_type'] = 'display_data';\n",
              "          await google.colab.output.renderOutput(dataTable, element);\n",
              "          const docLink = document.createElement('div');\n",
              "          docLink.innerHTML = docLinkHtml;\n",
              "          element.appendChild(docLink);\n",
              "        }\n",
              "      </script>\n",
              "    </div>\n",
              "  </div>\n",
              "  "
            ],
            "text/plain": [
              "   NumOfEventsInJourney  NumSessions  ...  Weekend  Purchase\n",
              "0                     2            1  ...        0         0\n",
              "1                     1            1  ...        0         0\n",
              "2                     1            1  ...        0         0\n",
              "3                     1            1  ...        0         0\n",
              "4                     1            1  ...        0         0\n",
              "\n",
              "[5 rows x 15 columns]"
            ]
          },
          "metadata": {},
          "execution_count": 15
        }
      ]
    },
    {
      "cell_type": "markdown",
      "metadata": {
        "id": "zZYARfkm8ewN"
      },
      "source": [
        "# Task 2, Baselining: Apply Logistic Regression, Linear SVM and Random forest (as done in class) to get some baseline classification performances to classsify purchase vs non purchase records."
      ]
    },
    {
      "cell_type": "code",
      "metadata": {
        "id": "b0Nds24N8ubR"
      },
      "source": [
        "from sklearn.linear_model import LogisticRegression\n",
        "from sklearn.metrics import confusion_matrix\n",
        "from sklearn.metrics import accuracy_score as accuracy\n",
        "from sklearn.metrics import recall_score as recall\n",
        "from sklearn.metrics import precision_score as precision\n",
        "from sklearn.metrics import f1_score\n",
        "from sklearn.pipeline import make_pipeline\n",
        "from sklearn.preprocessing import StandardScaler\n",
        "from sklearn.svm import LinearSVC"
      ],
      "execution_count": null,
      "outputs": []
    },
    {
      "cell_type": "code",
      "metadata": {
        "id": "rc7P_cLE8z4l",
        "outputId": "6adc76a8-f6f0-4823-d42e-241ea59d8788",
        "colab": {
          "base_uri": "https://localhost:8080/"
        }
      },
      "source": [
        "#i. Balanced Logistic Regression\n",
        "regb = LogisticRegression(random_state=42, C=0.05,class_weight='balanced').fit(X_train, y_train)\n",
        "reg_predb = regb.predict(X_test)\n",
        "cmlog = confusion_matrix(y_test, reg_predb)\n",
        "acc   = accuracy(y_test, reg_predb)\n",
        "rec   = recall(y_test, reg_predb)\n",
        "prec  = precision(y_test, reg_predb)\n",
        "f1    = f1_score(y_test, reg_predb)\n",
        "### END CODE HERE ###\n",
        "# Print the metrics, display the confusion matrix, and visualize the model\n",
        "print(f'Accuracy = {acc}, Precision = {prec}, Recall = {rec}, F1-score = {f1}')\n",
        "print('Confusion Matrix is:')\n",
        "print(cmlog)"
      ],
      "execution_count": null,
      "outputs": [
        {
          "output_type": "stream",
          "name": "stdout",
          "text": [
            "Accuracy = 0.94348, Precision = 0.19660620245757754, Recall = 0.8936170212765957, F1-score = 0.32230215827338127\n",
            "Confusion Matrix is:\n",
            "[[23251  1373]\n",
            " [   40   336]]\n"
          ]
        }
      ]
    },
    {
      "cell_type": "code",
      "metadata": {
        "id": "QUQVHRGa9M5_",
        "outputId": "7dab540f-651c-4246-ef27-1d0f981f5349",
        "colab": {
          "base_uri": "https://localhost:8080/"
        }
      },
      "source": [
        "#ii. Linear SVM\n",
        "svmm = make_pipeline(StandardScaler(),LinearSVC(random_state=42, tol=1e-1,class_weight='balanced'))\n",
        "svmm.fit(X_train, y_train)\n",
        "svm_predb = svmm.predict(X_test)\n",
        "cms  = confusion_matrix(y_test, svm_predb)\n",
        "acc  = accuracy(y_test, svm_predb)\n",
        "rec  = recall(y_test, svm_predb)\n",
        "prec = precision(y_test, svm_predb)\n",
        "f1   = f1_score(y_test, svm_predb)\n",
        "### END CODE HERE ###\n",
        "# Print the metrics, display the confusion matrix, and visualize the model\n",
        "print(f'Accuracy = {acc}, Precision = {prec}, Recall = {rec}, F1-score = {f1}')\n",
        "print('Confusion Matrix is:')\n",
        "print(cms)"
      ],
      "execution_count": null,
      "outputs": [
        {
          "output_type": "stream",
          "name": "stdout",
          "text": [
            "Accuracy = 1.0, Precision = 1.0, Recall = 1.0, F1-score = 1.0\n",
            "Confusion Matrix is:\n",
            "[[24624     0]\n",
            " [    0   376]]\n"
          ]
        }
      ]
    },
    {
      "cell_type": "code",
      "metadata": {
        "id": "hfAJsw5_9kan",
        "outputId": "3e5c5133-7b37-4c28-c12b-be54c9f4820c",
        "colab": {
          "base_uri": "https://localhost:8080/"
        }
      },
      "source": [
        "#iii. Random Forest\n",
        "from sklearn.ensemble import RandomForestClassifier\n",
        "\n",
        "rf_model = RandomForestClassifier(random_state=1, max_depth=20)\n",
        "rf_model.fit(X_train, y_train)\n",
        "rf_pred = rf_model.predict(X_test)\n",
        "cmrf=confusion_matrix(y_test, rf_pred)\n",
        "acc  = accuracy(y_test, rf_pred)\n",
        "rec  = recall(y_test, rf_pred)\n",
        "prec = precision(y_test, rf_pred)\n",
        "f1   = f1_score(y_test, rf_pred)\n",
        "print(f'Accuracy = {acc}, Precision = {prec}, Recall = {rec}, F1-score = {f1}')\n",
        "print('Confusion Matrix is:')\n",
        "print(cmrf)"
      ],
      "execution_count": null,
      "outputs": [
        {
          "output_type": "stream",
          "name": "stdout",
          "text": [
            "Accuracy = 0.99868, Precision = 1.0, Recall = 0.9122340425531915, F1-score = 0.9541029207232268\n",
            "Confusion Matrix is:\n",
            "[[24624     0]\n",
            " [   33   343]]\n"
          ]
        }
      ]
    },
    {
      "cell_type": "markdown",
      "metadata": {
        "id": "Y0eMvVqEGuV0"
      },
      "source": [
        "# Task 3: Run AutoML using TPOT (Tree-based Pipeline Optimization Tool). Consider TPOT your Data Science Assistant.\n",
        "\n",
        "TPOT will automate the most tedious part of machine learning by intelligently exploring thousands of possible pipelines to find the best one for your data.\n",
        "\n",
        "[Docu](http://epistasislab.github.io/tpot/using/),\n",
        "[Github Code](https://github.com/EpistasisLab/tpot)\n",
        "\n",
        "[Paper] (https://academic.oup.com/bioinformatics/article/36/1/250/5511404)\n",
        "\n",
        "## Blog: https://machinelearningmastery.com/tpot-for-automated-machine-learning-in-python/"
      ]
    },
    {
      "cell_type": "markdown",
      "metadata": {
        "id": "ONJ7fd7sqciK"
      },
      "source": [
        "# Installation\n",
        "\n",
        "The notebook was created based on \n",
        "tpot 0.11.6"
      ]
    },
    {
      "cell_type": "code",
      "metadata": {
        "id": "0i3oHFF5qgGO",
        "outputId": "4b0b8350-9f11-4696-ff4d-b95261a74916",
        "colab": {
          "base_uri": "https://localhost:8080/"
        }
      },
      "source": [
        "!pip install tpot"
      ],
      "execution_count": null,
      "outputs": [
        {
          "output_type": "stream",
          "name": "stdout",
          "text": [
            "Requirement already satisfied: tpot in /usr/local/lib/python3.7/dist-packages (0.11.7)\n",
            "Requirement already satisfied: stopit>=1.1.1 in /usr/local/lib/python3.7/dist-packages (from tpot) (1.1.2)\n",
            "Requirement already satisfied: deap>=1.2 in /usr/local/lib/python3.7/dist-packages (from tpot) (1.3.1)\n",
            "Requirement already satisfied: update-checker>=0.16 in /usr/local/lib/python3.7/dist-packages (from tpot) (0.18.0)\n",
            "Requirement already satisfied: xgboost>=1.1.0 in /usr/local/lib/python3.7/dist-packages (from tpot) (1.5.2)\n",
            "Requirement already satisfied: pandas>=0.24.2 in /usr/local/lib/python3.7/dist-packages (from tpot) (1.3.5)\n",
            "Requirement already satisfied: tqdm>=4.36.1 in /usr/local/lib/python3.7/dist-packages (from tpot) (4.62.3)\n",
            "Requirement already satisfied: numpy>=1.16.3 in /usr/local/lib/python3.7/dist-packages (from tpot) (1.21.5)\n",
            "Requirement already satisfied: joblib>=0.13.2 in /usr/local/lib/python3.7/dist-packages (from tpot) (1.1.0)\n",
            "Requirement already satisfied: scipy>=1.3.1 in /usr/local/lib/python3.7/dist-packages (from tpot) (1.4.1)\n",
            "Requirement already satisfied: scikit-learn>=0.22.0 in /usr/local/lib/python3.7/dist-packages (from tpot) (1.0.2)\n",
            "Requirement already satisfied: python-dateutil>=2.7.3 in /usr/local/lib/python3.7/dist-packages (from pandas>=0.24.2->tpot) (2.8.2)\n",
            "Requirement already satisfied: pytz>=2017.3 in /usr/local/lib/python3.7/dist-packages (from pandas>=0.24.2->tpot) (2018.9)\n",
            "Requirement already satisfied: six>=1.5 in /usr/local/lib/python3.7/dist-packages (from python-dateutil>=2.7.3->pandas>=0.24.2->tpot) (1.15.0)\n",
            "Requirement already satisfied: threadpoolctl>=2.0.0 in /usr/local/lib/python3.7/dist-packages (from scikit-learn>=0.22.0->tpot) (3.1.0)\n",
            "Requirement already satisfied: requests>=2.3.0 in /usr/local/lib/python3.7/dist-packages (from update-checker>=0.16->tpot) (2.23.0)\n",
            "Requirement already satisfied: idna<3,>=2.5 in /usr/local/lib/python3.7/dist-packages (from requests>=2.3.0->update-checker>=0.16->tpot) (2.10)\n",
            "Requirement already satisfied: chardet<4,>=3.0.2 in /usr/local/lib/python3.7/dist-packages (from requests>=2.3.0->update-checker>=0.16->tpot) (3.0.4)\n",
            "Requirement already satisfied: urllib3!=1.25.0,!=1.25.1,<1.26,>=1.21.1 in /usr/local/lib/python3.7/dist-packages (from requests>=2.3.0->update-checker>=0.16->tpot) (1.24.3)\n",
            "Requirement already satisfied: certifi>=2017.4.17 in /usr/local/lib/python3.7/dist-packages (from requests>=2.3.0->update-checker>=0.16->tpot) (2021.10.8)\n"
          ]
        }
      ]
    },
    {
      "cell_type": "code",
      "metadata": {
        "id": "UInC289AuB75"
      },
      "source": [
        "# ignore some annoying warnings for demonstrating auto-sklearn \n",
        "# shouldn't be done in real production\n",
        "np.warnings.filterwarnings('ignore')"
      ],
      "execution_count": null,
      "outputs": []
    },
    {
      "cell_type": "markdown",
      "metadata": {
        "id": "0JUWCq3vsE8P"
      },
      "source": [
        "# Task 3a.\n",
        "\n",
        "We want to find the best classifier for the data set at hand.\n",
        "TPOT aids hyper-parameterization across the following class of classifiers:\n",
        "1. Naive Bayes\n",
        "2. Decision Trees\n",
        "3. RandomForestClassifier\n",
        "4. GradientBoostingClassifier\n",
        "5. KNeighborsClassifier\n",
        "6. Linear SVM\n",
        "7. Logistic Regression\n",
        "8. Xtreme Gradient Boosting\n",
        "\n",
        "Related Blog with description: https://towardsdatascience.com/tpot-automated-machine-learning-in-python-4c063b3e5de9"
      ]
    },
    {
      "cell_type": "code",
      "metadata": {
        "id": "DAoEV5boHiy6",
        "outputId": "1cc58c99-f138-47b1-f2b4-ca409e13a568",
        "colab": {
          "base_uri": "https://localhost:8080/"
        }
      },
      "source": [
        "from tpot import TPOTClassifier\n",
        "print('Training features shape: ', X_train.shape)\n",
        "print('Testing features shape:  ', X_test.shape)"
      ],
      "execution_count": null,
      "outputs": [
        {
          "output_type": "stream",
          "name": "stdout",
          "text": [
            "Training features shape:  (25000, 14)\n",
            "Testing features shape:   (25000, 14)\n"
          ]
        }
      ]
    },
    {
      "cell_type": "markdown",
      "metadata": {
        "id": "o53-HUHoa3w7"
      },
      "source": [
        "## The following prcess will take time (few hours), but you get a progress bar to follow time elapsed."
      ]
    },
    {
      "cell_type": "code",
      "metadata": {
        "id": "nlaiS3Ouq9Tm",
        "outputId": "8d97fa8b-6d19-4ad3-fba6-ad1824889e52",
        "colab": {
          "base_uri": "https://localhost:8080/",
          "height": 263,
          "referenced_widgets": [
            "87fb9fbd350a45e0b8fb260d1968cde1",
            "0f4828080b464d9381e363c4e5842f1e",
            "e5598b1a7ac943b78df67b6df17d7b4f",
            "f22ed77f8eda492e8e6c9e7015408555",
            "34c8445e8c554aa5a7e662d6b1ab98d5",
            "bcdb200911df4383b2dec31ce24829f5",
            "be7b2849ef0a486890b6f5bc06967503",
            "4f437d5340f54a8eabdf9581a1779031",
            "508c8099087840eeb6501ad6f3e7740c",
            "ed6e528e98d14351b7d35077ea61e6e6",
            "df0fa54360734bf5b7834f5ddf033ac5"
          ]
        }
      },
      "source": [
        "tpot = TPOTClassifier(generations=5, population_size=50, verbosity=2, random_state=42)\n",
        "tpot.fit(X_train, y_train)\n",
        "print(tpot.score(X_test, y_test))\n",
        "tpot.export('tpot_iris_pipeline.py')\n"
      ],
      "execution_count": null,
      "outputs": [
        {
          "output_type": "display_data",
          "data": {
            "application/vnd.jupyter.widget-view+json": {
              "model_id": "87fb9fbd350a45e0b8fb260d1968cde1",
              "version_minor": 0,
              "version_major": 2
            },
            "text/plain": [
              "Optimization Progress:   0%|          | 0/300 [00:00<?, ?pipeline/s]"
            ]
          },
          "metadata": {}
        },
        {
          "output_type": "stream",
          "name": "stdout",
          "text": [
            "\n",
            "Generation 1 - Current best internal CV score: 0.9998799999999999\n",
            "\n",
            "Generation 2 - Current best internal CV score: 0.9998799999999999\n",
            "\n",
            "Generation 3 - Current best internal CV score: 0.9998799999999999\n",
            "\n",
            "Generation 4 - Current best internal CV score: 0.9998799999999999\n",
            "\n",
            "Generation 5 - Current best internal CV score: 0.99992\n",
            "\n",
            "Best pipeline: RandomForestClassifier(PCA(input_matrix, iterated_power=4, svd_solver=randomized), bootstrap=False, criterion=gini, max_features=0.45, min_samples_leaf=8, min_samples_split=8, n_estimators=100)\n",
            "0.9998\n"
          ]
        }
      ]
    },
    {
      "cell_type": "markdown",
      "metadata": {
        "id": "mNUwJsUuBqSS"
      },
      "source": [
        "So the best classifier is SVM with C=15, tol=0.01, l2 penalty, This verifies our findings above!"
      ]
    },
    {
      "cell_type": "code",
      "metadata": {
        "id": "BAMO4KfA_r3D"
      },
      "source": [
        "from sklearn.pipeline import make_pipeline\n",
        "from tpot.builtins import StackingEstimator\n",
        "from tpot.export_utils import set_param_recursive\n",
        "from sklearn.tree import DecisionTreeClassifier\n",
        "exported_pipeline = make_pipeline(\n",
        "    StackingEstimator(estimator=LinearSVC(C=15, tol=0.01)),\n",
        "    DecisionTreeClassifier(max_depth=10, min_samples_leaf=3, min_samples_split=14)\n",
        ")\n",
        "# Fix random state for all the steps in exported pipeline\n",
        "set_param_recursive(exported_pipeline.steps, 'random_state', 1)\n",
        " \n",
        "exported_pipeline.fit(X_train, y_train)\n",
        "prediction = exported_pipeline.predict(X_test)"
      ],
      "execution_count": null,
      "outputs": []
    },
    {
      "cell_type": "code",
      "metadata": {
        "id": "vfw040OEBvfn",
        "outputId": "765bd812-08e3-4b27-b8db-a1921546b057",
        "colab": {
          "base_uri": "https://localhost:8080/"
        }
      },
      "source": [
        "cmtp=confusion_matrix(y_test, prediction)\n",
        "acc  = accuracy(y_test, prediction)\n",
        "rec  = recall(y_test, prediction)\n",
        "prec = precision(y_test, prediction)\n",
        "f1   = f1_score(y_test, prediction)\n",
        "print(f'Accuracy = {acc}, Precision = {prec}, Recall = {rec}, F1-score = {f1}')\n",
        "print('Confusion Matrix is:')\n",
        "print(cmtp)"
      ],
      "execution_count": null,
      "outputs": [
        {
          "output_type": "stream",
          "text": [
            "Accuracy = 0.99968, Precision = 1.0, Recall = 0.9787234042553191, F1-score = 0.989247311827957\n",
            "Confusion Matrix is:\n",
            "[[24624     0]\n",
            " [    8   368]]\n"
          ],
          "name": "stdout"
        }
      ]
    },
    {
      "cell_type": "markdown",
      "metadata": {
        "id": "d-FcFcozoMIp"
      },
      "source": [
        "So we see TPOT finds the best model and hyperparameters automatically!"
      ]
    },
    {
      "cell_type": "markdown",
      "metadata": {
        "id": "_X2Zjg11dGrv"
      },
      "source": [
        "# Task 3b\n",
        "\n",
        "To find the best selection of features for the given classification task"
      ]
    },
    {
      "cell_type": "code",
      "metadata": {
        "id": "XVCy1A8fn82z",
        "outputId": "7ad407d5-ee27-4af3-a2fc-2bad9ca128e0",
        "colab": {
          "base_uri": "https://localhost:8080/",
          "height": 564,
          "referenced_widgets": [
            "7cf4f5ec4ef24574937620ffd4ec3e6e",
            "4e3aa4985dae4a7c8c79731b842fd376",
            "60d35719245046e7b20e4054465e32f7",
            "a8c6c40b9fe4426ea11c29503a81b27f",
            "1adb26590ea04f39b50a0cde10ee2c24",
            "77cf8489a85346b7aaffdb40ea86517e",
            "9767b003bb954ae687b7577518346c2d",
            "ffed6a95a57547c6bc76d619484517eb"
          ]
        }
      },
      "source": [
        "from tpot.config import classifier_config_dict\n",
        "# add FeatureSetSelector into tpot configuration\n",
        "classifier_config_dict['tpot.builtins.FeatureSetSelector'] = {\n",
        "        'subset_list': ['https://raw.githubusercontent.com/FourthBrain/AutoMLA/main/test_feature.csv'],\n",
        "        'sel_subset': [0,1] # select only one feature set, a list of index of subset in the list above\n",
        "    #'sel_subset': list(combinations(range(3), 2)) # select two feature sets\n",
        "}\n",
        "\n",
        "tpot = TPOTClassifier(generations=5,\n",
        "                           population_size=50, verbosity=2,\n",
        "                           template='FeatureSetSelector-Transformer-Classifier',\n",
        "                           config_dict=classifier_config_dict)\n",
        "tpot.fit(X_train, y_train)"
      ],
      "execution_count": null,
      "outputs": [
        {
          "output_type": "display_data",
          "data": {
            "application/vnd.jupyter.widget-view+json": {
              "model_id": "7cf4f5ec4ef24574937620ffd4ec3e6e",
              "version_minor": 0,
              "version_major": 2
            },
            "text/plain": [
              "HBox(children=(FloatProgress(value=0.0, description='Optimization Progress', max=300.0, style=ProgressStyle(de…"
            ]
          },
          "metadata": {
            "tags": []
          }
        },
        {
          "output_type": "stream",
          "text": [
            "\r\n",
            "Generation 1 - Current best internal CV score: 0.9995200000000001\n",
            "\n",
            "Generation 2 - Current best internal CV score: 0.9995200000000001\n",
            "\n",
            "Generation 3 - Current best internal CV score: 0.9996\n",
            "\n",
            "Generation 4 - Current best internal CV score: 0.9996\n",
            "\n",
            "Generation 5 - Current best internal CV score: 0.99968\n",
            "\n",
            "Best pipeline: DecisionTreeClassifier(PCA(FeatureSetSelector(input_matrix, sel_subset=0, subset_list=https://raw.githubusercontent.com/FourthBrain/AutoMLA/main/test_feature.txt), iterated_power=4, svd_solver=randomized), criterion=entropy, max_depth=7, min_samples_leaf=2, min_samples_split=2)\n"
          ],
          "name": "stdout"
        },
        {
          "output_type": "execute_result",
          "data": {
            "text/plain": [
              "TPOTClassifier(config_dict={'sklearn.cluster.FeatureAgglomeration': {'affinity': ['euclidean',\n",
              "                                                                                  'l1',\n",
              "                                                                                  'l2',\n",
              "                                                                                  'manhattan',\n",
              "                                                                                  'cosine'],\n",
              "                                                                     'linkage': ['ward',\n",
              "                                                                                 'complete',\n",
              "                                                                                 'average']},\n",
              "                            'sklearn.decomposition.FastICA': {'tol': array([0.  , 0.05, 0.1 , 0.15, 0.2 , 0.25, 0.3 , 0.35, 0.4 , 0.45, 0.5 ,\n",
              "       0.55, 0.6 , 0.65, 0.7 , 0.75, 0.8 , 0.85, 0.9 , 0.95, 1.  ])},\n",
              "                            'sklearn.decomposition.PCA': {'iterated_power...\n",
              "               crossover_rate=0.1, cv=5, disable_update_check=False,\n",
              "               early_stop=None, generations=5, log_file=None,\n",
              "               max_eval_time_mins=5, max_time_mins=None, memory=None,\n",
              "               mutation_rate=0.9, n_jobs=1, offspring_size=None,\n",
              "               periodic_checkpoint_folder=None, population_size=50,\n",
              "               random_state=None, scoring=None, subsample=1.0,\n",
              "               template='FeatureSetSelector-Transformer-Classifier',\n",
              "               use_dask=False, verbosity=2, warm_start=False)"
            ]
          },
          "metadata": {
            "tags": []
          },
          "execution_count": 17
        }
      ]
    },
    {
      "cell_type": "markdown",
      "metadata": {
        "id": "8xniiuaFZDzo"
      },
      "source": [
        "Thus, if we had to select only one classifying dimension, the best solution would be by applying PCA and using the first component to classify!"
      ]
    },
    {
      "cell_type": "markdown",
      "metadata": {
        "id": "PpTBJPqJDs9m"
      },
      "source": [
        "## Other well known AutoML methods are autosklearn:\n",
        "[Code] https://colab.research.google.com/drive/1Au5sGCegoGLLxqrIs85GCCW0oWIHqwQw"
      ]
    }
  ]
}